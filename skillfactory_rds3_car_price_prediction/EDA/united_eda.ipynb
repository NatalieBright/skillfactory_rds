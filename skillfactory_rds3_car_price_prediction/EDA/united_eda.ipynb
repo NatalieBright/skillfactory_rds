{
 "cells": [
  {
   "cell_type": "markdown",
   "metadata": {},
   "source": [
    "# Import"
   ]
  },
  {
   "cell_type": "code",
   "execution_count": 1,
   "metadata": {},
   "outputs": [],
   "source": [
    "from datetime import datetime\n",
    "import json\n",
    "\n",
    "import numpy as np\n",
    "import pandas as pd\n",
    "\n",
    "pd.set_option('display.max_rows', 200)\n",
    "pd.set_option('display.max_columns', 50)\n",
    "\n",
    "import matplotlib.pyplot as plt\n",
    "%matplotlib inline\n",
    "import seaborn as sns"
   ]
  },
  {
   "cell_type": "markdown",
   "metadata": {},
   "source": [
    "# Input data"
   ]
  },
  {
   "cell_type": "code",
   "execution_count": 2,
   "metadata": {
    "scrolled": false
   },
   "outputs": [
    {
     "data": {
      "text/plain": [
       "test                      1\n",
       "style                   197\n",
       "body                     10\n",
       "color                    16\n",
       "fuel                      5\n",
       "model_date               41\n",
       "doors                     4\n",
       "production_date          51\n",
       "transmission              3\n",
       "engine_displacement      30\n",
       "engine_power             84\n",
       "mileage                2288\n",
       "drive_type                3\n",
       "wheel                     2\n",
       "condition                 1\n",
       "owners                    3\n",
       "vehicle_title             2\n",
       "features               4271\n",
       "price                  1310\n",
       "tax                      84\n",
       "tax_per_horse             8\n",
       "days_in_use              51\n",
       "mileage_per_day        4276\n",
       "dtype: int64"
      ]
     },
     "execution_count": 2,
     "metadata": {},
     "output_type": "execute_result"
    }
   ],
   "source": [
    "united = pd.read_csv('united_3.csv')\n",
    "train=united[united['test']==0]\n",
    "train = train.reset_index(drop=True)\n",
    "test=united[united['test']==1]\n",
    "test = test.reset_index(drop=True)\n",
    "\n",
    "train.nunique()"
   ]
  },
  {
   "cell_type": "markdown",
   "metadata": {},
   "source": [
    "Обработка признаков состояла следующим образом:\n",
    "\n",
    "- Сравнивались данные тренировочные и тестовые данные. Уникальные значения категориальных признаков, которых нет в тестовых данных удалялись из тренировочных данных\n",
    "\n",
    "- Попытались сократить количесво уникальных значений в категориальных признаках, где это было возможно.\n",
    "\n",
    "В итоге данные действия помогли сильно улучшить итоговый результат."
   ]
  },
  {
   "cell_type": "code",
   "execution_count": 3,
   "metadata": {},
   "outputs": [],
   "source": [
    "# Функция сравнивает уникальные значения признака из данных train и test.\n",
    "# После этого удаляет из данныех train те значения, которых нет в данных test.\n",
    "\n",
    "def drop_miss_value(df, column):\n",
    "    \n",
    "    drop_list = []\n",
    "\n",
    "    for cat in df[column].unique():\n",
    "        if cat in test[column].unique():\n",
    "            continue\n",
    "        else:\n",
    "            drop_list.append(cat)\n",
    "    print(drop_list)\n",
    "            \n",
    "    for date in drop_list:   \n",
    "        for idx in df[df[column]==date].index:\n",
    "            df.drop(idx, inplace=True)\n",
    "\n",
    "    df = df.reset_index(drop=True)\n",
    "    \n",
    "    return df"
   ]
  },
  {
   "cell_type": "code",
   "execution_count": 4,
   "metadata": {},
   "outputs": [],
   "source": [
    "# Функция выводит статистику признака\n",
    "\n",
    "def stat(column):\n",
    "    \n",
    "    display(train[column].value_counts())\n",
    "    display(train[column].nunique())\n",
    "    display(test[column].value_counts())\n",
    "    display(test[column].nunique())\n",
    "    \n",
    "    fig, axes = plt.subplots(2, figsize=(20,15))\n",
    "\n",
    "    sns.countplot(x=column, data=train, ax=axes[0])\n",
    "    sns.barplot(x=column, y='price', data=train, ax=axes[1])"
   ]
  },
  {
   "cell_type": "markdown",
   "metadata": {},
   "source": [
    "# body"
   ]
  },
  {
   "cell_type": "code",
   "execution_count": 5,
   "metadata": {},
   "outputs": [
    {
     "data": {
      "text/plain": [
       "седан           2951\n",
       "внедорожник     2593\n",
       "купе             337\n",
       "хэтчбек          315\n",
       "лифтбек          148\n",
       "универсал         77\n",
       "кабриолет         58\n",
       "родстер           22\n",
       "компактвэн         6\n",
       "купе-хардтоп       3\n",
       "Name: body, dtype: int64"
      ]
     },
     "metadata": {},
     "output_type": "display_data"
    },
    {
     "data": {
      "text/plain": [
       "10"
      ]
     },
     "metadata": {},
     "output_type": "display_data"
    },
    {
     "data": {
      "text/plain": [
       "внедорожник    1626\n",
       "седан          1595\n",
       "купе            214\n",
       "хэтчбек         199\n",
       "лифтбек         125\n",
       "универсал        46\n",
       "кабриолет        19\n",
       "родстер          10\n",
       "компактвэн        3\n",
       "Name: body, dtype: int64"
      ]
     },
     "metadata": {},
     "output_type": "display_data"
    },
    {
     "data": {
      "text/plain": [
       "9"
      ]
     },
     "metadata": {},
     "output_type": "display_data"
    },
    {
     "data": {
      "image/png": "[encoded data removed]",
      "text/plain": [
       "<Figure size 1440x1080 with 2 Axes>"
      ]
     },
     "metadata": {
      "needs_background": "light"
     },
     "output_type": "display_data"
    }
   ],
   "source": [
    "stat('body')"
   ]
  },
  {
   "cell_type": "markdown",
   "metadata": {},
   "source": [
    "Убирем категории которых нет в тестовом сете"
   ]
  },
  {
   "cell_type": "code",
   "execution_count": 6,
   "metadata": {},
   "outputs": [
    {
     "name": "stdout",
     "output_type": "stream",
     "text": [
      "['купе-хардтоп']\n"
     ]
    }
   ],
   "source": [
    "train = drop_miss_value(train, 'body')\n",
    "train = train.reset_index(drop=True)"
   ]
  },
  {
   "cell_type": "code",
   "execution_count": 7,
   "metadata": {},
   "outputs": [],
   "source": [
    "def body(row):\n",
    "    \n",
    "    if row == 'седан':\n",
    "        return 'body 1'\n",
    "    \n",
    "    elif row == 'купе':\n",
    "        return 'body 1'\n",
    "    \n",
    "    elif row == 'компактвэн':\n",
    "        return 'body 1'\n",
    "    \n",
    "    elif row == 'внедорожник':\n",
    "        return 'body 2'\n",
    "    \n",
    "    elif row == 'родстер':\n",
    "        return 'body 2'\n",
    "    \n",
    "    elif row == 'лифтбек':\n",
    "        return 'body 2'\n",
    "    \n",
    "    elif row == 'кабриолет':\n",
    "        return 'body 2'\n",
    "    \n",
    "    elif row == 'хэтчбек':\n",
    "        return 'body 3'\n",
    "    \n",
    "    elif row == 'универсал':\n",
    "        return 'body 4'\n",
    "    \n",
    "    else:\n",
    "        return row\n",
    "        \n",
    "train['body'] = train['body'].apply(body)\n",
    "test['body'] = test['body'].apply(body)"
   ]
  },
  {
   "cell_type": "markdown",
   "metadata": {},
   "source": [
    "# color"
   ]
  },
  {
   "cell_type": "code",
   "execution_count": 8,
   "metadata": {},
   "outputs": [
    {
     "data": {
      "text/plain": [
       "чёрный         2593\n",
       "белый          1105\n",
       "синий           827\n",
       "серый           757\n",
       "серебристый     414\n",
       "коричневый      252\n",
       "красный         196\n",
       "зелёный         102\n",
       "голубой          73\n",
       "бежевый          61\n",
       "пурпурный        38\n",
       "золотистый       35\n",
       "оранжевый        28\n",
       "фиолетовый       20\n",
       "жёлтый            5\n",
       "розовый           1\n",
       "Name: color, dtype: int64"
      ]
     },
     "metadata": {},
     "output_type": "display_data"
    },
    {
     "data": {
      "text/plain": [
       "16"
      ]
     },
     "metadata": {},
     "output_type": "display_data"
    },
    {
     "data": {
      "text/plain": [
       "чёрный         1395\n",
       "белый           767\n",
       "синий           510\n",
       "серый           453\n",
       "коричневый      216\n",
       "серебристый     191\n",
       "красный         115\n",
       "бежевый          46\n",
       "голубой          35\n",
       "зелёный          33\n",
       "оранжевый        27\n",
       "золотистый       23\n",
       "пурпурный        20\n",
       "фиолетовый        5\n",
       "жёлтый            1\n",
       "Name: color, dtype: int64"
      ]
     },
     "metadata": {},
     "output_type": "display_data"
    },
    {
     "data": {
      "text/plain": [
       "15"
      ]
     },
     "metadata": {},
     "output_type": "display_data"
    },
    {
     "data": {
      "image/png": "[encoded data removed]",
      "text/plain": [
       "<Figure size 1440x1080 with 2 Axes>"
      ]
     },
     "metadata": {
      "needs_background": "light"
     },
     "output_type": "display_data"
    }
   ],
   "source": [
    "stat('color')"
   ]
  },
  {
   "cell_type": "code",
   "execution_count": 9,
   "metadata": {
    "scrolled": true
   },
   "outputs": [
    {
     "name": "stdout",
     "output_type": "stream",
     "text": [
      "['розовый']\n"
     ]
    }
   ],
   "source": [
    "train = drop_miss_value(train, 'color')\n",
    "train = train.reset_index(drop=True)"
   ]
  },
  {
   "cell_type": "code",
   "execution_count": 10,
   "metadata": {},
   "outputs": [],
   "source": [
    "def color(row):\n",
    "    \n",
    "    if row == 'синий' or row == 'серый' or row == 'чёрный' or row == 'белый' or row == 'голубой' or row == 'коричневый':\n",
    "        return 'color 1'\n",
    "    \n",
    "    elif row == 'золотистый' or row == 'пурпурный' or row == 'серебристый' or row == 'фиолетовый':\n",
    "        return 'color 2'\n",
    "    \n",
    "    elif row == 'красный' or row == 'бежевый':\n",
    "        return 'color 3'\n",
    "    \n",
    "    elif row == 'жёлтый':\n",
    "        return 'color 4'\n",
    "    \n",
    "    elif  row == 'зелёный':\n",
    "        return 'color 5'\n",
    "\n",
    "    elif row == 'оранжевый':\n",
    "        return 'color 6'    \n",
    "    \n",
    "    else:\n",
    "        return row\n",
    "    \n",
    "train['color'] = train['color'].apply(color)\n",
    "test['color'] = test['color'].apply(color)"
   ]
  },
  {
   "cell_type": "markdown",
   "metadata": {},
   "source": [
    "# fuel"
   ]
  },
  {
   "cell_type": "code",
   "execution_count": 11,
   "metadata": {},
   "outputs": [
    {
     "data": {
      "text/plain": [
       "бензин        4471\n",
       "дизель        1995\n",
       "бензин-газ      21\n",
       "гибрид          14\n",
       "электро          5\n",
       "Name: fuel, dtype: int64"
      ]
     },
     "metadata": {},
     "output_type": "display_data"
    },
    {
     "data": {
      "text/plain": [
       "5"
      ]
     },
     "metadata": {},
     "output_type": "display_data"
    },
    {
     "data": {
      "text/plain": [
       "бензин     2471\n",
       "дизель     1358\n",
       "гибрид        7\n",
       "электро       1\n",
       "Name: fuel, dtype: int64"
      ]
     },
     "metadata": {},
     "output_type": "display_data"
    },
    {
     "data": {
      "text/plain": [
       "4"
      ]
     },
     "metadata": {},
     "output_type": "display_data"
    },
    {
     "data": {
      "image/png": "[encoded data removed]",
      "text/plain": [
       "<Figure size 1440x1080 with 2 Axes>"
      ]
     },
     "metadata": {
      "needs_background": "light"
     },
     "output_type": "display_data"
    }
   ],
   "source": [
    "stat('fuel')"
   ]
  },
  {
   "cell_type": "code",
   "execution_count": 12,
   "metadata": {},
   "outputs": [
    {
     "name": "stdout",
     "output_type": "stream",
     "text": [
      "['бензин-газ']\n"
     ]
    }
   ],
   "source": [
    "train = drop_miss_value(train, 'fuel')\n",
    "train = train.reset_index(drop=True)"
   ]
  },
  {
   "cell_type": "markdown",
   "metadata": {},
   "source": [
    "# model_date"
   ]
  },
  {
   "cell_type": "code",
   "execution_count": 13,
   "metadata": {
    "scrolled": false
   },
   "outputs": [
    {
     "data": {
      "text/plain": [
       "2010    704\n",
       "2008    619\n",
       "2013    509\n",
       "2011    451\n",
       "2006    427\n",
       "2017    419\n",
       "2003    379\n",
       "2014    356\n",
       "2007    354\n",
       "2015    337\n",
       "2012    321\n",
       "2005    251\n",
       "2009    210\n",
       "1995    209\n",
       "2001    130\n",
       "1999    123\n",
       "1987    114\n",
       "2018    103\n",
       "2000    100\n",
       "1998    100\n",
       "2019     79\n",
       "1990     72\n",
       "2004     28\n",
       "1982     24\n",
       "1994     19\n",
       "1986     11\n",
       "1981      9\n",
       "1977      5\n",
       "1937      5\n",
       "2002      4\n",
       "1949      2\n",
       "1975      2\n",
       "1988      2\n",
       "1976      1\n",
       "1968      1\n",
       "1972      1\n",
       "1966      1\n",
       "1992      1\n",
       "1965      1\n",
       "1936      1\n",
       "Name: model_date, dtype: int64"
      ]
     },
     "metadata": {},
     "output_type": "display_data"
    },
    {
     "data": {
      "text/plain": [
       "40"
      ]
     },
     "metadata": {},
     "output_type": "display_data"
    },
    {
     "data": {
      "text/plain": [
       "2013    380\n",
       "2011    373\n",
       "2009    359\n",
       "2010    308\n",
       "2007    296\n",
       "2015    285\n",
       "2014    267\n",
       "2012    215\n",
       "2006    210\n",
       "2008    191\n",
       "2016    161\n",
       "2018    125\n",
       "2017    122\n",
       "2005    116\n",
       "2003     89\n",
       "2002     54\n",
       "2001     45\n",
       "1995     44\n",
       "1999     35\n",
       "1998     33\n",
       "2000     33\n",
       "2019     26\n",
       "1987     18\n",
       "1990     13\n",
       "2004     12\n",
       "1982     11\n",
       "1994      8\n",
       "1981      3\n",
       "1986      3\n",
       "1977      1\n",
       "1975      1\n",
       "Name: model_date, dtype: int64"
      ]
     },
     "metadata": {},
     "output_type": "display_data"
    },
    {
     "data": {
      "text/plain": [
       "31"
      ]
     },
     "metadata": {},
     "output_type": "display_data"
    },
    {
     "data": {
      "image/png": "[encoded data removed]",
      "text/plain": [
       "<Figure size 1440x1080 with 2 Axes>"
      ]
     },
     "metadata": {
      "needs_background": "light"
     },
     "output_type": "display_data"
    }
   ],
   "source": [
    "stat('model_date')"
   ]
  },
  {
   "cell_type": "code",
   "execution_count": 14,
   "metadata": {},
   "outputs": [],
   "source": [
    "train['model_date'] = train['model_date'].apply(lambda x: 2014 if x==2104 else x)\n",
    "train['model_date'] = train['model_date'].apply(lambda x: 2012 if x==2102 else x)"
   ]
  },
  {
   "cell_type": "code",
   "execution_count": 15,
   "metadata": {},
   "outputs": [
    {
     "name": "stdout",
     "output_type": "stream",
     "text": [
      "[1976, 1972, 1937, 1936, 1968, 1966, 1949, 1992, 1988, 1965]\n"
     ]
    }
   ],
   "source": [
    "train = drop_miss_value(train, 'model_date')\n",
    "train = train.reset_index(drop=True)"
   ]
  },
  {
   "cell_type": "code",
   "execution_count": 16,
   "metadata": {},
   "outputs": [],
   "source": [
    "# train['model_date'].dropna(inplace=True)"
   ]
  },
  {
   "cell_type": "code",
   "execution_count": 17,
   "metadata": {},
   "outputs": [],
   "source": [
    "def model_date(row):\n",
    "    \n",
    "    if row == 2019 or row == 2018:\n",
    "        return 'model date 1'\n",
    "    \n",
    "    elif row == 2017 or row == 2016 or row == 2014:\n",
    "        return 'model date 2'\n",
    "    \n",
    "    elif row == 2010 or row == 2012:\n",
    "        return 'model date 3'\n",
    "    \n",
    "    elif row == 2011 or row == 2009 or row == 2008 or row == 2006 or row == 2004  or row == 1977:\n",
    "        return 'model date 4'\n",
    "    \n",
    "    elif row == 2007 or row == 2005 or row == 2003 or row == 2006 or row == 2002:\n",
    "        return 'model date 5' \n",
    "    \n",
    "    elif row == 2001 or row == 2000 or row == 1999 or row == 1998 or row == 1994 or row == 1987 or row == 1982 or row == 1981 or row == 1975:\n",
    "        return 'model date 6'\n",
    "    \n",
    "    elif row == 1995 or row == 1990 or row == 1986:\n",
    "        return 'model date 7'\n",
    "\n",
    "    elif row == 2015:\n",
    "        return 'model date 9'\n",
    "    \n",
    "    else:\n",
    "        return 'model date 10'\n",
    "    \n",
    "train['model_date'] = train['model_date'].apply(model_date)\n",
    "test['model_date'] = test['model_date'].apply(model_date)"
   ]
  },
  {
   "cell_type": "markdown",
   "metadata": {},
   "source": [
    "# doors"
   ]
  },
  {
   "cell_type": "code",
   "execution_count": 18,
   "metadata": {},
   "outputs": [
    {
     "data": {
      "text/plain": [
       "5    3047\n",
       "4    2930\n",
       "2     416\n",
       "3      76\n",
       "Name: doors, dtype: int64"
      ]
     },
     "metadata": {},
     "output_type": "display_data"
    },
    {
     "data": {
      "text/plain": [
       "4"
      ]
     },
     "metadata": {},
     "output_type": "display_data"
    },
    {
     "data": {
      "text/plain": [
       "5    1963\n",
       "4    1594\n",
       "2     244\n",
       "3      36\n",
       "Name: doors, dtype: int64"
      ]
     },
     "metadata": {},
     "output_type": "display_data"
    },
    {
     "data": {
      "text/plain": [
       "4"
      ]
     },
     "metadata": {},
     "output_type": "display_data"
    },
    {
     "data": {
      "image/png": "[encoded data removed]",
      "text/plain": [
       "<Figure size 1440x1080 with 2 Axes>"
      ]
     },
     "metadata": {
      "needs_background": "light"
     },
     "output_type": "display_data"
    }
   ],
   "source": [
    "stat('doors')"
   ]
  },
  {
   "cell_type": "markdown",
   "metadata": {},
   "source": [
    "# production_date"
   ]
  },
  {
   "cell_type": "code",
   "execution_count": 19,
   "metadata": {
    "scrolled": false
   },
   "outputs": [
    {
     "data": {
      "text/plain": [
       "2013    593\n",
       "2012    564\n",
       "2011    554\n",
       "2008    476\n",
       "2010    377\n",
       "2014    345\n",
       "2017    323\n",
       "2016    323\n",
       "2018    320\n",
       "2009    309\n",
       "2007    292\n",
       "2019    287\n",
       "2015    258\n",
       "2004    164\n",
       "2005    153\n",
       "2006    150\n",
       "2003    126\n",
       "2001    119\n",
       "2002    118\n",
       "1998     90\n",
       "1999     84\n",
       "1997     75\n",
       "2000     72\n",
       "2020     54\n",
       "1996     35\n",
       "1991     29\n",
       "1990     27\n",
       "1993     27\n",
       "1994     25\n",
       "1992     24\n",
       "1995     18\n",
       "1989     13\n",
       "1988     12\n",
       "1987      7\n",
       "1985      6\n",
       "1984      5\n",
       "1983      4\n",
       "1986      4\n",
       "1982      3\n",
       "1980      3\n",
       "1981      1\n",
       "Name: production_date, dtype: int64"
      ]
     },
     "metadata": {},
     "output_type": "display_data"
    },
    {
     "data": {
      "text/plain": [
       "41"
      ]
     },
     "metadata": {},
     "output_type": "display_data"
    },
    {
     "data": {
      "text/plain": [
       "2013    432\n",
       "2012    386\n",
       "2011    345\n",
       "2014    312\n",
       "2018    267\n",
       "2019    262\n",
       "2016    254\n",
       "2015    229\n",
       "2008    228\n",
       "2010    205\n",
       "2017    196\n",
       "2007    149\n",
       "2009    142\n",
       "2005     63\n",
       "2004     60\n",
       "2006     52\n",
       "2003     48\n",
       "2002     41\n",
       "2001     36\n",
       "1998     22\n",
       "2000     22\n",
       "1999     20\n",
       "1997     14\n",
       "1996      9\n",
       "1992      8\n",
       "1995      6\n",
       "1993      6\n",
       "1989      6\n",
       "1991      3\n",
       "1984      3\n",
       "1994      2\n",
       "1990      2\n",
       "1988      2\n",
       "1982      2\n",
       "1981      1\n",
       "1987      1\n",
       "1986      1\n",
       "Name: production_date, dtype: int64"
      ]
     },
     "metadata": {},
     "output_type": "display_data"
    },
    {
     "data": {
      "text/plain": [
       "37"
      ]
     },
     "metadata": {},
     "output_type": "display_data"
    },
    {
     "data": {
      "image/png": "[encoded data removed]",
      "text/plain": [
       "<Figure size 1440x1080 with 2 Axes>"
      ]
     },
     "metadata": {
      "needs_background": "light"
     },
     "output_type": "display_data"
    }
   ],
   "source": [
    "stat('production_date')"
   ]
  },
  {
   "cell_type": "code",
   "execution_count": 20,
   "metadata": {},
   "outputs": [
    {
     "name": "stdout",
     "output_type": "stream",
     "text": [
      "[1985, 1983, 1980, 2020]\n"
     ]
    }
   ],
   "source": [
    "train = drop_miss_value(train, 'production_date')\n",
    "train = train.reset_index(drop=True)"
   ]
  },
  {
   "cell_type": "code",
   "execution_count": 21,
   "metadata": {},
   "outputs": [],
   "source": [
    "# def production_date(row):\n",
    "    \n",
    "#     if row == 2019:\n",
    "#         return 'prod date 1'\n",
    "    \n",
    "#     elif row == 2018:\n",
    "#         return 'prod date 2'\n",
    "    \n",
    "#     elif row == 2017:\n",
    "#         return 'prod date 3'\n",
    "    \n",
    "#     elif row == 2016 or row == 2015:\n",
    "#         return 'prod date 4'\n",
    "    \n",
    "#     elif row == 2014:\n",
    "#         return 'prod date 5'\n",
    "    \n",
    "#     elif row == 2013 or row == 1982:\n",
    "#         return 'prod date 6'\n",
    "    \n",
    "#     elif row == 2012:\n",
    "#         return 'prod date 7'\n",
    "    \n",
    "#     elif row == 2011:\n",
    "#         return 'prod date 8'\n",
    "    \n",
    "#     elif row == 2010:\n",
    "#         return 'prod date 9'\n",
    "    \n",
    "#     elif row == 2009:\n",
    "#         return 'prod date 10'\n",
    "    \n",
    "#     elif row == 2008:\n",
    "#         return 'prod date 11'\n",
    "    \n",
    "#     elif row == 2007:\n",
    "#         return 'prod date 12'\n",
    "    \n",
    "#     elif row == 2006 or row == 2005 or row == 2004 or row == 1986:\n",
    "#         return 'prod date 13'\n",
    "    \n",
    "#     elif row == 2003 or row == 2002 or row == 2001 or row == 1999 or row == 1995 or row == 1994 or row == 1988 or row == 1984:\n",
    "#         return 'prod date 14'\n",
    "    \n",
    "#     elif row == 2000 or row == 1998 or row == 1997 or row == 1993 or row == 1981:\n",
    "#         return 'prod date 15'\n",
    "    \n",
    "#     elif row == 1996 or row == 1992 or row == 1991 or row == 1990 or row == 1987:\n",
    "#         return 'prod date 16'\n",
    "    \n",
    "#     elif row == 1991 or row == 1989:\n",
    "#         return 'prod date 17'\n",
    "    \n",
    "#     else:\n",
    "#         return row\n",
    "    \n",
    "# train['production_date'] = train['production_date'].apply(production_date)\n",
    "# test['production_date'] = test['production_date'].apply(production_date)"
   ]
  },
  {
   "cell_type": "markdown",
   "metadata": {},
   "source": [
    "# transmission"
   ]
  },
  {
   "cell_type": "code",
   "execution_count": 22,
   "metadata": {},
   "outputs": [
    {
     "data": {
      "text/plain": [
       "автоматическая      5887\n",
       "механическая         442\n",
       "роботизированная      73\n",
       "Name: transmission, dtype: int64"
      ]
     },
     "metadata": {},
     "output_type": "display_data"
    },
    {
     "data": {
      "text/plain": [
       "3"
      ]
     },
     "metadata": {},
     "output_type": "display_data"
    },
    {
     "data": {
      "text/plain": [
       "автоматическая      3677\n",
       "механическая         111\n",
       "роботизированная      49\n",
       "Name: transmission, dtype: int64"
      ]
     },
     "metadata": {},
     "output_type": "display_data"
    },
    {
     "data": {
      "text/plain": [
       "3"
      ]
     },
     "metadata": {},
     "output_type": "display_data"
    },
    {
     "data": {
      "image/png": "[encoded data removed]",
      "text/plain": [
       "<Figure size 1440x1080 with 2 Axes>"
      ]
     },
     "metadata": {
      "needs_background": "light"
     },
     "output_type": "display_data"
    }
   ],
   "source": [
    "stat('transmission')"
   ]
  },
  {
   "cell_type": "markdown",
   "metadata": {},
   "source": [
    "# engine_displacement"
   ]
  },
  {
   "cell_type": "code",
   "execution_count": 23,
   "metadata": {
    "scrolled": false
   },
   "outputs": [
    {
     "data": {
      "text/plain": [
       "2.0      2279\n",
       "3.0      2205\n",
       "4.4       582\n",
       "2.5       545\n",
       "1.6       277\n",
       "4.8       117\n",
       "2.2        65\n",
       "1.5        58\n",
       "1.8        52\n",
       "2.8        48\n",
       "1.9        35\n",
       "4.0        32\n",
       "3.5        22\n",
       "2.9        12\n",
       "5.0        12\n",
       "3.6        11\n",
       "6.0        11\n",
       "3.4         9\n",
       "4.6         7\n",
       "170.0       5\n",
       "0.7         3\n",
       "5.4         3\n",
       "3.3         3\n",
       "6.6         3\n",
       "4.9         2\n",
       "2.7         1\n",
       "1.7         1\n",
       "2.4         1\n",
       "3.2         1\n",
       "Name: engine_displacement, dtype: int64"
      ]
     },
     "metadata": {},
     "output_type": "display_data"
    },
    {
     "data": {
      "text/plain": [
       "29"
      ]
     },
     "metadata": {},
     "output_type": "display_data"
    },
    {
     "data": {
      "text/plain": [
       "2.0    1538\n",
       "3.0    1353\n",
       "4.4     305\n",
       "2.5     239\n",
       "1.6     173\n",
       "1.5      66\n",
       "4.8      64\n",
       "2.2      20\n",
       "2.8      14\n",
       "4.0      13\n",
       "1.8      10\n",
       "1.9       7\n",
       "5.4       6\n",
       "6.0       5\n",
       "6.6       4\n",
       "3.5       4\n",
       "2.9       4\n",
       "4.6       4\n",
       "5.0       3\n",
       "3.6       3\n",
       "3.4       1\n",
       "Name: engine_displacement, dtype: int64"
      ]
     },
     "metadata": {},
     "output_type": "display_data"
    },
    {
     "data": {
      "text/plain": [
       "21"
      ]
     },
     "metadata": {},
     "output_type": "display_data"
    },
    {
     "data": {
      "image/png": "[encoded data removed]",
      "text/plain": [
       "<Figure size 1440x1080 with 2 Axes>"
      ]
     },
     "metadata": {
      "needs_background": "light"
     },
     "output_type": "display_data"
    }
   ],
   "source": [
    "stat('engine_displacement')"
   ]
  },
  {
   "cell_type": "code",
   "execution_count": 24,
   "metadata": {},
   "outputs": [],
   "source": [
    "train['engine_displacement'] = train['engine_displacement'].apply(lambda x: 3.0 if x == 170.0 else x)"
   ]
  },
  {
   "cell_type": "code",
   "execution_count": 25,
   "metadata": {
    "scrolled": true
   },
   "outputs": [
    {
     "name": "stdout",
     "output_type": "stream",
     "text": [
      "[2.7, 1.7, 3.2, 2.4, 3.3, 4.9, 0.7]\n"
     ]
    }
   ],
   "source": [
    "train = drop_miss_value(train, 'engine_displacement')\n",
    "train = train.reset_index(drop=True)"
   ]
  },
  {
   "cell_type": "code",
   "execution_count": 26,
   "metadata": {},
   "outputs": [],
   "source": [
    "def engine_displacement(row):\n",
    "    \n",
    "    if row == 4.4 or row == 3.0 or row == 1.5:\n",
    "        return 'eng dis 1'\n",
    "    \n",
    "    elif row == 6.0 or row == 5.0 or row == 4.0 or row == 2.0:\n",
    "        return 'eng dis 2'\n",
    "    \n",
    "    elif row == 5.4 or row == 4.8:\n",
    "        return 'eng dis 3'\n",
    "    \n",
    "    elif row == 4.6 or row == 2.9 or row == 3.5 or row == 3.6 or row == 2.5 or row == 1.6:\n",
    "        return 'eng dis 4'    \n",
    "\n",
    "    elif row == 2.2 or row == 2.8 or row == 3.4 or row == 1.9 or row == 1.8:\n",
    "        return 'eng dis 5'    \n",
    "    \n",
    "    elif row == 6.6:\n",
    "        return 'eng dis 5'\n",
    "    \n",
    "    else:\n",
    "        return row\n",
    "    \n",
    "train['engine_displacement'] = train['engine_displacement'].apply(engine_displacement)\n",
    "test['engine_displacement'] = test['engine_displacement'].apply(engine_displacement)"
   ]
  },
  {
   "cell_type": "markdown",
   "metadata": {},
   "source": [
    "# engine_power"
   ]
  },
  {
   "cell_type": "code",
   "execution_count": 27,
   "metadata": {
    "scrolled": false
   },
   "outputs": [
    {
     "data": {
      "text/plain": [
       "184    796\n",
       "306    458\n",
       "218    425\n",
       "245    414\n",
       "190    372\n",
       "249    353\n",
       "150    320\n",
       "231    266\n",
       "136    258\n",
       "170    194\n",
       "258    182\n",
       "407    182\n",
       "272    170\n",
       "115    150\n",
       "192    149\n",
       "156    121\n",
       "177    120\n",
       "235    115\n",
       "286    109\n",
       "555    101\n",
       "320    101\n",
       "313     91\n",
       "355     79\n",
       "450     70\n",
       "204     64\n",
       "575     54\n",
       "193     52\n",
       "381     45\n",
       "333     42\n",
       "143     39\n",
       "264     38\n",
       "326     31\n",
       "367     30\n",
       "340     27\n",
       "129     24\n",
       "265     24\n",
       "400     22\n",
       "163     22\n",
       "118     20\n",
       "140     19\n",
       "560     18\n",
       "113     17\n",
       "102     17\n",
       "420     15\n",
       "625     15\n",
       "105     15\n",
       "211     13\n",
       "507     11\n",
       "360      9\n",
       "462      8\n",
       "530      8\n",
       "125      8\n",
       "347      7\n",
       "300      6\n",
       "445      6\n",
       "197      6\n",
       "269      6\n",
       "122      6\n",
       "431      5\n",
       "188      5\n",
       "100      5\n",
       "544      5\n",
       "329      4\n",
       "370      4\n",
       "116      3\n",
       "460      2\n",
       "510      2\n",
       "238      2\n",
       "600      2\n",
       "609      2\n",
       "234      1\n",
       "252      1\n",
       "480      1\n",
       "90       1\n",
       "610      1\n",
       "75       1\n",
       "233      1\n",
       "449      1\n",
       "230      1\n",
       "Name: engine_power, dtype: int64"
      ]
     },
     "metadata": {},
     "output_type": "display_data"
    },
    {
     "data": {
      "text/plain": [
       "79"
      ]
     },
     "metadata": {},
     "output_type": "display_data"
    },
    {
     "data": {
      "text/plain": [
       "184    636\n",
       "249    300\n",
       "245    293\n",
       "306    281\n",
       "190    260\n",
       "218    212\n",
       "136    193\n",
       "150    130\n",
       "258    127\n",
       "231     97\n",
       "407     92\n",
       "272     84\n",
       "177     82\n",
       "313     78\n",
       "320     78\n",
       "170     70\n",
       "156     63\n",
       "115     58\n",
       "192     55\n",
       "450     50\n",
       "235     50\n",
       "355     47\n",
       "555     44\n",
       "286     43\n",
       "204     41\n",
       "575     31\n",
       "381     25\n",
       "340     24\n",
       "143     21\n",
       "264     20\n",
       "326     20\n",
       "400     17\n",
       "163     16\n",
       "265     16\n",
       "367     15\n",
       "333     15\n",
       "193     14\n",
       "140     13\n",
       "625     10\n",
       "560     10\n",
       "530      9\n",
       "100      7\n",
       "360      7\n",
       "420      6\n",
       "118      5\n",
       "431      5\n",
       "197      5\n",
       "600      4\n",
       "445      4\n",
       "347      4\n",
       "129      3\n",
       "507      3\n",
       "329      3\n",
       "269      3\n",
       "113      3\n",
       "300      3\n",
       "105      3\n",
       "610      3\n",
       "370      3\n",
       "410      3\n",
       "122      3\n",
       "102      2\n",
       "125      2\n",
       "462      2\n",
       "544      1\n",
       "188      1\n",
       "230      1\n",
       "252      1\n",
       "374      1\n",
       "460      1\n",
       "609      1\n",
       "211      1\n",
       "243      1\n",
       "449      1\n",
       "90       1\n",
       "Name: engine_power, dtype: int64"
      ]
     },
     "metadata": {},
     "output_type": "display_data"
    },
    {
     "data": {
      "text/plain": [
       "75"
      ]
     },
     "metadata": {},
     "output_type": "display_data"
    },
    {
     "data": {
      "image/png": "[encoded data removed]",
      "text/plain": [
       "<Figure size 1440x1080 with 2 Axes>"
      ]
     },
     "metadata": {
      "needs_background": "light"
     },
     "output_type": "display_data"
    }
   ],
   "source": [
    "stat('engine_power')"
   ]
  },
  {
   "cell_type": "code",
   "execution_count": 28,
   "metadata": {},
   "outputs": [
    {
     "name": "stdout",
     "output_type": "stream",
     "text": [
      "[116, 238, 75, 233, 234, 480, 510]\n"
     ]
    }
   ],
   "source": [
    "train = drop_miss_value(train, 'engine_power')\n",
    "train = train.reset_index(drop=True)"
   ]
  },
  {
   "cell_type": "code",
   "execution_count": 29,
   "metadata": {},
   "outputs": [],
   "source": [
    "train.dropna(inplace=True)"
   ]
  },
  {
   "cell_type": "markdown",
   "metadata": {},
   "source": [
    "# days_in_use"
   ]
  },
  {
   "cell_type": "code",
   "execution_count": 30,
   "metadata": {
    "scrolled": false
   },
   "outputs": [
    {
     "data": {
      "text/plain": [
       "2764     593\n",
       "3130     564\n",
       "3495     554\n",
       "4591     476\n",
       "3860     377\n",
       "2399     344\n",
       "1303     323\n",
       "1669     320\n",
       "938      320\n",
       "4225     308\n",
       "4956     290\n",
       "573      284\n",
       "2034     257\n",
       "6052     163\n",
       "5686     153\n",
       "5321     150\n",
       "6417     126\n",
       "7147     118\n",
       "6782     116\n",
       "8243      89\n",
       "7878      83\n",
       "8608      75\n",
       "7513      70\n",
       "8974      35\n",
       "10800     29\n",
       "11165     27\n",
       "10069     27\n",
       "9704      25\n",
       "10435     24\n",
       "9339      18\n",
       "11530     13\n",
       "11896     12\n",
       "12261      7\n",
       "13357      4\n",
       "12626      3\n",
       "14087      2\n",
       "Name: days_in_use, dtype: int64"
      ]
     },
     "metadata": {},
     "output_type": "display_data"
    },
    {
     "data": {
      "text/plain": [
       "36"
      ]
     },
     "metadata": {},
     "output_type": "display_data"
    },
    {
     "data": {
      "text/plain": [
       "2764     432\n",
       "3130     386\n",
       "3495     345\n",
       "2399     312\n",
       "938      267\n",
       "573      262\n",
       "1669     254\n",
       "2034     229\n",
       "4591     228\n",
       "3860     205\n",
       "1303     196\n",
       "4956     149\n",
       "4225     142\n",
       "5686      63\n",
       "6052      60\n",
       "5321      52\n",
       "6417      48\n",
       "6782      41\n",
       "7147      36\n",
       "7513      22\n",
       "8243      22\n",
       "7878      20\n",
       "8608      14\n",
       "8974       9\n",
       "10435      8\n",
       "10069      6\n",
       "9339       6\n",
       "11530      6\n",
       "10800      3\n",
       "13357      3\n",
       "9704       2\n",
       "11165      2\n",
       "11896      2\n",
       "14087      2\n",
       "12261      1\n",
       "12626      1\n",
       "14452      1\n",
       "Name: days_in_use, dtype: int64"
      ]
     },
     "metadata": {},
     "output_type": "display_data"
    },
    {
     "data": {
      "text/plain": [
       "37"
      ]
     },
     "metadata": {},
     "output_type": "display_data"
    },
    {
     "data": {
      "image/png": "[encoded data removed]",
      "text/plain": [
       "<Figure size 1440x1080 with 2 Axes>"
      ]
     },
     "metadata": {
      "needs_background": "light"
     },
     "output_type": "display_data"
    }
   ],
   "source": [
    "stat('days_in_use')"
   ]
  },
  {
   "cell_type": "markdown",
   "metadata": {},
   "source": [
    "# style"
   ]
  },
  {
   "cell_type": "code",
   "execution_count": 31,
   "metadata": {
    "scrolled": false
   },
   "outputs": [
    {
     "data": {
      "text/plain": [
       "30d              395\n",
       "520i             376\n",
       "35i              303\n",
       "320i             300\n",
       "116i             195\n",
       "318i             189\n",
       "520d             181\n",
       "4.4              173\n",
       "525i             163\n",
       "3.0i             161\n",
       "20d              153\n",
       "523i             129\n",
       "530d xDrive      119\n",
       "20d xDrive       115\n",
       "320i xDrive      110\n",
       "30i              105\n",
       "18i              101\n",
       "528i xDrive      100\n",
       "40d              100\n",
       "325i              95\n",
       "750Li xDrive      87\n",
       "20i xDrive        87\n",
       "316i              84\n",
       "3.0si             82\n",
       "50i               80\n",
       "320d xDrive       78\n",
       "20i               78\n",
       "520d xDrive       76\n",
       "3.0d              68\n",
       "530i              64\n",
       "528i              63\n",
       "48i               61\n",
       "118i              60\n",
       "25i               59\n",
       "320d              58\n",
       "4.4i              58\n",
       "325xi             58\n",
       "28i xDrive        49\n",
       "M50d              47\n",
       "25d               47\n",
       "35d               47\n",
       "730Ld xDrive      44\n",
       "328i              39\n",
       "525d xDrive       38\n",
       "30d xDrive        35\n",
       "535i              33\n",
       "28i               33\n",
       "525xi             31\n",
       "730d              29\n",
       "530xi             28\n",
       "330i              27\n",
       "730d xDrive       27\n",
       "750Li             27\n",
       "740Li xDrive      26\n",
       "525d              25\n",
       "530d              25\n",
       "730i              24\n",
       "740d xDrive       24\n",
       "530i xDrive       24\n",
       "535i xDrive       23\n",
       "740i              21\n",
       "640d xDrive       21\n",
       "120i              21\n",
       "750i xDrive       21\n",
       "640i xDrive       20\n",
       "Competition       20\n",
       "650i              20\n",
       "740Li             19\n",
       "420d xDrive       19\n",
       "40i               18\n",
       "735i              18\n",
       "4.8i              18\n",
       "18d xDrive        18\n",
       "120d              17\n",
       "745i              16\n",
       "630i              16\n",
       "630d xDrive       16\n",
       "335i              16\n",
       "540i              16\n",
       "520Li             16\n",
       "4.0               15\n",
       "3.0               14\n",
       "650i xDrive       14\n",
       "645i              13\n",
       "750i              12\n",
       "3.0sd             12\n",
       "323i              12\n",
       "750Ld xDrive      11\n",
       "5.0               11\n",
       "35i xDrive        10\n",
       "420i xDrive       10\n",
       "550i xDrive       10\n",
       "740Ld xDrive      10\n",
       "728i               9\n",
       "760Li              9\n",
       "745Li              9\n",
       "640i               9\n",
       "M550i xDrive       8\n",
       "550i               8\n",
       "335xi              8\n",
       "125i               8\n",
       "535d               8\n",
       "4.8is              8\n",
       "420d               8\n",
       "428i xDrive        8\n",
       "4.6is              7\n",
       "430i xDrive        7\n",
       "420i               7\n",
       "518i               7\n",
       "540i xDrive        7\n",
       "sDrive18i          6\n",
       "23d                6\n",
       "730Li              6\n",
       "435i xDrive        6\n",
       "730Ld              6\n",
       "ActiveHybrid       6\n",
       "335i xDrive        5\n",
       "330xi              5\n",
       "318d               5\n",
       "M550d xDrive       5\n",
       "30i xDrive         5\n",
       "328i xDrive        5\n",
       "528Li xDrive       5\n",
       "840d xDrive        5\n",
       "620d xDrive        5\n",
       "xDrive20d          4\n",
       "725Ld              4\n",
       "750d xDrive        4\n",
       "545i               4\n",
       "430i               4\n",
       "735Li              4\n",
       "330i xDrive        4\n",
       "1.5hyb             3\n",
       "740d               3\n",
       "220d               3\n",
       "535d xDrive        3\n",
       "M850i xDrive       3\n",
       "M50i               3\n",
       "1.5                3\n",
       "M760Li xDrive      3\n",
       "2.0d               3\n",
       "M40d               3\n",
       "428i               3\n",
       "Electro            3\n",
       "530Li              2\n",
       "xDrive20i          2\n",
       "1.9                2\n",
       "135i               2\n",
       "640d               2\n",
       "745d               2\n",
       "340i xDrive        2\n",
       "330d               2\n",
       "220i               2\n",
       "760i               2\n",
       "530xd              2\n",
       "2.8                2\n",
       "xDrive18d          2\n",
       "CS                 2\n",
       "130i               2\n",
       "440i xDrive        2\n",
       "528Li              2\n",
       "725Ld xDrive       2\n",
       "118d               2\n",
       "94Ah               2\n",
       "535Li              1\n",
       "sDrive20i          1\n",
       "123d               1\n",
       "2.5                1\n",
       "440i               1\n",
       "725d               1\n",
       "320xd              1\n",
       "M135i              1\n",
       "535xi              1\n",
       "M235i xDrive       1\n",
       "23i                1\n",
       "316                1\n",
       "518                1\n",
       "218d               1\n",
       "218i               1\n",
       "Active             1\n",
       "M40i               1\n",
       "728Li              1\n",
       "40e                1\n",
       "330d xDrive        1\n",
       "35is               1\n",
       "2.0                1\n",
       "Name: style, dtype: int64"
      ]
     },
     "metadata": {},
     "output_type": "display_data"
    },
    {
     "data": {
      "text/plain": [
       "186"
      ]
     },
     "metadata": {},
     "output_type": "display_data"
    },
    {
     "data": {
      "text/plain": [
       "30d              255\n",
       "35i              194\n",
       "320i             171\n",
       "520i             142\n",
       "20d              134\n",
       "530d xDrive      108\n",
       "116i             102\n",
       "520d              98\n",
       "320d xDrive       95\n",
       "320i xDrive       92\n",
       "20d xDrive        92\n",
       "4.4               88\n",
       "318i              87\n",
       "40d               81\n",
       "20i xDrive        81\n",
       "528i xDrive       79\n",
       "18i               71\n",
       "118i              66\n",
       "20i               60\n",
       "28i xDrive        58\n",
       "30i               56\n",
       "523i              56\n",
       "525i              54\n",
       "325i              53\n",
       "750Li xDrive      53\n",
       "316i              51\n",
       "320d              42\n",
       "50i               40\n",
       "3.0i              39\n",
       "520d xDrive       38\n",
       "730Ld xDrive      38\n",
       "3.0si             36\n",
       "48i               34\n",
       "325xi             34\n",
       "3.0d              33\n",
       "25i               32\n",
       "M50d              30\n",
       "28i               30\n",
       "4.4i              29\n",
       "30d xDrive        29\n",
       "530i xDrive       27\n",
       "25d               27\n",
       "530i              27\n",
       "528i              24\n",
       "18d xDrive        21\n",
       "35d               20\n",
       "640i xDrive       18\n",
       "328i              18\n",
       "730d xDrive       18\n",
       "420d xDrive       17\n",
       "740Li xDrive      17\n",
       "530xi             17\n",
       "740d xDrive       16\n",
       "525d xDrive       16\n",
       "750i xDrive       15\n",
       "40i               15\n",
       "535i xDrive       15\n",
       "530d              14\n",
       "750Li             14\n",
       "730d              14\n",
       "640d xDrive       13\n",
       "Competition       13\n",
       "335i              13\n",
       "4.8i              13\n",
       "525xi             13\n",
       "120d              12\n",
       "3.0               12\n",
       "730i              12\n",
       "535i              11\n",
       "120i              10\n",
       "645i              10\n",
       "420i xDrive       10\n",
       "630i              10\n",
       "750i              10\n",
       "35i xDrive         9\n",
       "420i               9\n",
       "428i xDrive        8\n",
       "740Li              8\n",
       "650i               8\n",
       "550i               8\n",
       "420d               8\n",
       "550i xDrive        8\n",
       "330i               8\n",
       "640i               8\n",
       "328i xDrive        8\n",
       "540i xDrive        7\n",
       "540i               7\n",
       "520Li              7\n",
       "525d               7\n",
       "840d xDrive        7\n",
       "630d xDrive        7\n",
       "M850i xDrive       6\n",
       "M550d xDrive       6\n",
       "650i xDrive        6\n",
       "4.0                6\n",
       "740i               6\n",
       "335i xDrive        6\n",
       "330xi              6\n",
       "740Ld xDrive       6\n",
       "318d               5\n",
       "535d xDrive        5\n",
       "220i               5\n",
       "xDrive20d          5\n",
       "535d               5\n",
       "M40i               5\n",
       "1.5hyb             5\n",
       "730Li              4\n",
       "M760Li xDrive      4\n",
       "323i               4\n",
       "760Li              4\n",
       "4.6is              4\n",
       "30i xDrive         4\n",
       "620d xDrive        4\n",
       "sDrive18i          4\n",
       "735i               4\n",
       "125i               4\n",
       "5.0                3\n",
       "750Ld xDrive       3\n",
       "745i               3\n",
       "750d xDrive        3\n",
       "730Ld              3\n",
       "218i               3\n",
       "330d xDrive        3\n",
       "3.0sd              3\n",
       "330i xDrive        3\n",
       "530Li              3\n",
       "23d                2\n",
       "430i xDrive        2\n",
       "725Ld              2\n",
       "4.8is              2\n",
       "35d xDrive         2\n",
       "M550i xDrive       2\n",
       "330d               2\n",
       "xDrive20i          2\n",
       "340i xDrive        2\n",
       "130i               2\n",
       "335xi              2\n",
       "728i               2\n",
       "xDrive18d          1\n",
       "M235i              1\n",
       "2.2                1\n",
       "135i               1\n",
       "M50i               1\n",
       "325i xDrive        1\n",
       "530xd              1\n",
       "428i               1\n",
       "Active             1\n",
       "440i               1\n",
       "760i               1\n",
       "430i               1\n",
       "118d               1\n",
       "2.0                1\n",
       "525xd              1\n",
       "640d               1\n",
       "120d xDrive        1\n",
       "316                1\n",
       "725Ld xDrive       1\n",
       "1.5                1\n",
       "Electro            1\n",
       "M340i xDrive       1\n",
       "745Li              1\n",
       "735Li              1\n",
       "23i                1\n",
       "330xd              1\n",
       "528Li xDrive       1\n",
       "M235i xDrive       1\n",
       "M135i xDrive       1\n",
       "M40d               1\n",
       "35is               1\n",
       "ActiveHybrid       1\n",
       "CS                 1\n",
       "545i               1\n",
       "518                1\n",
       "Name: style, dtype: int64"
      ]
     },
     "metadata": {},
     "output_type": "display_data"
    },
    {
     "data": {
      "text/plain": [
       "173"
      ]
     },
     "metadata": {},
     "output_type": "display_data"
    },
    {
     "data": {
      "image/png": "[encoded data removed]",
      "text/plain": [
       "<Figure size 1440x1080 with 2 Axes>"
      ]
     },
     "metadata": {
      "needs_background": "light"
     },
     "output_type": "display_data"
    }
   ],
   "source": [
    "stat('style')"
   ]
  },
  {
   "cell_type": "markdown",
   "metadata": {},
   "source": [
    "Слишком много значений. Оставим как есть."
   ]
  },
  {
   "cell_type": "code",
   "execution_count": 32,
   "metadata": {
    "scrolled": true
   },
   "outputs": [
    {
     "name": "stdout",
     "output_type": "stream",
     "text": [
      "['518i', '728Li', '725d', '123d', '745d', '320xd', '1.9', '2.8', '2.5', '528Li', '740d', '220d', '535xi', '435i xDrive', 'M135i', '218d', '535Li', '2.0d', 'sDrive20i', '94Ah', '440i xDrive', '40e']\n"
     ]
    }
   ],
   "source": [
    "train = drop_miss_value(train, 'style')"
   ]
  },
  {
   "cell_type": "code",
   "execution_count": 33,
   "metadata": {},
   "outputs": [],
   "source": [
    "df = pd.concat([train, test])"
   ]
  },
  {
   "cell_type": "code",
   "execution_count": 34,
   "metadata": {},
   "outputs": [
    {
     "data": {
      "text/html": [
       "<div>\n",
       "<style scoped>\n",
       "    .dataframe tbody tr th:only-of-type {\n",
       "        vertical-align: middle;\n",
       "    }\n",
       "\n",
       "    .dataframe tbody tr th {\n",
       "        vertical-align: top;\n",
       "    }\n",
       "\n",
       "    .dataframe thead th {\n",
       "        text-align: right;\n",
       "    }\n",
       "</style>\n",
       "<table border=\"1\" class=\"dataframe\">\n",
       "  <thead>\n",
       "    <tr style=\"text-align: right;\">\n",
       "      <th></th>\n",
       "      <th>test</th>\n",
       "      <th>style</th>\n",
       "      <th>body</th>\n",
       "      <th>color</th>\n",
       "      <th>fuel</th>\n",
       "      <th>model_date</th>\n",
       "      <th>doors</th>\n",
       "      <th>production_date</th>\n",
       "      <th>transmission</th>\n",
       "      <th>engine_displacement</th>\n",
       "      <th>engine_power</th>\n",
       "      <th>mileage</th>\n",
       "      <th>drive_type</th>\n",
       "      <th>wheel</th>\n",
       "      <th>condition</th>\n",
       "      <th>owners</th>\n",
       "      <th>vehicle_title</th>\n",
       "      <th>features</th>\n",
       "      <th>price</th>\n",
       "      <th>tax</th>\n",
       "      <th>tax_per_horse</th>\n",
       "      <th>days_in_use</th>\n",
       "      <th>mileage_per_day</th>\n",
       "    </tr>\n",
       "  </thead>\n",
       "  <tbody>\n",
       "    <tr>\n",
       "      <td>0</td>\n",
       "      <td>0</td>\n",
       "      <td>520i</td>\n",
       "      <td>body 1</td>\n",
       "      <td>color 3</td>\n",
       "      <td>бензин</td>\n",
       "      <td>model date 6</td>\n",
       "      <td>4</td>\n",
       "      <td>1991</td>\n",
       "      <td>механическая</td>\n",
       "      <td>eng dis 2</td>\n",
       "      <td>129</td>\n",
       "      <td>300000.0</td>\n",
       "      <td>задний</td>\n",
       "      <td>Левый</td>\n",
       "      <td>Не требует ремонта</td>\n",
       "      <td>3</td>\n",
       "      <td>Оригинал</td>\n",
       "      <td>Unknown</td>\n",
       "      <td>60000.0</td>\n",
       "      <td>4515.0</td>\n",
       "      <td>35</td>\n",
       "      <td>10800</td>\n",
       "      <td>27.777778</td>\n",
       "    </tr>\n",
       "    <tr>\n",
       "      <td>1</td>\n",
       "      <td>0</td>\n",
       "      <td>316i</td>\n",
       "      <td>body 1</td>\n",
       "      <td>color 1</td>\n",
       "      <td>бензин</td>\n",
       "      <td>model date 7</td>\n",
       "      <td>4</td>\n",
       "      <td>1992</td>\n",
       "      <td>механическая</td>\n",
       "      <td>eng dis 4</td>\n",
       "      <td>102</td>\n",
       "      <td>300000.0</td>\n",
       "      <td>задний</td>\n",
       "      <td>Левый</td>\n",
       "      <td>Не требует ремонта</td>\n",
       "      <td>3</td>\n",
       "      <td>Дубликат</td>\n",
       "      <td>Unknown</td>\n",
       "      <td>68000.0</td>\n",
       "      <td>2550.0</td>\n",
       "      <td>25</td>\n",
       "      <td>10435</td>\n",
       "      <td>28.749401</td>\n",
       "    </tr>\n",
       "    <tr>\n",
       "      <td>2</td>\n",
       "      <td>0</td>\n",
       "      <td>318i</td>\n",
       "      <td>body 1</td>\n",
       "      <td>color 5</td>\n",
       "      <td>бензин</td>\n",
       "      <td>model date 7</td>\n",
       "      <td>4</td>\n",
       "      <td>1994</td>\n",
       "      <td>механическая</td>\n",
       "      <td>eng dis 5</td>\n",
       "      <td>115</td>\n",
       "      <td>350000.0</td>\n",
       "      <td>задний</td>\n",
       "      <td>Левый</td>\n",
       "      <td>Не требует ремонта</td>\n",
       "      <td>3</td>\n",
       "      <td>Дубликат</td>\n",
       "      <td>Unknown</td>\n",
       "      <td>70000.0</td>\n",
       "      <td>2875.0</td>\n",
       "      <td>25</td>\n",
       "      <td>9704</td>\n",
       "      <td>36.067601</td>\n",
       "    </tr>\n",
       "    <tr>\n",
       "      <td>3</td>\n",
       "      <td>0</td>\n",
       "      <td>520i</td>\n",
       "      <td>body 1</td>\n",
       "      <td>color 1</td>\n",
       "      <td>бензин</td>\n",
       "      <td>model date 6</td>\n",
       "      <td>4</td>\n",
       "      <td>1992</td>\n",
       "      <td>механическая</td>\n",
       "      <td>eng dis 2</td>\n",
       "      <td>150</td>\n",
       "      <td>100000.0</td>\n",
       "      <td>задний</td>\n",
       "      <td>Левый</td>\n",
       "      <td>Не требует ремонта</td>\n",
       "      <td>3</td>\n",
       "      <td>Оригинал</td>\n",
       "      <td>Unknown</td>\n",
       "      <td>70000.0</td>\n",
       "      <td>5250.0</td>\n",
       "      <td>35</td>\n",
       "      <td>10435</td>\n",
       "      <td>9.583134</td>\n",
       "    </tr>\n",
       "    <tr>\n",
       "      <td>4</td>\n",
       "      <td>0</td>\n",
       "      <td>520i</td>\n",
       "      <td>body 1</td>\n",
       "      <td>color 1</td>\n",
       "      <td>бензин</td>\n",
       "      <td>model date 6</td>\n",
       "      <td>4</td>\n",
       "      <td>1982</td>\n",
       "      <td>механическая</td>\n",
       "      <td>eng dis 2</td>\n",
       "      <td>125</td>\n",
       "      <td>250000.0</td>\n",
       "      <td>задний</td>\n",
       "      <td>Левый</td>\n",
       "      <td>Не требует ремонта</td>\n",
       "      <td>1</td>\n",
       "      <td>Оригинал</td>\n",
       "      <td>Unknown</td>\n",
       "      <td>70000.0</td>\n",
       "      <td>3125.0</td>\n",
       "      <td>25</td>\n",
       "      <td>14087</td>\n",
       "      <td>17.746859</td>\n",
       "    </tr>\n",
       "    <tr>\n",
       "      <td>...</td>\n",
       "      <td>...</td>\n",
       "      <td>...</td>\n",
       "      <td>...</td>\n",
       "      <td>...</td>\n",
       "      <td>...</td>\n",
       "      <td>...</td>\n",
       "      <td>...</td>\n",
       "      <td>...</td>\n",
       "      <td>...</td>\n",
       "      <td>...</td>\n",
       "      <td>...</td>\n",
       "      <td>...</td>\n",
       "      <td>...</td>\n",
       "      <td>...</td>\n",
       "      <td>...</td>\n",
       "      <td>...</td>\n",
       "      <td>...</td>\n",
       "      <td>...</td>\n",
       "      <td>...</td>\n",
       "      <td>...</td>\n",
       "      <td>...</td>\n",
       "      <td>...</td>\n",
       "      <td>...</td>\n",
       "    </tr>\n",
       "    <tr>\n",
       "      <td>10166</td>\n",
       "      <td>1</td>\n",
       "      <td>520i</td>\n",
       "      <td>body 1</td>\n",
       "      <td>color 1</td>\n",
       "      <td>бензин</td>\n",
       "      <td>model date 10</td>\n",
       "      <td>4</td>\n",
       "      <td>2013</td>\n",
       "      <td>автоматическая</td>\n",
       "      <td>eng dis 2</td>\n",
       "      <td>184</td>\n",
       "      <td>98000.0</td>\n",
       "      <td>задний</td>\n",
       "      <td>Левый</td>\n",
       "      <td>Не требует ремонта</td>\n",
       "      <td>3</td>\n",
       "      <td>Оригинал</td>\n",
       "      <td>'Круиз-контроль', 'Система «старт-стоп»', 'Мул...</td>\n",
       "      <td>0.0</td>\n",
       "      <td>9200.0</td>\n",
       "      <td>50</td>\n",
       "      <td>2764</td>\n",
       "      <td>35.455861</td>\n",
       "    </tr>\n",
       "    <tr>\n",
       "      <td>10167</td>\n",
       "      <td>1</td>\n",
       "      <td>30d</td>\n",
       "      <td>body 2</td>\n",
       "      <td>color 1</td>\n",
       "      <td>дизель</td>\n",
       "      <td>model date 10</td>\n",
       "      <td>5</td>\n",
       "      <td>2016</td>\n",
       "      <td>автоматическая</td>\n",
       "      <td>eng dis 1</td>\n",
       "      <td>249</td>\n",
       "      <td>169615.0</td>\n",
       "      <td>полный</td>\n",
       "      <td>Левый</td>\n",
       "      <td>Не требует ремонта</td>\n",
       "      <td>1</td>\n",
       "      <td>Оригинал</td>\n",
       "      <td>'Круиз-контроль', 'Мультифункциональное рулево...</td>\n",
       "      <td>0.0</td>\n",
       "      <td>18675.0</td>\n",
       "      <td>75</td>\n",
       "      <td>1669</td>\n",
       "      <td>101.626723</td>\n",
       "    </tr>\n",
       "    <tr>\n",
       "      <td>10168</td>\n",
       "      <td>1</td>\n",
       "      <td>525xi</td>\n",
       "      <td>body 1</td>\n",
       "      <td>color 1</td>\n",
       "      <td>бензин</td>\n",
       "      <td>model date 5</td>\n",
       "      <td>4</td>\n",
       "      <td>2006</td>\n",
       "      <td>автоматическая</td>\n",
       "      <td>eng dis 4</td>\n",
       "      <td>218</td>\n",
       "      <td>180000.0</td>\n",
       "      <td>полный</td>\n",
       "      <td>Левый</td>\n",
       "      <td>Не требует ремонта</td>\n",
       "      <td>3</td>\n",
       "      <td>Оригинал</td>\n",
       "      <td>'Круиз-контроль', 'Запуск двигателя с кнопки',...</td>\n",
       "      <td>0.0</td>\n",
       "      <td>14170.0</td>\n",
       "      <td>65</td>\n",
       "      <td>5321</td>\n",
       "      <td>33.828228</td>\n",
       "    </tr>\n",
       "    <tr>\n",
       "      <td>10169</td>\n",
       "      <td>1</td>\n",
       "      <td>528i xDrive</td>\n",
       "      <td>body 1</td>\n",
       "      <td>color 1</td>\n",
       "      <td>бензин</td>\n",
       "      <td>model date 4</td>\n",
       "      <td>4</td>\n",
       "      <td>2012</td>\n",
       "      <td>автоматическая</td>\n",
       "      <td>eng dis 2</td>\n",
       "      <td>245</td>\n",
       "      <td>137500.0</td>\n",
       "      <td>полный</td>\n",
       "      <td>Левый</td>\n",
       "      <td>Не требует ремонта</td>\n",
       "      <td>3</td>\n",
       "      <td>Оригинал</td>\n",
       "      <td>'Круиз-контроль', 'Мультифункциональное рулево...</td>\n",
       "      <td>0.0</td>\n",
       "      <td>18375.0</td>\n",
       "      <td>75</td>\n",
       "      <td>3130</td>\n",
       "      <td>43.929712</td>\n",
       "    </tr>\n",
       "    <tr>\n",
       "      <td>10170</td>\n",
       "      <td>1</td>\n",
       "      <td>50i</td>\n",
       "      <td>body 2</td>\n",
       "      <td>color 1</td>\n",
       "      <td>бензин</td>\n",
       "      <td>model date 5</td>\n",
       "      <td>5</td>\n",
       "      <td>2010</td>\n",
       "      <td>автоматическая</td>\n",
       "      <td>eng dis 1</td>\n",
       "      <td>407</td>\n",
       "      <td>89905.0</td>\n",
       "      <td>полный</td>\n",
       "      <td>Левый</td>\n",
       "      <td>Не требует ремонта</td>\n",
       "      <td>1</td>\n",
       "      <td>Оригинал</td>\n",
       "      <td>'Круиз-контроль', 'Электростеклоподъёмники пер...</td>\n",
       "      <td>0.0</td>\n",
       "      <td>61050.0</td>\n",
       "      <td>150</td>\n",
       "      <td>3860</td>\n",
       "      <td>23.291451</td>\n",
       "    </tr>\n",
       "  </tbody>\n",
       "</table>\n",
       "<p>10171 rows × 23 columns</p>\n",
       "</div>"
      ],
      "text/plain": [
       "       test        style    body    color    fuel     model_date  doors  \\\n",
       "0         0         520i  body 1  color 3  бензин   model date 6      4   \n",
       "1         0         316i  body 1  color 1  бензин   model date 7      4   \n",
       "2         0         318i  body 1  color 5  бензин   model date 7      4   \n",
       "3         0         520i  body 1  color 1  бензин   model date 6      4   \n",
       "4         0         520i  body 1  color 1  бензин   model date 6      4   \n",
       "...     ...          ...     ...      ...     ...            ...    ...   \n",
       "10166     1         520i  body 1  color 1  бензин  model date 10      4   \n",
       "10167     1          30d  body 2  color 1  дизель  model date 10      5   \n",
       "10168     1        525xi  body 1  color 1  бензин   model date 5      4   \n",
       "10169     1  528i xDrive  body 1  color 1  бензин   model date 4      4   \n",
       "10170     1          50i  body 2  color 1  бензин   model date 5      5   \n",
       "\n",
       "       production_date    transmission engine_displacement  engine_power  \\\n",
       "0                 1991    механическая           eng dis 2           129   \n",
       "1                 1992    механическая           eng dis 4           102   \n",
       "2                 1994    механическая           eng dis 5           115   \n",
       "3                 1992    механическая           eng dis 2           150   \n",
       "4                 1982    механическая           eng dis 2           125   \n",
       "...                ...             ...                 ...           ...   \n",
       "10166             2013  автоматическая           eng dis 2           184   \n",
       "10167             2016  автоматическая           eng dis 1           249   \n",
       "10168             2006  автоматическая           eng dis 4           218   \n",
       "10169             2012  автоматическая           eng dis 2           245   \n",
       "10170             2010  автоматическая           eng dis 1           407   \n",
       "\n",
       "        mileage drive_type  wheel           condition  owners vehicle_title  \\\n",
       "0      300000.0     задний  Левый  Не требует ремонта       3      Оригинал   \n",
       "1      300000.0     задний  Левый  Не требует ремонта       3      Дубликат   \n",
       "2      350000.0     задний  Левый  Не требует ремонта       3      Дубликат   \n",
       "3      100000.0     задний  Левый  Не требует ремонта       3      Оригинал   \n",
       "4      250000.0     задний  Левый  Не требует ремонта       1      Оригинал   \n",
       "...         ...        ...    ...                 ...     ...           ...   \n",
       "10166   98000.0     задний  Левый  Не требует ремонта       3      Оригинал   \n",
       "10167  169615.0     полный  Левый  Не требует ремонта       1      Оригинал   \n",
       "10168  180000.0     полный  Левый  Не требует ремонта       3      Оригинал   \n",
       "10169  137500.0     полный  Левый  Не требует ремонта       3      Оригинал   \n",
       "10170   89905.0     полный  Левый  Не требует ремонта       1      Оригинал   \n",
       "\n",
       "                                                features    price      tax  \\\n",
       "0                                                Unknown  60000.0   4515.0   \n",
       "1                                                Unknown  68000.0   2550.0   \n",
       "2                                                Unknown  70000.0   2875.0   \n",
       "3                                                Unknown  70000.0   5250.0   \n",
       "4                                                Unknown  70000.0   3125.0   \n",
       "...                                                  ...      ...      ...   \n",
       "10166  'Круиз-контроль', 'Система «старт-стоп»', 'Мул...      0.0   9200.0   \n",
       "10167  'Круиз-контроль', 'Мультифункциональное рулево...      0.0  18675.0   \n",
       "10168  'Круиз-контроль', 'Запуск двигателя с кнопки',...      0.0  14170.0   \n",
       "10169  'Круиз-контроль', 'Мультифункциональное рулево...      0.0  18375.0   \n",
       "10170  'Круиз-контроль', 'Электростеклоподъёмники пер...      0.0  61050.0   \n",
       "\n",
       "       tax_per_horse  days_in_use  mileage_per_day  \n",
       "0                 35        10800        27.777778  \n",
       "1                 25        10435        28.749401  \n",
       "2                 25         9704        36.067601  \n",
       "3                 35        10435         9.583134  \n",
       "4                 25        14087        17.746859  \n",
       "...              ...          ...              ...  \n",
       "10166             50         2764        35.455861  \n",
       "10167             75         1669       101.626723  \n",
       "10168             65         5321        33.828228  \n",
       "10169             75         3130        43.929712  \n",
       "10170            150         3860        23.291451  \n",
       "\n",
       "[10171 rows x 23 columns]"
      ]
     },
     "execution_count": 34,
     "metadata": {},
     "output_type": "execute_result"
    }
   ],
   "source": [
    "df.reset_index(drop=True)"
   ]
  },
  {
   "cell_type": "markdown",
   "metadata": {},
   "source": [
    "Добавим дополнительный признак. Количество лет в использовании. По сути это тоже самое, что и количество дней в использовании. Посмотрим какой признак даст лучший результат."
   ]
  },
  {
   "cell_type": "code",
   "execution_count": 35,
   "metadata": {},
   "outputs": [],
   "source": [
    "def years_in_use(row):\n",
    "    \n",
    "    delta = 2020 - row\n",
    "    return delta\n",
    "\n",
    "df['years_in_use'] = df['production_date'].apply(years_in_use)"
   ]
  },
  {
   "cell_type": "code",
   "execution_count": 37,
   "metadata": {},
   "outputs": [],
   "source": [
    "df.to_csv('cars_new.csv', index=False)"
   ]
  }
 ],
 "metadata": {
  "kernelspec": {
   "display_name": "Python 3",
   "language": "python",
   "name": "python3"
  },
  "language_info": {
   "codemirror_mode": {
    "name": "ipython",
    "version": 3
   },
   "file_extension": ".py",
   "mimetype": "text/x-python",
   "name": "python",
   "nbconvert_exporter": "python",
   "pygments_lexer": "ipython3",
   "version": "3.7.4"
  }
 },
 "nbformat": 4,
 "nbformat_minor": 2
}
