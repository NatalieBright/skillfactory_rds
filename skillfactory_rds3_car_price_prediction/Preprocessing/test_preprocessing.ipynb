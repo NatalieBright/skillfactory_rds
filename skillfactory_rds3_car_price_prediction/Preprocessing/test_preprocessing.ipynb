{
 "cells": [
  {
   "cell_type": "markdown",
   "metadata": {},
   "source": [
    "# Version 1.0"
   ]
  },
  {
   "cell_type": "markdown",
   "metadata": {},
   "source": [
    "## Отобранные и очищенные признаки\n",
    "\n",
    "**'test'** - int - является ли наблюдение частью тестового датасета (1 - является, 0 - не является)\n",
    "\n",
    "**'style'** - str - стиль автомобиля (550i xDrive)\n",
    "\n",
    "**'body'** - str - тип кузова (внедорожник, седан, купе, хэтчбек, лифтбек, универсал, кабриолет, родстер, компактвэн)\n",
    "\n",
    "**'color'** - str - цвет ('чёрный', 'белый', 'синий', 'серый', 'коричневый', 'серебристый', 'красный', 'бежевый', 'голубой', 'зелёный', 'оранжевый', 'золотистый', 'пурпурный', 'фиолетовый', 'жёлтый')\n",
    "\n",
    "**'fuel'** - str - тип топлива ('бензин', 'дизель', 'гибрид', 'электро')\n",
    "\n",
    "**'model_date'** - int - дата модели\n",
    "\n",
    "**'doors'** - int - кол-во дверей (2, 3, 4, 5)\n",
    "\n",
    "**'production_date'** - int - год производства\n",
    "\n",
    "**'transmission'** - str - тип трансмиссии ('автоматическая', 'механическая', 'роботизированная')\n",
    "\n",
    "**'engine_displacement'** - float - объем двигателя\n",
    "\n",
    "**'engine_power'** - int - мощность двигателя\n",
    "\n",
    "**'mileage'** - int - пробег в км.\n",
    "\n",
    "**'drive_type'** - str - привод ('полный', 'задний', 'передний')\n",
    "\n",
    "**'wheel'** - str - руль ('Левый', 'Правый')\n",
    "\n",
    "**'condition'** - str - Состояние ('Не требует ремонта')\n",
    "\n",
    "**'owners'** - int - кол-во владельцев ('1' - 1 владелец, '2' - 2 владельца, '3' - '3 и более')\n",
    "\n",
    "**'vehicle_title'** - str -  ПТС ('Оригинал', 'Дубликат')\n",
    "\n",
    "**'description'** - str - Описание\n",
    "\n",
    "**'features'** - str - Комплектация\n",
    "\n",
    "**'ownership'** - str - период владения\n",
    "\n",
    "**'price'** - int - Цена"
   ]
  },
  {
   "cell_type": "code",
   "execution_count": 1,
   "metadata": {},
   "outputs": [],
   "source": [
    "import pandas as pd\n",
    "\n",
    "pd.set_option('display.max_rows', 500)\n",
    "pd.set_option('display.max_columns', 100)\n",
    "\n",
    "cars = pd.read_csv('../Data/test.csv')"
   ]
  },
  {
   "cell_type": "code",
   "execution_count": 2,
   "metadata": {},
   "outputs": [],
   "source": [
    "# Комплектация -  features, привод - drive type, ПТС - Vehicle title\n",
    "\n",
    "cars.columns = ['body', 'brand', 'color', 'fuel', 'model_date', 'name',\n",
    "       'doors', 'production_date', 'configuration',\n",
    "       'transmission', 'engine_displacement', 'engine_power',\n",
    "       'description', 'mileage', 'features', 'drive_type', 'wheel', 'condition',\n",
    "       'owners', 'vehicle_title', 'custom', 'ownership', 'id']"
   ]
  },
  {
   "cell_type": "code",
   "execution_count": 3,
   "metadata": {},
   "outputs": [
    {
     "data": {
      "text/html": [
       "<div>\n",
       "<style scoped>\n",
       "    .dataframe tbody tr th:only-of-type {\n",
       "        vertical-align: middle;\n",
       "    }\n",
       "\n",
       "    .dataframe tbody tr th {\n",
       "        vertical-align: top;\n",
       "    }\n",
       "\n",
       "    .dataframe thead th {\n",
       "        text-align: right;\n",
       "    }\n",
       "</style>\n",
       "<table border=\"1\" class=\"dataframe\">\n",
       "  <thead>\n",
       "    <tr style=\"text-align: right;\">\n",
       "      <th></th>\n",
       "      <th>body</th>\n",
       "      <th>brand</th>\n",
       "      <th>color</th>\n",
       "      <th>fuel</th>\n",
       "      <th>model_date</th>\n",
       "      <th>name</th>\n",
       "      <th>doors</th>\n",
       "      <th>production_date</th>\n",
       "      <th>configuration</th>\n",
       "      <th>transmission</th>\n",
       "      <th>engine_displacement</th>\n",
       "      <th>engine_power</th>\n",
       "      <th>description</th>\n",
       "      <th>mileage</th>\n",
       "      <th>features</th>\n",
       "      <th>drive_type</th>\n",
       "      <th>wheel</th>\n",
       "      <th>condition</th>\n",
       "      <th>owners</th>\n",
       "      <th>vehicle_title</th>\n",
       "      <th>custom</th>\n",
       "      <th>ownership</th>\n",
       "      <th>id</th>\n",
       "    </tr>\n",
       "  </thead>\n",
       "  <tbody>\n",
       "    <tr>\n",
       "      <th>0</th>\n",
       "      <td>седан</td>\n",
       "      <td>BMW</td>\n",
       "      <td>чёрный</td>\n",
       "      <td>дизель</td>\n",
       "      <td>2016.0</td>\n",
       "      <td>520d 2.0d AT (190 л.с.)</td>\n",
       "      <td>4.0</td>\n",
       "      <td>2017.0</td>\n",
       "      <td>SEDAN AUTOMATIC 2.0</td>\n",
       "      <td>автоматическая</td>\n",
       "      <td>2.0 LTR</td>\n",
       "      <td>190 N12</td>\n",
       "      <td>В РОЛЬФ Ясенево представлено более 500 автомоб...</td>\n",
       "      <td>158836.0</td>\n",
       "      <td>['[{\"name\":\"Безопасность\",\"values\":[\"Антипробу...</td>\n",
       "      <td>задний</td>\n",
       "      <td>Левый</td>\n",
       "      <td>Не требует ремонта</td>\n",
       "      <td>1 владелец</td>\n",
       "      <td>Оригинал</td>\n",
       "      <td>Растаможен</td>\n",
       "      <td>NaN</td>\n",
       "      <td>0</td>\n",
       "    </tr>\n",
       "    <tr>\n",
       "      <th>1</th>\n",
       "      <td>седан</td>\n",
       "      <td>BMW</td>\n",
       "      <td>белый</td>\n",
       "      <td>дизель</td>\n",
       "      <td>2018.0</td>\n",
       "      <td>318d 2.0d AT (150 л.с.)</td>\n",
       "      <td>4.0</td>\n",
       "      <td>2019.0</td>\n",
       "      <td>SEDAN AUTOMATIC 2.0</td>\n",
       "      <td>автоматическая</td>\n",
       "      <td>2.0 LTR</td>\n",
       "      <td>150 N12</td>\n",
       "      <td>Автомобиль из демонстрационного парка по спец ...</td>\n",
       "      <td>10.0</td>\n",
       "      <td>['[{\"name\":\"Комфорт\",\"values\":[\"Круиз-контроль...</td>\n",
       "      <td>задний</td>\n",
       "      <td>Левый</td>\n",
       "      <td>Не требует ремонта</td>\n",
       "      <td>1 владелец</td>\n",
       "      <td>Оригинал</td>\n",
       "      <td>Растаможен</td>\n",
       "      <td>NaN</td>\n",
       "      <td>1</td>\n",
       "    </tr>\n",
       "    <tr>\n",
       "      <th>2</th>\n",
       "      <td>седан</td>\n",
       "      <td>BMW</td>\n",
       "      <td>синий</td>\n",
       "      <td>бензин</td>\n",
       "      <td>2009.0</td>\n",
       "      <td>550i xDrive 4.4 AT (407 л.с.) 4WD</td>\n",
       "      <td>4.0</td>\n",
       "      <td>2012.0</td>\n",
       "      <td>SEDAN AUTOMATIC 4.4</td>\n",
       "      <td>автоматическая</td>\n",
       "      <td>4.4 LTR</td>\n",
       "      <td>407 N12</td>\n",
       "      <td>Машина собиралась под заказ! \\n\\n</td>\n",
       "      <td>120000.0</td>\n",
       "      <td>['[{\"name\":\"Комфорт\",\"values\":[\"Круиз-контроль...</td>\n",
       "      <td>полный</td>\n",
       "      <td>Левый</td>\n",
       "      <td>Не требует ремонта</td>\n",
       "      <td>2 владельца</td>\n",
       "      <td>Оригинал</td>\n",
       "      <td>Растаможен</td>\n",
       "      <td>7 лет и 2 месяца</td>\n",
       "      <td>2</td>\n",
       "    </tr>\n",
       "    <tr>\n",
       "      <th>3</th>\n",
       "      <td>внедорожник 5 дв.</td>\n",
       "      <td>BMW</td>\n",
       "      <td>белый</td>\n",
       "      <td>дизель</td>\n",
       "      <td>2014.0</td>\n",
       "      <td>30d 3.0d AT (249 л.с.) 4WD</td>\n",
       "      <td>5.0</td>\n",
       "      <td>2015.0</td>\n",
       "      <td>ALLROAD_5_DOORS AUTOMATIC 3.0</td>\n",
       "      <td>автоматическая</td>\n",
       "      <td>3.0 LTR</td>\n",
       "      <td>249 N12</td>\n",
       "      <td>АВТОМОБИЛЬ В БЕЗУПРЕЧНОМ ВНЕШНЕМ И ТЕХНИЧЕСКОМ...</td>\n",
       "      <td>111466.0</td>\n",
       "      <td>['[{\"name\":\"Комфорт\",\"values\":[\"Круиз-контроль...</td>\n",
       "      <td>полный</td>\n",
       "      <td>Левый</td>\n",
       "      <td>Не требует ремонта</td>\n",
       "      <td>2 владельца</td>\n",
       "      <td>Оригинал</td>\n",
       "      <td>Растаможен</td>\n",
       "      <td>NaN</td>\n",
       "      <td>3</td>\n",
       "    </tr>\n",
       "    <tr>\n",
       "      <th>4</th>\n",
       "      <td>внедорожник 5 дв.</td>\n",
       "      <td>BMW</td>\n",
       "      <td>синий</td>\n",
       "      <td>дизель</td>\n",
       "      <td>2014.0</td>\n",
       "      <td>M50d 3.0d AT (381 л.с.) 4WD</td>\n",
       "      <td>5.0</td>\n",
       "      <td>2019.0</td>\n",
       "      <td>ALLROAD_5_DOORS AUTOMATIC 3.0</td>\n",
       "      <td>автоматическая</td>\n",
       "      <td>3.0 LTR</td>\n",
       "      <td>381 N12</td>\n",
       "      <td>Автомобиль не имеет собственников ( физ. лиц) ...</td>\n",
       "      <td>11891.0</td>\n",
       "      <td>['[{\"name\":\"Комфорт\",\"values\":[\"Круиз-контроль...</td>\n",
       "      <td>полный</td>\n",
       "      <td>Левый</td>\n",
       "      <td>Не требует ремонта</td>\n",
       "      <td>1 владелец</td>\n",
       "      <td>Оригинал</td>\n",
       "      <td>Растаможен</td>\n",
       "      <td>NaN</td>\n",
       "      <td>4</td>\n",
       "    </tr>\n",
       "  </tbody>\n",
       "</table>\n",
       "</div>"
      ],
      "text/plain": [
       "                body brand   color    fuel  model_date  \\\n",
       "0              седан   BMW  чёрный  дизель      2016.0   \n",
       "1              седан   BMW   белый  дизель      2018.0   \n",
       "2              седан   BMW   синий  бензин      2009.0   \n",
       "3  внедорожник 5 дв.   BMW   белый  дизель      2014.0   \n",
       "4  внедорожник 5 дв.   BMW   синий  дизель      2014.0   \n",
       "\n",
       "                                name  doors  production_date  \\\n",
       "0            520d 2.0d AT (190 л.с.)    4.0           2017.0   \n",
       "1            318d 2.0d AT (150 л.с.)    4.0           2019.0   \n",
       "2  550i xDrive 4.4 AT (407 л.с.) 4WD    4.0           2012.0   \n",
       "3         30d 3.0d AT (249 л.с.) 4WD    5.0           2015.0   \n",
       "4        M50d 3.0d AT (381 л.с.) 4WD    5.0           2019.0   \n",
       "\n",
       "                   configuration    transmission engine_displacement  \\\n",
       "0            SEDAN AUTOMATIC 2.0  автоматическая             2.0 LTR   \n",
       "1            SEDAN AUTOMATIC 2.0  автоматическая             2.0 LTR   \n",
       "2            SEDAN AUTOMATIC 4.4  автоматическая             4.4 LTR   \n",
       "3  ALLROAD_5_DOORS AUTOMATIC 3.0  автоматическая             3.0 LTR   \n",
       "4  ALLROAD_5_DOORS AUTOMATIC 3.0  автоматическая             3.0 LTR   \n",
       "\n",
       "  engine_power                                        description   mileage  \\\n",
       "0      190 N12  В РОЛЬФ Ясенево представлено более 500 автомоб...  158836.0   \n",
       "1      150 N12  Автомобиль из демонстрационного парка по спец ...      10.0   \n",
       "2      407 N12                  Машина собиралась под заказ! \\n\\n  120000.0   \n",
       "3      249 N12  АВТОМОБИЛЬ В БЕЗУПРЕЧНОМ ВНЕШНЕМ И ТЕХНИЧЕСКОМ...  111466.0   \n",
       "4      381 N12  Автомобиль не имеет собственников ( физ. лиц) ...   11891.0   \n",
       "\n",
       "                                            features drive_type  wheel  \\\n",
       "0  ['[{\"name\":\"Безопасность\",\"values\":[\"Антипробу...     задний  Левый   \n",
       "1  ['[{\"name\":\"Комфорт\",\"values\":[\"Круиз-контроль...     задний  Левый   \n",
       "2  ['[{\"name\":\"Комфорт\",\"values\":[\"Круиз-контроль...     полный  Левый   \n",
       "3  ['[{\"name\":\"Комфорт\",\"values\":[\"Круиз-контроль...     полный  Левый   \n",
       "4  ['[{\"name\":\"Комфорт\",\"values\":[\"Круиз-контроль...     полный  Левый   \n",
       "\n",
       "            condition       owners vehicle_title      custom  \\\n",
       "0  Не требует ремонта   1 владелец      Оригинал  Растаможен   \n",
       "1  Не требует ремонта   1 владелец      Оригинал  Растаможен   \n",
       "2  Не требует ремонта  2 владельца      Оригинал  Растаможен   \n",
       "3  Не требует ремонта  2 владельца      Оригинал  Растаможен   \n",
       "4  Не требует ремонта   1 владелец      Оригинал  Растаможен   \n",
       "\n",
       "          ownership  id  \n",
       "0               NaN   0  \n",
       "1               NaN   1  \n",
       "2  7 лет и 2 месяца   2  \n",
       "3               NaN   3  \n",
       "4               NaN   4  "
      ]
     },
     "execution_count": 3,
     "metadata": {},
     "output_type": "execute_result"
    }
   ],
   "source": [
    "cars.head()"
   ]
  },
  {
   "cell_type": "markdown",
   "metadata": {},
   "source": [
    "## Нам не нужны brand и id, т.к. они не несут смысла. Custom тоже содержит мало информации"
   ]
  },
  {
   "cell_type": "code",
   "execution_count": 4,
   "metadata": {},
   "outputs": [],
   "source": [
    "cars = cars.drop(['brand', 'id', 'custom'], axis=1)"
   ]
  },
  {
   "cell_type": "code",
   "execution_count": 5,
   "metadata": {},
   "outputs": [
    {
     "name": "stdout",
     "output_type": "stream",
     "text": [
      "<class 'pandas.core.frame.DataFrame'>\n",
      "RangeIndex: 3837 entries, 0 to 3836\n",
      "Data columns (total 20 columns):\n",
      " #   Column               Non-Null Count  Dtype  \n",
      "---  ------               --------------  -----  \n",
      " 0   body                 3837 non-null   object \n",
      " 1   color                3837 non-null   object \n",
      " 2   fuel                 3837 non-null   object \n",
      " 3   model_date           3837 non-null   float64\n",
      " 4   name                 3837 non-null   object \n",
      " 5   doors                3837 non-null   float64\n",
      " 6   production_date      3837 non-null   float64\n",
      " 7   configuration        3837 non-null   object \n",
      " 8   transmission         3837 non-null   object \n",
      " 9   engine_displacement  3837 non-null   object \n",
      " 10  engine_power         3837 non-null   object \n",
      " 11  description          3837 non-null   object \n",
      " 12  mileage              3837 non-null   float64\n",
      " 13  features             3837 non-null   object \n",
      " 14  drive_type           3837 non-null   object \n",
      " 15  wheel                3837 non-null   object \n",
      " 16  condition            3837 non-null   object \n",
      " 17  owners               3837 non-null   object \n",
      " 18  vehicle_title        3837 non-null   object \n",
      " 19  ownership            1753 non-null   object \n",
      "dtypes: float64(4), object(16)\n",
      "memory usage: 599.7+ KB\n"
     ]
    }
   ],
   "source": [
    "cars.info()"
   ]
  },
  {
   "cell_type": "code",
   "execution_count": 6,
   "metadata": {},
   "outputs": [
    {
     "data": {
      "text/plain": [
       "body                      0\n",
       "color                     0\n",
       "fuel                      0\n",
       "model_date                0\n",
       "name                      0\n",
       "doors                     0\n",
       "production_date           0\n",
       "configuration             0\n",
       "transmission              0\n",
       "engine_displacement       0\n",
       "engine_power              0\n",
       "description               0\n",
       "mileage                   0\n",
       "features                  0\n",
       "drive_type                0\n",
       "wheel                     0\n",
       "condition                 0\n",
       "owners                    0\n",
       "vehicle_title             0\n",
       "ownership              2084\n",
       "dtype: int64"
      ]
     },
     "execution_count": 6,
     "metadata": {},
     "output_type": "execute_result"
    }
   ],
   "source": [
    "cars.isna().sum()"
   ]
  },
  {
   "cell_type": "code",
   "execution_count": 7,
   "metadata": {},
   "outputs": [
    {
     "data": {
      "text/plain": [
       "body                     11\n",
       "color                    15\n",
       "fuel                      4\n",
       "model_date               31\n",
       "name                    384\n",
       "doors                     4\n",
       "production_date          37\n",
       "configuration            99\n",
       "transmission              3\n",
       "engine_displacement      22\n",
       "engine_power             75\n",
       "description            3677\n",
       "mileage                1942\n",
       "features               3295\n",
       "drive_type                3\n",
       "wheel                     1\n",
       "condition                 1\n",
       "owners                    3\n",
       "vehicle_title             2\n",
       "ownership               157\n",
       "dtype: int64"
      ]
     },
     "execution_count": 7,
     "metadata": {},
     "output_type": "execute_result"
    }
   ],
   "source": [
    "cars.nunique()"
   ]
  },
  {
   "cell_type": "markdown",
   "metadata": {},
   "source": [
    "# Чистим признаки"
   ]
  },
  {
   "cell_type": "code",
   "execution_count": 8,
   "metadata": {},
   "outputs": [
    {
     "data": {
      "text/plain": [
       "внедорожник 5 дв.    1626\n",
       "седан                1594\n",
       "купе                  214\n",
       "хэтчбек 5 дв.         163\n",
       "лифтбек               125\n",
       "универсал 5 дв.        46\n",
       "хэтчбек 3 дв.          36\n",
       "кабриолет              19\n",
       "родстер                10\n",
       "компактвэн              3\n",
       "седан 2 дв.             1\n",
       "Name: body, dtype: int64"
      ]
     },
     "execution_count": 8,
     "metadata": {},
     "output_type": "execute_result"
    }
   ],
   "source": [
    "cars.body.value_counts()"
   ]
  },
  {
   "cell_type": "markdown",
   "metadata": {},
   "source": [
    "## Указание дверей лишнее, оно будет в другом столбце, я проверил, что эти двери там указаны"
   ]
  },
  {
   "cell_type": "code",
   "execution_count": 9,
   "metadata": {},
   "outputs": [],
   "source": [
    "cars.body = cars.body.str.split().str[0]"
   ]
  },
  {
   "cell_type": "code",
   "execution_count": 10,
   "metadata": {},
   "outputs": [
    {
     "data": {
      "text/plain": [
       "внедорожник    1626\n",
       "седан          1595\n",
       "купе            214\n",
       "хэтчбек         199\n",
       "лифтбек         125\n",
       "универсал        46\n",
       "кабриолет        19\n",
       "родстер          10\n",
       "компактвэн        3\n",
       "Name: body, dtype: int64"
      ]
     },
     "execution_count": 10,
     "metadata": {},
     "output_type": "execute_result"
    }
   ],
   "source": [
    "cars.body.value_counts()"
   ]
  },
  {
   "cell_type": "code",
   "execution_count": 11,
   "metadata": {},
   "outputs": [
    {
     "data": {
      "text/plain": [
       "чёрный         1395\n",
       "белый           767\n",
       "синий           510\n",
       "серый           453\n",
       "коричневый      216\n",
       "серебристый     191\n",
       "красный         115\n",
       "бежевый          46\n",
       "голубой          35\n",
       "зелёный          33\n",
       "оранжевый        27\n",
       "золотистый       23\n",
       "пурпурный        20\n",
       "фиолетовый        5\n",
       "жёлтый            1\n",
       "Name: color, dtype: int64"
      ]
     },
     "execution_count": 11,
     "metadata": {},
     "output_type": "execute_result"
    }
   ],
   "source": [
    "cars.color.value_counts()"
   ]
  },
  {
   "cell_type": "markdown",
   "metadata": {},
   "source": [
    "### Цвет в порядке"
   ]
  },
  {
   "cell_type": "code",
   "execution_count": 12,
   "metadata": {},
   "outputs": [
    {
     "data": {
      "text/plain": [
       "бензин     2471\n",
       "дизель     1358\n",
       "гибрид        7\n",
       "электро       1\n",
       "Name: fuel, dtype: int64"
      ]
     },
     "execution_count": 12,
     "metadata": {},
     "output_type": "execute_result"
    }
   ],
   "source": [
    "cars.fuel.value_counts()"
   ]
  },
  {
   "cell_type": "markdown",
   "metadata": {},
   "source": [
    "### Топливо в порядке"
   ]
  },
  {
   "cell_type": "code",
   "execution_count": 13,
   "metadata": {},
   "outputs": [
    {
     "data": {
      "text/plain": [
       "2013.0    380\n",
       "2011.0    373\n",
       "2009.0    359\n",
       "2010.0    308\n",
       "2007.0    296\n",
       "2015.0    285\n",
       "2014.0    267\n",
       "2012.0    215\n",
       "2006.0    210\n",
       "2008.0    191\n",
       "2016.0    161\n",
       "2018.0    125\n",
       "2017.0    122\n",
       "2005.0    116\n",
       "2003.0     89\n",
       "2002.0     54\n",
       "2001.0     45\n",
       "1995.0     44\n",
       "1999.0     35\n",
       "2000.0     33\n",
       "1998.0     33\n",
       "2019.0     26\n",
       "1987.0     18\n",
       "1990.0     13\n",
       "2004.0     12\n",
       "1982.0     11\n",
       "1994.0      8\n",
       "1981.0      3\n",
       "1986.0      3\n",
       "1975.0      1\n",
       "1977.0      1\n",
       "Name: model_date, dtype: int64"
      ]
     },
     "execution_count": 13,
     "metadata": {},
     "output_type": "execute_result"
    }
   ],
   "source": [
    "cars.model_date.value_counts()"
   ]
  },
  {
   "cell_type": "markdown",
   "metadata": {},
   "source": [
    "### Хоть точка тут не страшна, избавимся от неё."
   ]
  },
  {
   "cell_type": "code",
   "execution_count": 14,
   "metadata": {},
   "outputs": [],
   "source": [
    "cars.model_date = cars.model_date.astype('int64')"
   ]
  },
  {
   "cell_type": "code",
   "execution_count": 15,
   "metadata": {},
   "outputs": [
    {
     "data": {
      "text/plain": [
       "2013    380\n",
       "2011    373\n",
       "2009    359\n",
       "2010    308\n",
       "2007    296\n",
       "2015    285\n",
       "2014    267\n",
       "2012    215\n",
       "2006    210\n",
       "2008    191\n",
       "2016    161\n",
       "2018    125\n",
       "2017    122\n",
       "2005    116\n",
       "2003     89\n",
       "2002     54\n",
       "2001     45\n",
       "1995     44\n",
       "1999     35\n",
       "1998     33\n",
       "2000     33\n",
       "2019     26\n",
       "1987     18\n",
       "1990     13\n",
       "2004     12\n",
       "1982     11\n",
       "1994      8\n",
       "1981      3\n",
       "1986      3\n",
       "1977      1\n",
       "1975      1\n",
       "Name: model_date, dtype: int64"
      ]
     },
     "execution_count": 15,
     "metadata": {},
     "output_type": "execute_result"
    }
   ],
   "source": [
    "cars.model_date.value_counts()"
   ]
  },
  {
   "cell_type": "code",
   "execution_count": 16,
   "metadata": {},
   "outputs": [
    {
     "data": {
      "text/plain": [
       "5.0    1963\n",
       "4.0    1594\n",
       "2.0     244\n",
       "3.0      36\n",
       "Name: doors, dtype: int64"
      ]
     },
     "execution_count": 16,
     "metadata": {},
     "output_type": "execute_result"
    }
   ],
   "source": [
    "cars.doors.value_counts()"
   ]
  },
  {
   "cell_type": "code",
   "execution_count": 17,
   "metadata": {},
   "outputs": [],
   "source": [
    "cars.doors = cars.doors.astype('int64')"
   ]
  },
  {
   "cell_type": "code",
   "execution_count": 18,
   "metadata": {},
   "outputs": [
    {
     "data": {
      "text/plain": [
       "5    1963\n",
       "4    1594\n",
       "2     244\n",
       "3      36\n",
       "Name: doors, dtype: int64"
      ]
     },
     "execution_count": 18,
     "metadata": {},
     "output_type": "execute_result"
    }
   ],
   "source": [
    "cars.doors.value_counts()"
   ]
  },
  {
   "cell_type": "code",
   "execution_count": 19,
   "metadata": {},
   "outputs": [
    {
     "data": {
      "text/plain": [
       "2013.0    432\n",
       "2012.0    386\n",
       "2011.0    345\n",
       "2014.0    312\n",
       "2018.0    267\n",
       "2019.0    262\n",
       "2016.0    254\n",
       "2015.0    229\n",
       "2008.0    228\n",
       "2010.0    205\n",
       "2017.0    196\n",
       "2007.0    149\n",
       "2009.0    142\n",
       "2005.0     63\n",
       "2004.0     60\n",
       "2006.0     52\n",
       "2003.0     48\n",
       "2002.0     41\n",
       "2001.0     36\n",
       "1998.0     22\n",
       "2000.0     22\n",
       "1999.0     20\n",
       "1997.0     14\n",
       "1996.0      9\n",
       "1992.0      8\n",
       "1995.0      6\n",
       "1989.0      6\n",
       "1993.0      6\n",
       "1984.0      3\n",
       "1991.0      3\n",
       "1994.0      2\n",
       "1982.0      2\n",
       "1988.0      2\n",
       "1990.0      2\n",
       "1986.0      1\n",
       "1987.0      1\n",
       "1981.0      1\n",
       "Name: production_date, dtype: int64"
      ]
     },
     "execution_count": 19,
     "metadata": {},
     "output_type": "execute_result"
    }
   ],
   "source": [
    "cars.production_date.value_counts()"
   ]
  },
  {
   "cell_type": "code",
   "execution_count": 20,
   "metadata": {},
   "outputs": [],
   "source": [
    "cars.production_date = cars.production_date.astype('int64')"
   ]
  },
  {
   "cell_type": "code",
   "execution_count": 21,
   "metadata": {},
   "outputs": [
    {
     "data": {
      "text/plain": [
       "2013    432\n",
       "2012    386\n",
       "2011    345\n",
       "2014    312\n",
       "2018    267\n",
       "2019    262\n",
       "2016    254\n",
       "2015    229\n",
       "2008    228\n",
       "2010    205\n",
       "2017    196\n",
       "2007    149\n",
       "2009    142\n",
       "2005     63\n",
       "2004     60\n",
       "2006     52\n",
       "2003     48\n",
       "2002     41\n",
       "2001     36\n",
       "1998     22\n",
       "2000     22\n",
       "1999     20\n",
       "1997     14\n",
       "1996      9\n",
       "1992      8\n",
       "1995      6\n",
       "1993      6\n",
       "1989      6\n",
       "1991      3\n",
       "1984      3\n",
       "1994      2\n",
       "1990      2\n",
       "1988      2\n",
       "1982      2\n",
       "1981      1\n",
       "1987      1\n",
       "1986      1\n",
       "Name: production_date, dtype: int64"
      ]
     },
     "execution_count": 21,
     "metadata": {},
     "output_type": "execute_result"
    }
   ],
   "source": [
    "cars.production_date.value_counts()"
   ]
  },
  {
   "cell_type": "code",
   "execution_count": 22,
   "metadata": {},
   "outputs": [
    {
     "data": {
      "text/html": [
       "<div>\n",
       "<style scoped>\n",
       "    .dataframe tbody tr th:only-of-type {\n",
       "        vertical-align: middle;\n",
       "    }\n",
       "\n",
       "    .dataframe tbody tr th {\n",
       "        vertical-align: top;\n",
       "    }\n",
       "\n",
       "    .dataframe thead th {\n",
       "        text-align: right;\n",
       "    }\n",
       "</style>\n",
       "<table border=\"1\" class=\"dataframe\">\n",
       "  <thead>\n",
       "    <tr style=\"text-align: right;\">\n",
       "      <th></th>\n",
       "      <th>configuration</th>\n",
       "      <th>body</th>\n",
       "      <th>transmission</th>\n",
       "      <th>doors</th>\n",
       "      <th>engine_displacement</th>\n",
       "    </tr>\n",
       "  </thead>\n",
       "  <tbody>\n",
       "    <tr>\n",
       "      <th>0</th>\n",
       "      <td>SEDAN AUTOMATIC 2.0</td>\n",
       "      <td>седан</td>\n",
       "      <td>автоматическая</td>\n",
       "      <td>4</td>\n",
       "      <td>2.0 LTR</td>\n",
       "    </tr>\n",
       "    <tr>\n",
       "      <th>1</th>\n",
       "      <td>SEDAN AUTOMATIC 2.0</td>\n",
       "      <td>седан</td>\n",
       "      <td>автоматическая</td>\n",
       "      <td>4</td>\n",
       "      <td>2.0 LTR</td>\n",
       "    </tr>\n",
       "    <tr>\n",
       "      <th>2</th>\n",
       "      <td>SEDAN AUTOMATIC 4.4</td>\n",
       "      <td>седан</td>\n",
       "      <td>автоматическая</td>\n",
       "      <td>4</td>\n",
       "      <td>4.4 LTR</td>\n",
       "    </tr>\n",
       "    <tr>\n",
       "      <th>3</th>\n",
       "      <td>ALLROAD_5_DOORS AUTOMATIC 3.0</td>\n",
       "      <td>внедорожник</td>\n",
       "      <td>автоматическая</td>\n",
       "      <td>5</td>\n",
       "      <td>3.0 LTR</td>\n",
       "    </tr>\n",
       "    <tr>\n",
       "      <th>4</th>\n",
       "      <td>ALLROAD_5_DOORS AUTOMATIC 3.0</td>\n",
       "      <td>внедорожник</td>\n",
       "      <td>автоматическая</td>\n",
       "      <td>5</td>\n",
       "      <td>3.0 LTR</td>\n",
       "    </tr>\n",
       "  </tbody>\n",
       "</table>\n",
       "</div>"
      ],
      "text/plain": [
       "                   configuration         body    transmission  doors  \\\n",
       "0            SEDAN AUTOMATIC 2.0        седан  автоматическая      4   \n",
       "1            SEDAN AUTOMATIC 2.0        седан  автоматическая      4   \n",
       "2            SEDAN AUTOMATIC 4.4        седан  автоматическая      4   \n",
       "3  ALLROAD_5_DOORS AUTOMATIC 3.0  внедорожник  автоматическая      5   \n",
       "4  ALLROAD_5_DOORS AUTOMATIC 3.0  внедорожник  автоматическая      5   \n",
       "\n",
       "  engine_displacement  \n",
       "0             2.0 LTR  \n",
       "1             2.0 LTR  \n",
       "2             4.4 LTR  \n",
       "3             3.0 LTR  \n",
       "4             3.0 LTR  "
      ]
     },
     "execution_count": 22,
     "metadata": {},
     "output_type": "execute_result"
    }
   ],
   "source": [
    "cars[['configuration', 'body', 'transmission', 'doors', 'engine_displacement']].head()"
   ]
  },
  {
   "cell_type": "markdown",
   "metadata": {},
   "source": [
    "### Признак configuration удаляем, он содержится в других столбцах"
   ]
  },
  {
   "cell_type": "code",
   "execution_count": 23,
   "metadata": {},
   "outputs": [],
   "source": [
    "cars = cars.drop('configuration', axis=1)"
   ]
  },
  {
   "cell_type": "code",
   "execution_count": 24,
   "metadata": {},
   "outputs": [
    {
     "data": {
      "text/plain": [
       "автоматическая      3677\n",
       "механическая         111\n",
       "роботизированная      49\n",
       "Name: transmission, dtype: int64"
      ]
     },
     "execution_count": 24,
     "metadata": {},
     "output_type": "execute_result"
    }
   ],
   "source": [
    "cars.transmission.value_counts()"
   ]
  },
  {
   "cell_type": "code",
   "execution_count": 25,
   "metadata": {},
   "outputs": [
    {
     "data": {
      "text/plain": [
       "2.0 LTR          1538\n",
       "3.0 LTR          1353\n",
       "4.4 LTR           305\n",
       "2.5 LTR           239\n",
       "1.6 LTR           173\n",
       "1.5 LTR            66\n",
       "4.8 LTR            64\n",
       "2.2 LTR            20\n",
       "2.8 LTR            14\n",
       "4.0 LTR            13\n",
       "1.8 LTR            10\n",
       "1.9 LTR             7\n",
       "5.4 LTR             6\n",
       "6.0 LTR             5\n",
       "2.9 LTR             4\n",
       "4.6 LTR             4\n",
       "3.5 LTR             4\n",
       "6.6 LTR             4\n",
       "3.6 LTR             3\n",
       "5.0 LTR             3\n",
       "3.4 LTR             1\n",
       "undefined LTR       1\n",
       "Name: engine_displacement, dtype: int64"
      ]
     },
     "execution_count": 25,
     "metadata": {},
     "output_type": "execute_result"
    }
   ],
   "source": [
    "cars.engine_displacement.value_counts()"
   ]
  },
  {
   "cell_type": "code",
   "execution_count": 26,
   "metadata": {},
   "outputs": [],
   "source": [
    "cars.engine_displacement = cars.engine_displacement.str.split().str[0]"
   ]
  },
  {
   "cell_type": "code",
   "execution_count": 27,
   "metadata": {},
   "outputs": [
    {
     "data": {
      "text/plain": [
       "2.0          1538\n",
       "3.0          1353\n",
       "4.4           305\n",
       "2.5           239\n",
       "1.6           173\n",
       "1.5            66\n",
       "4.8            64\n",
       "2.2            20\n",
       "2.8            14\n",
       "4.0            13\n",
       "1.8            10\n",
       "1.9             7\n",
       "5.4             6\n",
       "6.0             5\n",
       "6.6             4\n",
       "3.5             4\n",
       "4.6             4\n",
       "2.9             4\n",
       "3.6             3\n",
       "5.0             3\n",
       "undefined       1\n",
       "3.4             1\n",
       "Name: engine_displacement, dtype: int64"
      ]
     },
     "execution_count": 27,
     "metadata": {},
     "output_type": "execute_result"
    }
   ],
   "source": [
    "cars.engine_displacement.value_counts(dropna=False)"
   ]
  },
  {
   "cell_type": "code",
   "execution_count": 28,
   "metadata": {},
   "outputs": [],
   "source": [
    "cars.loc[cars.engine_displacement == 'undefined', 'engine_displacement']  = None"
   ]
  },
  {
   "cell_type": "code",
   "execution_count": 29,
   "metadata": {},
   "outputs": [],
   "source": [
    "cars.engine_displacement = cars.engine_displacement.astype('float64')"
   ]
  },
  {
   "cell_type": "code",
   "execution_count": 30,
   "metadata": {},
   "outputs": [
    {
     "data": {
      "text/plain": [
       "2.0    1538\n",
       "3.0    1353\n",
       "4.4     305\n",
       "2.5     239\n",
       "1.6     173\n",
       "1.5      66\n",
       "4.8      64\n",
       "2.2      20\n",
       "2.8      14\n",
       "4.0      13\n",
       "1.8      10\n",
       "1.9       7\n",
       "5.4       6\n",
       "6.0       5\n",
       "2.9       4\n",
       "6.6       4\n",
       "4.6       4\n",
       "3.5       4\n",
       "5.0       3\n",
       "3.6       3\n",
       "NaN       1\n",
       "3.4       1\n",
       "Name: engine_displacement, dtype: int64"
      ]
     },
     "execution_count": 30,
     "metadata": {},
     "output_type": "execute_result"
    }
   ],
   "source": [
    "cars.engine_displacement.value_counts(dropna=False)"
   ]
  },
  {
   "cell_type": "code",
   "execution_count": 31,
   "metadata": {},
   "outputs": [
    {
     "data": {
      "text/plain": [
       "184 N12    636\n",
       "249 N12    300\n",
       "245 N12    293\n",
       "306 N12    281\n",
       "190 N12    260\n",
       "218 N12    212\n",
       "136 N12    193\n",
       "150 N12    130\n",
       "258 N12    127\n",
       "231 N12     97\n",
       "407 N12     92\n",
       "272 N12     84\n",
       "177 N12     82\n",
       "320 N12     78\n",
       "313 N12     78\n",
       "170 N12     70\n",
       "156 N12     63\n",
       "115 N12     58\n",
       "192 N12     55\n",
       "235 N12     50\n",
       "450 N12     50\n",
       "355 N12     47\n",
       "555 N12     44\n",
       "286 N12     43\n",
       "204 N12     41\n",
       "575 N12     31\n",
       "381 N12     25\n",
       "340 N12     24\n",
       "143 N12     21\n",
       "326 N12     20\n",
       "264 N12     20\n",
       "400 N12     17\n",
       "163 N12     16\n",
       "265 N12     16\n",
       "367 N12     15\n",
       "333 N12     15\n",
       "193 N12     14\n",
       "140 N12     13\n",
       "560 N12     10\n",
       "625 N12     10\n",
       "530 N12      9\n",
       "360 N12      7\n",
       "100 N12      7\n",
       "420 N12      6\n",
       "118 N12      5\n",
       "431 N12      5\n",
       "197 N12      5\n",
       "600 N12      4\n",
       "347 N12      4\n",
       "445 N12      4\n",
       "300 N12      3\n",
       "507 N12      3\n",
       "105 N12      3\n",
       "269 N12      3\n",
       "113 N12      3\n",
       "129 N12      3\n",
       "610 N12      3\n",
       "329 N12      3\n",
       "370 N12      3\n",
       "122 N12      3\n",
       "410 N12      3\n",
       "102 N12      2\n",
       "462 N12      2\n",
       "125 N12      2\n",
       "243 N12      1\n",
       "252 N12      1\n",
       "449 N12      1\n",
       "609 N12      1\n",
       "90 N12       1\n",
       "544 N12      1\n",
       "460 N12      1\n",
       "230 N12      1\n",
       "211 N12      1\n",
       "188 N12      1\n",
       "374 N12      1\n",
       "Name: engine_power, dtype: int64"
      ]
     },
     "execution_count": 31,
     "metadata": {},
     "output_type": "execute_result"
    }
   ],
   "source": [
    "cars.engine_power.value_counts()"
   ]
  },
  {
   "cell_type": "code",
   "execution_count": 32,
   "metadata": {},
   "outputs": [],
   "source": [
    "cars.engine_power = cars.engine_power.str.split().str[0]"
   ]
  },
  {
   "cell_type": "code",
   "execution_count": 33,
   "metadata": {},
   "outputs": [
    {
     "data": {
      "text/plain": [
       "184    636\n",
       "249    300\n",
       "245    293\n",
       "306    281\n",
       "190    260\n",
       "218    212\n",
       "136    193\n",
       "150    130\n",
       "258    127\n",
       "231     97\n",
       "407     92\n",
       "272     84\n",
       "177     82\n",
       "313     78\n",
       "320     78\n",
       "170     70\n",
       "156     63\n",
       "115     58\n",
       "192     55\n",
       "235     50\n",
       "450     50\n",
       "355     47\n",
       "555     44\n",
       "286     43\n",
       "204     41\n",
       "575     31\n",
       "381     25\n",
       "340     24\n",
       "143     21\n",
       "264     20\n",
       "326     20\n",
       "400     17\n",
       "265     16\n",
       "163     16\n",
       "367     15\n",
       "333     15\n",
       "193     14\n",
       "140     13\n",
       "625     10\n",
       "560     10\n",
       "530      9\n",
       "100      7\n",
       "360      7\n",
       "420      6\n",
       "118      5\n",
       "197      5\n",
       "431      5\n",
       "600      4\n",
       "445      4\n",
       "347      4\n",
       "329      3\n",
       "507      3\n",
       "129      3\n",
       "269      3\n",
       "300      3\n",
       "610      3\n",
       "113      3\n",
       "410      3\n",
       "370      3\n",
       "105      3\n",
       "122      3\n",
       "462      2\n",
       "102      2\n",
       "125      2\n",
       "230      1\n",
       "609      1\n",
       "243      1\n",
       "460      1\n",
       "449      1\n",
       "374      1\n",
       "252      1\n",
       "90       1\n",
       "544      1\n",
       "188      1\n",
       "211      1\n",
       "Name: engine_power, dtype: int64"
      ]
     },
     "execution_count": 33,
     "metadata": {},
     "output_type": "execute_result"
    }
   ],
   "source": [
    "cars.engine_power.value_counts()"
   ]
  },
  {
   "cell_type": "code",
   "execution_count": 34,
   "metadata": {},
   "outputs": [],
   "source": [
    "cars.mileage = cars.mileage.astype('int64')"
   ]
  },
  {
   "cell_type": "code",
   "execution_count": 35,
   "metadata": {},
   "outputs": [
    {
     "data": {
      "text/html": [
       "<div>\n",
       "<style scoped>\n",
       "    .dataframe tbody tr th:only-of-type {\n",
       "        vertical-align: middle;\n",
       "    }\n",
       "\n",
       "    .dataframe tbody tr th {\n",
       "        vertical-align: top;\n",
       "    }\n",
       "\n",
       "    .dataframe thead th {\n",
       "        text-align: right;\n",
       "    }\n",
       "</style>\n",
       "<table border=\"1\" class=\"dataframe\">\n",
       "  <thead>\n",
       "    <tr style=\"text-align: right;\">\n",
       "      <th></th>\n",
       "      <th>name</th>\n",
       "      <th>engine_displacement</th>\n",
       "      <th>transmission</th>\n",
       "      <th>engine_power</th>\n",
       "      <th>drive_type</th>\n",
       "    </tr>\n",
       "  </thead>\n",
       "  <tbody>\n",
       "    <tr>\n",
       "      <th>0</th>\n",
       "      <td>520d 2.0d AT (190 л.с.)</td>\n",
       "      <td>2.0</td>\n",
       "      <td>автоматическая</td>\n",
       "      <td>190</td>\n",
       "      <td>задний</td>\n",
       "    </tr>\n",
       "    <tr>\n",
       "      <th>1</th>\n",
       "      <td>318d 2.0d AT (150 л.с.)</td>\n",
       "      <td>2.0</td>\n",
       "      <td>автоматическая</td>\n",
       "      <td>150</td>\n",
       "      <td>задний</td>\n",
       "    </tr>\n",
       "    <tr>\n",
       "      <th>2</th>\n",
       "      <td>550i xDrive 4.4 AT (407 л.с.) 4WD</td>\n",
       "      <td>4.4</td>\n",
       "      <td>автоматическая</td>\n",
       "      <td>407</td>\n",
       "      <td>полный</td>\n",
       "    </tr>\n",
       "    <tr>\n",
       "      <th>3</th>\n",
       "      <td>30d 3.0d AT (249 л.с.) 4WD</td>\n",
       "      <td>3.0</td>\n",
       "      <td>автоматическая</td>\n",
       "      <td>249</td>\n",
       "      <td>полный</td>\n",
       "    </tr>\n",
       "    <tr>\n",
       "      <th>4</th>\n",
       "      <td>M50d 3.0d AT (381 л.с.) 4WD</td>\n",
       "      <td>3.0</td>\n",
       "      <td>автоматическая</td>\n",
       "      <td>381</td>\n",
       "      <td>полный</td>\n",
       "    </tr>\n",
       "    <tr>\n",
       "      <th>5</th>\n",
       "      <td>30d 3.0d AT (249 л.с.) 4WD</td>\n",
       "      <td>3.0</td>\n",
       "      <td>автоматическая</td>\n",
       "      <td>249</td>\n",
       "      <td>полный</td>\n",
       "    </tr>\n",
       "    <tr>\n",
       "      <th>6</th>\n",
       "      <td>28i xDrive 2.0 AT (245 л.с.) 4WD</td>\n",
       "      <td>2.0</td>\n",
       "      <td>автоматическая</td>\n",
       "      <td>245</td>\n",
       "      <td>полный</td>\n",
       "    </tr>\n",
       "    <tr>\n",
       "      <th>7</th>\n",
       "      <td>20d 2.0d AT (177 л.с.) 4WD</td>\n",
       "      <td>2.0</td>\n",
       "      <td>автоматическая</td>\n",
       "      <td>177</td>\n",
       "      <td>полный</td>\n",
       "    </tr>\n",
       "    <tr>\n",
       "      <th>8</th>\n",
       "      <td>30d 3.0d AT (245 л.с.) 4WD</td>\n",
       "      <td>3.0</td>\n",
       "      <td>автоматическая</td>\n",
       "      <td>245</td>\n",
       "      <td>полный</td>\n",
       "    </tr>\n",
       "    <tr>\n",
       "      <th>9</th>\n",
       "      <td>520i 2.0 AT (184 л.с.)</td>\n",
       "      <td>2.0</td>\n",
       "      <td>автоматическая</td>\n",
       "      <td>184</td>\n",
       "      <td>задний</td>\n",
       "    </tr>\n",
       "  </tbody>\n",
       "</table>\n",
       "</div>"
      ],
      "text/plain": [
       "                                name  engine_displacement    transmission  \\\n",
       "0            520d 2.0d AT (190 л.с.)                  2.0  автоматическая   \n",
       "1            318d 2.0d AT (150 л.с.)                  2.0  автоматическая   \n",
       "2  550i xDrive 4.4 AT (407 л.с.) 4WD                  4.4  автоматическая   \n",
       "3         30d 3.0d AT (249 л.с.) 4WD                  3.0  автоматическая   \n",
       "4        M50d 3.0d AT (381 л.с.) 4WD                  3.0  автоматическая   \n",
       "5         30d 3.0d AT (249 л.с.) 4WD                  3.0  автоматическая   \n",
       "6   28i xDrive 2.0 AT (245 л.с.) 4WD                  2.0  автоматическая   \n",
       "7         20d 2.0d AT (177 л.с.) 4WD                  2.0  автоматическая   \n",
       "8         30d 3.0d AT (245 л.с.) 4WD                  3.0  автоматическая   \n",
       "9             520i 2.0 AT (184 л.с.)                  2.0  автоматическая   \n",
       "\n",
       "  engine_power drive_type  \n",
       "0          190     задний  \n",
       "1          150     задний  \n",
       "2          407     полный  \n",
       "3          249     полный  \n",
       "4          381     полный  \n",
       "5          249     полный  \n",
       "6          245     полный  \n",
       "7          177     полный  \n",
       "8          245     полный  \n",
       "9          184     задний  "
      ]
     },
     "execution_count": 35,
     "metadata": {},
     "output_type": "execute_result"
    }
   ],
   "source": [
    "cars[['name', 'engine_displacement', 'transmission', 'engine_power', 'drive_type']].head(10)"
   ]
  },
  {
   "cell_type": "markdown",
   "metadata": {},
   "source": [
    "### Признак name включает в себя Стиль, объем двигателя, мощность в лош.силах, тип трансмиссии и тип привода. Есть смысл оставить только стиль, остальное у нас есть."
   ]
  },
  {
   "cell_type": "code",
   "execution_count": 36,
   "metadata": {},
   "outputs": [],
   "source": [
    "cars.name = cars.name.str.split()"
   ]
  },
  {
   "cell_type": "code",
   "execution_count": 37,
   "metadata": {},
   "outputs": [],
   "source": [
    "def get_style(row):\n",
    "    if row['name'][1] == 'xDrive':\n",
    "        return row['name'][0] + ' ' + row['name'][1]\n",
    "    elif row['name'][0] == str(row.engine_displacement):\n",
    "        return None\n",
    "    else:\n",
    "        return row['name'][0]\n",
    "\n",
    "cars['style'] = cars.apply(get_style, axis=1)"
   ]
  },
  {
   "cell_type": "markdown",
   "metadata": {},
   "source": [
    "### Признак name можно теперь удалить"
   ]
  },
  {
   "cell_type": "code",
   "execution_count": 38,
   "metadata": {},
   "outputs": [],
   "source": [
    "cars = cars.drop('name', axis=1)"
   ]
  },
  {
   "cell_type": "code",
   "execution_count": 39,
   "metadata": {},
   "outputs": [
    {
     "data": {
      "text/plain": [
       "1.5hyb             5\n",
       "116i             102\n",
       "118d               1\n",
       "118i              66\n",
       "120d              12\n",
       "120d xDrive        1\n",
       "120i              10\n",
       "125i               4\n",
       "130i               2\n",
       "135i               1\n",
       "18d xDrive        21\n",
       "18i               71\n",
       "20d              134\n",
       "20d xDrive        92\n",
       "20i               60\n",
       "20i xDrive        81\n",
       "218i               3\n",
       "220i               5\n",
       "23d                2\n",
       "23i                1\n",
       "25d               27\n",
       "25i               32\n",
       "28i               30\n",
       "28i xDrive        58\n",
       "3.0d              33\n",
       "3.0i              39\n",
       "3.0sd              3\n",
       "3.0si             36\n",
       "30d              255\n",
       "30d xDrive        29\n",
       "30i               56\n",
       "30i xDrive         4\n",
       "316                1\n",
       "316i              51\n",
       "318d               5\n",
       "318i              87\n",
       "320d              42\n",
       "320d xDrive       95\n",
       "320i             171\n",
       "320i xDrive       92\n",
       "323i               4\n",
       "325i              53\n",
       "325i xDrive        1\n",
       "325xi             34\n",
       "328i              18\n",
       "328i xDrive        8\n",
       "330d               2\n",
       "330d xDrive        3\n",
       "330i               8\n",
       "330i xDrive        3\n",
       "330xd              1\n",
       "330xi              6\n",
       "335i              13\n",
       "335i xDrive        6\n",
       "335xi              2\n",
       "340i xDrive        2\n",
       "35d               20\n",
       "35d xDrive         2\n",
       "35i              194\n",
       "35i xDrive         9\n",
       "35is               1\n",
       "4.4i              29\n",
       "4.6is              4\n",
       "4.8i              13\n",
       "4.8is              2\n",
       "40d               81\n",
       "40i               15\n",
       "420d               8\n",
       "420d xDrive       17\n",
       "420i               9\n",
       "420i xDrive       10\n",
       "428i               1\n",
       "428i xDrive        8\n",
       "430i               1\n",
       "430i xDrive        2\n",
       "440i               1\n",
       "48i               34\n",
       "50i               40\n",
       "518                1\n",
       "520Li              7\n",
       "520d              98\n",
       "520d xDrive       38\n",
       "520i             142\n",
       "523i              56\n",
       "525d               7\n",
       "525d xDrive       16\n",
       "525i              54\n",
       "525xd              1\n",
       "525xi             13\n",
       "528Li xDrive       1\n",
       "528i              24\n",
       "528i xDrive       79\n",
       "530Li              3\n",
       "530d              14\n",
       "530d xDrive      108\n",
       "530i              27\n",
       "530i xDrive       27\n",
       "530xd              1\n",
       "530xi             17\n",
       "535d               5\n",
       "535d xDrive        5\n",
       "535i              11\n",
       "535i xDrive       15\n",
       "540i               7\n",
       "540i xDrive        7\n",
       "545i               1\n",
       "550i               8\n",
       "550i xDrive        8\n",
       "620d xDrive        4\n",
       "630d xDrive        7\n",
       "630i              10\n",
       "640d               1\n",
       "640d xDrive       13\n",
       "640i               8\n",
       "640i xDrive       18\n",
       "645i              10\n",
       "650i               8\n",
       "650i xDrive        6\n",
       "725Ld              2\n",
       "725Ld xDrive       1\n",
       "728i               2\n",
       "730Ld              3\n",
       "730Ld xDrive      38\n",
       "730Li              4\n",
       "730d              14\n",
       "730d xDrive       18\n",
       "730i              12\n",
       "735Li              1\n",
       "735i               4\n",
       "740Ld xDrive       6\n",
       "740Li              8\n",
       "740Li xDrive      17\n",
       "740d xDrive       16\n",
       "740i               6\n",
       "745Li              1\n",
       "745i               3\n",
       "750Ld xDrive       3\n",
       "750Li             14\n",
       "750Li xDrive      53\n",
       "750d xDrive        3\n",
       "750i              10\n",
       "750i xDrive       15\n",
       "760Li              4\n",
       "760i               1\n",
       "840d xDrive        7\n",
       "Active             1\n",
       "ActiveHybrid       1\n",
       "CS                 1\n",
       "Competition       13\n",
       "Electro            1\n",
       "M135i xDrive       1\n",
       "M235i              1\n",
       "M235i xDrive       1\n",
       "M340i xDrive       1\n",
       "M40d               1\n",
       "M40i               5\n",
       "M50d              30\n",
       "M50i               1\n",
       "M550d xDrive       6\n",
       "M550i xDrive       2\n",
       "M760Li xDrive      4\n",
       "M850i xDrive       6\n",
       "sDrive18i          4\n",
       "xDrive18d          1\n",
       "xDrive20d          5\n",
       "xDrive20i          2\n",
       "Name: style, dtype: int64"
      ]
     },
     "execution_count": 39,
     "metadata": {},
     "output_type": "execute_result"
    }
   ],
   "source": [
    "cars['style'].value_counts().sort_index()"
   ]
  },
  {
   "cell_type": "code",
   "execution_count": 40,
   "metadata": {},
   "outputs": [
    {
     "data": {
      "text/plain": [
       "полный      2444\n",
       "задний      1378\n",
       "передний      15\n",
       "Name: drive_type, dtype: int64"
      ]
     },
     "execution_count": 40,
     "metadata": {},
     "output_type": "execute_result"
    }
   ],
   "source": [
    "cars.drive_type.value_counts()"
   ]
  },
  {
   "cell_type": "code",
   "execution_count": 41,
   "metadata": {},
   "outputs": [
    {
     "data": {
      "text/plain": [
       "Левый    3837\n",
       "Name: wheel, dtype: int64"
      ]
     },
     "execution_count": 41,
     "metadata": {},
     "output_type": "execute_result"
    }
   ],
   "source": [
    "cars.wheel.value_counts(dropna=False)"
   ]
  },
  {
   "cell_type": "code",
   "execution_count": 42,
   "metadata": {},
   "outputs": [
    {
     "data": {
      "text/plain": [
       "Не требует ремонта    3837\n",
       "Name: condition, dtype: int64"
      ]
     },
     "execution_count": 42,
     "metadata": {},
     "output_type": "execute_result"
    }
   ],
   "source": [
    "cars.condition.value_counts(dropna=False)"
   ]
  },
  {
   "cell_type": "code",
   "execution_count": 43,
   "metadata": {},
   "outputs": [
    {
     "data": {
      "text/plain": [
       "3 или более    1516\n",
       "1 владелец     1309\n",
       "2 владельца    1012\n",
       "Name: owners, dtype: int64"
      ]
     },
     "execution_count": 43,
     "metadata": {},
     "output_type": "execute_result"
    }
   ],
   "source": [
    "cars.owners.value_counts()"
   ]
  },
  {
   "cell_type": "code",
   "execution_count": 44,
   "metadata": {},
   "outputs": [],
   "source": [
    "cars.owners = cars.owners.str.split().str[0]"
   ]
  },
  {
   "cell_type": "code",
   "execution_count": 45,
   "metadata": {},
   "outputs": [
    {
     "data": {
      "text/plain": [
       "3    1516\n",
       "1    1309\n",
       "2    1012\n",
       "Name: owners, dtype: int64"
      ]
     },
     "execution_count": 45,
     "metadata": {},
     "output_type": "execute_result"
    }
   ],
   "source": [
    "cars.owners.value_counts()"
   ]
  },
  {
   "cell_type": "code",
   "execution_count": 46,
   "metadata": {},
   "outputs": [
    {
     "data": {
      "text/plain": [
       "Оригинал    3463\n",
       "Дубликат     374\n",
       "Name: vehicle_title, dtype: int64"
      ]
     },
     "execution_count": 46,
     "metadata": {},
     "output_type": "execute_result"
    }
   ],
   "source": [
    "cars.vehicle_title.value_counts()"
   ]
  },
  {
   "cell_type": "code",
   "execution_count": 47,
   "metadata": {},
   "outputs": [
    {
     "data": {
      "text/html": [
       "<div>\n",
       "<style scoped>\n",
       "    .dataframe tbody tr th:only-of-type {\n",
       "        vertical-align: middle;\n",
       "    }\n",
       "\n",
       "    .dataframe tbody tr th {\n",
       "        vertical-align: top;\n",
       "    }\n",
       "\n",
       "    .dataframe thead th {\n",
       "        text-align: right;\n",
       "    }\n",
       "</style>\n",
       "<table border=\"1\" class=\"dataframe\">\n",
       "  <thead>\n",
       "    <tr style=\"text-align: right;\">\n",
       "      <th></th>\n",
       "      <th>body</th>\n",
       "      <th>color</th>\n",
       "      <th>fuel</th>\n",
       "      <th>model_date</th>\n",
       "      <th>doors</th>\n",
       "      <th>production_date</th>\n",
       "      <th>transmission</th>\n",
       "      <th>engine_displacement</th>\n",
       "      <th>engine_power</th>\n",
       "      <th>description</th>\n",
       "      <th>mileage</th>\n",
       "      <th>features</th>\n",
       "      <th>drive_type</th>\n",
       "      <th>wheel</th>\n",
       "      <th>condition</th>\n",
       "      <th>owners</th>\n",
       "      <th>vehicle_title</th>\n",
       "      <th>ownership</th>\n",
       "      <th>style</th>\n",
       "    </tr>\n",
       "  </thead>\n",
       "  <tbody>\n",
       "    <tr>\n",
       "      <th>0</th>\n",
       "      <td>седан</td>\n",
       "      <td>чёрный</td>\n",
       "      <td>дизель</td>\n",
       "      <td>2016</td>\n",
       "      <td>4</td>\n",
       "      <td>2017</td>\n",
       "      <td>автоматическая</td>\n",
       "      <td>2.0</td>\n",
       "      <td>190</td>\n",
       "      <td>В РОЛЬФ Ясенево представлено более 500 автомоб...</td>\n",
       "      <td>158836</td>\n",
       "      <td>['[{\"name\":\"Безопасность\",\"values\":[\"Антипробу...</td>\n",
       "      <td>задний</td>\n",
       "      <td>Левый</td>\n",
       "      <td>Не требует ремонта</td>\n",
       "      <td>1</td>\n",
       "      <td>Оригинал</td>\n",
       "      <td>NaN</td>\n",
       "      <td>520d</td>\n",
       "    </tr>\n",
       "    <tr>\n",
       "      <th>1</th>\n",
       "      <td>седан</td>\n",
       "      <td>белый</td>\n",
       "      <td>дизель</td>\n",
       "      <td>2018</td>\n",
       "      <td>4</td>\n",
       "      <td>2019</td>\n",
       "      <td>автоматическая</td>\n",
       "      <td>2.0</td>\n",
       "      <td>150</td>\n",
       "      <td>Автомобиль из демонстрационного парка по спец ...</td>\n",
       "      <td>10</td>\n",
       "      <td>['[{\"name\":\"Комфорт\",\"values\":[\"Круиз-контроль...</td>\n",
       "      <td>задний</td>\n",
       "      <td>Левый</td>\n",
       "      <td>Не требует ремонта</td>\n",
       "      <td>1</td>\n",
       "      <td>Оригинал</td>\n",
       "      <td>NaN</td>\n",
       "      <td>318d</td>\n",
       "    </tr>\n",
       "    <tr>\n",
       "      <th>2</th>\n",
       "      <td>седан</td>\n",
       "      <td>синий</td>\n",
       "      <td>бензин</td>\n",
       "      <td>2009</td>\n",
       "      <td>4</td>\n",
       "      <td>2012</td>\n",
       "      <td>автоматическая</td>\n",
       "      <td>4.4</td>\n",
       "      <td>407</td>\n",
       "      <td>Машина собиралась под заказ! \\n\\n</td>\n",
       "      <td>120000</td>\n",
       "      <td>['[{\"name\":\"Комфорт\",\"values\":[\"Круиз-контроль...</td>\n",
       "      <td>полный</td>\n",
       "      <td>Левый</td>\n",
       "      <td>Не требует ремонта</td>\n",
       "      <td>2</td>\n",
       "      <td>Оригинал</td>\n",
       "      <td>7 лет и 2 месяца</td>\n",
       "      <td>550i xDrive</td>\n",
       "    </tr>\n",
       "    <tr>\n",
       "      <th>3</th>\n",
       "      <td>внедорожник</td>\n",
       "      <td>белый</td>\n",
       "      <td>дизель</td>\n",
       "      <td>2014</td>\n",
       "      <td>5</td>\n",
       "      <td>2015</td>\n",
       "      <td>автоматическая</td>\n",
       "      <td>3.0</td>\n",
       "      <td>249</td>\n",
       "      <td>АВТОМОБИЛЬ В БЕЗУПРЕЧНОМ ВНЕШНЕМ И ТЕХНИЧЕСКОМ...</td>\n",
       "      <td>111466</td>\n",
       "      <td>['[{\"name\":\"Комфорт\",\"values\":[\"Круиз-контроль...</td>\n",
       "      <td>полный</td>\n",
       "      <td>Левый</td>\n",
       "      <td>Не требует ремонта</td>\n",
       "      <td>2</td>\n",
       "      <td>Оригинал</td>\n",
       "      <td>NaN</td>\n",
       "      <td>30d</td>\n",
       "    </tr>\n",
       "    <tr>\n",
       "      <th>4</th>\n",
       "      <td>внедорожник</td>\n",
       "      <td>синий</td>\n",
       "      <td>дизель</td>\n",
       "      <td>2014</td>\n",
       "      <td>5</td>\n",
       "      <td>2019</td>\n",
       "      <td>автоматическая</td>\n",
       "      <td>3.0</td>\n",
       "      <td>381</td>\n",
       "      <td>Автомобиль не имеет собственников ( физ. лиц) ...</td>\n",
       "      <td>11891</td>\n",
       "      <td>['[{\"name\":\"Комфорт\",\"values\":[\"Круиз-контроль...</td>\n",
       "      <td>полный</td>\n",
       "      <td>Левый</td>\n",
       "      <td>Не требует ремонта</td>\n",
       "      <td>1</td>\n",
       "      <td>Оригинал</td>\n",
       "      <td>NaN</td>\n",
       "      <td>M50d</td>\n",
       "    </tr>\n",
       "  </tbody>\n",
       "</table>\n",
       "</div>"
      ],
      "text/plain": [
       "          body   color    fuel  model_date  doors  production_date  \\\n",
       "0        седан  чёрный  дизель        2016      4             2017   \n",
       "1        седан   белый  дизель        2018      4             2019   \n",
       "2        седан   синий  бензин        2009      4             2012   \n",
       "3  внедорожник   белый  дизель        2014      5             2015   \n",
       "4  внедорожник   синий  дизель        2014      5             2019   \n",
       "\n",
       "     transmission  engine_displacement engine_power  \\\n",
       "0  автоматическая                  2.0          190   \n",
       "1  автоматическая                  2.0          150   \n",
       "2  автоматическая                  4.4          407   \n",
       "3  автоматическая                  3.0          249   \n",
       "4  автоматическая                  3.0          381   \n",
       "\n",
       "                                         description  mileage  \\\n",
       "0  В РОЛЬФ Ясенево представлено более 500 автомоб...   158836   \n",
       "1  Автомобиль из демонстрационного парка по спец ...       10   \n",
       "2                  Машина собиралась под заказ! \\n\\n   120000   \n",
       "3  АВТОМОБИЛЬ В БЕЗУПРЕЧНОМ ВНЕШНЕМ И ТЕХНИЧЕСКОМ...   111466   \n",
       "4  Автомобиль не имеет собственников ( физ. лиц) ...    11891   \n",
       "\n",
       "                                            features drive_type  wheel  \\\n",
       "0  ['[{\"name\":\"Безопасность\",\"values\":[\"Антипробу...     задний  Левый   \n",
       "1  ['[{\"name\":\"Комфорт\",\"values\":[\"Круиз-контроль...     задний  Левый   \n",
       "2  ['[{\"name\":\"Комфорт\",\"values\":[\"Круиз-контроль...     полный  Левый   \n",
       "3  ['[{\"name\":\"Комфорт\",\"values\":[\"Круиз-контроль...     полный  Левый   \n",
       "4  ['[{\"name\":\"Комфорт\",\"values\":[\"Круиз-контроль...     полный  Левый   \n",
       "\n",
       "            condition owners vehicle_title         ownership        style  \n",
       "0  Не требует ремонта      1      Оригинал               NaN         520d  \n",
       "1  Не требует ремонта      1      Оригинал               NaN         318d  \n",
       "2  Не требует ремонта      2      Оригинал  7 лет и 2 месяца  550i xDrive  \n",
       "3  Не требует ремонта      2      Оригинал               NaN          30d  \n",
       "4  Не требует ремонта      1      Оригинал               NaN         M50d  "
      ]
     },
     "execution_count": 47,
     "metadata": {},
     "output_type": "execute_result"
    }
   ],
   "source": [
    "cars.head()"
   ]
  },
  {
   "cell_type": "markdown",
   "metadata": {},
   "source": [
    "## Общая функция для очистки"
   ]
  },
  {
   "cell_type": "code",
   "execution_count": 53,
   "metadata": {},
   "outputs": [],
   "source": [
    "def clean_test(cars):\n",
    "    cars.columns = ['body', 'brand', 'color', 'fuel', 'model_date', 'name',\n",
    "       'doors', 'production_date', 'configuration',\n",
    "       'transmission', 'engine_displacement', 'engine_power',\n",
    "       'description', 'mileage', 'features', 'drive_type', 'wheel', 'condition',\n",
    "       'owners', 'vehicle_title', 'custom', 'ownership', 'id']\n",
    "    \n",
    "    \n",
    "    cars.body = cars.body.str.split().str[0]\n",
    "    \n",
    "    cars.model_date = cars.model_date.astype('int64')\n",
    "    cars.doors = cars.doors.astype('int64')\n",
    "    cars.production_date = cars.production_date.astype('int64')\n",
    "    cars.mileage = cars.mileage.astype('int64')\n",
    "    \n",
    "    cars.engine_displacement = cars.engine_displacement.str.split().str[0]\n",
    "    cars.loc[cars.engine_displacement == 'undefined', 'engine_displacement']  = None\n",
    "    cars.engine_displacement = cars.engine_displacement.astype('float64')\n",
    "    cars.engine_power = cars.engine_power.str.split().str[0]\n",
    "    cars.name = cars.name.str.split()\n",
    "    \n",
    "    def get_style(row):\n",
    "        if row['name'][1] == 'xDrive':\n",
    "            return row['name'][0] + ' ' + row['name'][1]\n",
    "        elif row['name'][0] == str(row.engine_displacement):\n",
    "            return None\n",
    "        else:\n",
    "            return row['name'][0]\n",
    "\n",
    "    cars['style'] = cars.apply(get_style, axis=1)\n",
    "    \n",
    "    cars.owners = cars.owners.str.split().str[0]\n",
    "    \n",
    "    cars = cars.drop(['name', 'brand', 'id', 'custom', 'configuration'], axis=1)\n",
    "    \n",
    "    cars['price'] = 0\n",
    "    cars['test'] = 1\n",
    "    \n",
    "    return cars[['test', 'style', 'body', 'color', 'fuel', 'model_date', 'doors', 'production_date',\n",
    "       'transmission', 'engine_displacement', 'engine_power',\n",
    "       'mileage', 'drive_type', 'wheel', 'condition', 'owners',\n",
    "       'vehicle_title', 'description', 'features', 'ownership', 'price']]"
   ]
  },
  {
   "cell_type": "code",
   "execution_count": 54,
   "metadata": {},
   "outputs": [],
   "source": [
    "import pandas as pd\n",
    "\n",
    "cars = pd.read_csv('../Data/test.csv')\n",
    "\n",
    "new_cars = clean_test(cars)"
   ]
  },
  {
   "cell_type": "code",
   "execution_count": 50,
   "metadata": {},
   "outputs": [
    {
     "data": {
      "text/html": [
       "<div>\n",
       "<style scoped>\n",
       "    .dataframe tbody tr th:only-of-type {\n",
       "        vertical-align: middle;\n",
       "    }\n",
       "\n",
       "    .dataframe tbody tr th {\n",
       "        vertical-align: top;\n",
       "    }\n",
       "\n",
       "    .dataframe thead th {\n",
       "        text-align: right;\n",
       "    }\n",
       "</style>\n",
       "<table border=\"1\" class=\"dataframe\">\n",
       "  <thead>\n",
       "    <tr style=\"text-align: right;\">\n",
       "      <th></th>\n",
       "      <th>test</th>\n",
       "      <th>style</th>\n",
       "      <th>body</th>\n",
       "      <th>color</th>\n",
       "      <th>fuel</th>\n",
       "      <th>model_date</th>\n",
       "      <th>doors</th>\n",
       "      <th>production_date</th>\n",
       "      <th>transmission</th>\n",
       "      <th>engine_displacement</th>\n",
       "      <th>engine_power</th>\n",
       "      <th>mileage</th>\n",
       "      <th>drive_type</th>\n",
       "      <th>wheel</th>\n",
       "      <th>condition</th>\n",
       "      <th>owners</th>\n",
       "      <th>vehicle_title</th>\n",
       "      <th>description</th>\n",
       "      <th>features</th>\n",
       "      <th>ownership</th>\n",
       "      <th>price</th>\n",
       "    </tr>\n",
       "  </thead>\n",
       "  <tbody>\n",
       "    <tr>\n",
       "      <th>0</th>\n",
       "      <td>1</td>\n",
       "      <td>520d</td>\n",
       "      <td>седан</td>\n",
       "      <td>чёрный</td>\n",
       "      <td>дизель</td>\n",
       "      <td>2016</td>\n",
       "      <td>4</td>\n",
       "      <td>2017</td>\n",
       "      <td>автоматическая</td>\n",
       "      <td>2.0</td>\n",
       "      <td>190</td>\n",
       "      <td>158836</td>\n",
       "      <td>задний</td>\n",
       "      <td>Левый</td>\n",
       "      <td>Не требует ремонта</td>\n",
       "      <td>1</td>\n",
       "      <td>Оригинал</td>\n",
       "      <td>В РОЛЬФ Ясенево представлено более 500 автомоб...</td>\n",
       "      <td>['[{\"name\":\"Безопасность\",\"values\":[\"Антипробу...</td>\n",
       "      <td>NaN</td>\n",
       "      <td>0</td>\n",
       "    </tr>\n",
       "    <tr>\n",
       "      <th>1</th>\n",
       "      <td>1</td>\n",
       "      <td>318d</td>\n",
       "      <td>седан</td>\n",
       "      <td>белый</td>\n",
       "      <td>дизель</td>\n",
       "      <td>2018</td>\n",
       "      <td>4</td>\n",
       "      <td>2019</td>\n",
       "      <td>автоматическая</td>\n",
       "      <td>2.0</td>\n",
       "      <td>150</td>\n",
       "      <td>10</td>\n",
       "      <td>задний</td>\n",
       "      <td>Левый</td>\n",
       "      <td>Не требует ремонта</td>\n",
       "      <td>1</td>\n",
       "      <td>Оригинал</td>\n",
       "      <td>Автомобиль из демонстрационного парка по спец ...</td>\n",
       "      <td>['[{\"name\":\"Комфорт\",\"values\":[\"Круиз-контроль...</td>\n",
       "      <td>NaN</td>\n",
       "      <td>0</td>\n",
       "    </tr>\n",
       "    <tr>\n",
       "      <th>2</th>\n",
       "      <td>1</td>\n",
       "      <td>550i xDrive</td>\n",
       "      <td>седан</td>\n",
       "      <td>синий</td>\n",
       "      <td>бензин</td>\n",
       "      <td>2009</td>\n",
       "      <td>4</td>\n",
       "      <td>2012</td>\n",
       "      <td>автоматическая</td>\n",
       "      <td>4.4</td>\n",
       "      <td>407</td>\n",
       "      <td>120000</td>\n",
       "      <td>полный</td>\n",
       "      <td>Левый</td>\n",
       "      <td>Не требует ремонта</td>\n",
       "      <td>2</td>\n",
       "      <td>Оригинал</td>\n",
       "      <td>Машина собиралась под заказ! \\n\\n</td>\n",
       "      <td>['[{\"name\":\"Комфорт\",\"values\":[\"Круиз-контроль...</td>\n",
       "      <td>7 лет и 2 месяца</td>\n",
       "      <td>0</td>\n",
       "    </tr>\n",
       "    <tr>\n",
       "      <th>3</th>\n",
       "      <td>1</td>\n",
       "      <td>30d</td>\n",
       "      <td>внедорожник</td>\n",
       "      <td>белый</td>\n",
       "      <td>дизель</td>\n",
       "      <td>2014</td>\n",
       "      <td>5</td>\n",
       "      <td>2015</td>\n",
       "      <td>автоматическая</td>\n",
       "      <td>3.0</td>\n",
       "      <td>249</td>\n",
       "      <td>111466</td>\n",
       "      <td>полный</td>\n",
       "      <td>Левый</td>\n",
       "      <td>Не требует ремонта</td>\n",
       "      <td>2</td>\n",
       "      <td>Оригинал</td>\n",
       "      <td>АВТОМОБИЛЬ В БЕЗУПРЕЧНОМ ВНЕШНЕМ И ТЕХНИЧЕСКОМ...</td>\n",
       "      <td>['[{\"name\":\"Комфорт\",\"values\":[\"Круиз-контроль...</td>\n",
       "      <td>NaN</td>\n",
       "      <td>0</td>\n",
       "    </tr>\n",
       "    <tr>\n",
       "      <th>4</th>\n",
       "      <td>1</td>\n",
       "      <td>M50d</td>\n",
       "      <td>внедорожник</td>\n",
       "      <td>синий</td>\n",
       "      <td>дизель</td>\n",
       "      <td>2014</td>\n",
       "      <td>5</td>\n",
       "      <td>2019</td>\n",
       "      <td>автоматическая</td>\n",
       "      <td>3.0</td>\n",
       "      <td>381</td>\n",
       "      <td>11891</td>\n",
       "      <td>полный</td>\n",
       "      <td>Левый</td>\n",
       "      <td>Не требует ремонта</td>\n",
       "      <td>1</td>\n",
       "      <td>Оригинал</td>\n",
       "      <td>Автомобиль не имеет собственников ( физ. лиц) ...</td>\n",
       "      <td>['[{\"name\":\"Комфорт\",\"values\":[\"Круиз-контроль...</td>\n",
       "      <td>NaN</td>\n",
       "      <td>0</td>\n",
       "    </tr>\n",
       "  </tbody>\n",
       "</table>\n",
       "</div>"
      ],
      "text/plain": [
       "   test        style         body   color    fuel  model_date  doors  \\\n",
       "0     1         520d        седан  чёрный  дизель        2016      4   \n",
       "1     1         318d        седан   белый  дизель        2018      4   \n",
       "2     1  550i xDrive        седан   синий  бензин        2009      4   \n",
       "3     1          30d  внедорожник   белый  дизель        2014      5   \n",
       "4     1         M50d  внедорожник   синий  дизель        2014      5   \n",
       "\n",
       "   production_date    transmission  engine_displacement engine_power  mileage  \\\n",
       "0             2017  автоматическая                  2.0          190   158836   \n",
       "1             2019  автоматическая                  2.0          150       10   \n",
       "2             2012  автоматическая                  4.4          407   120000   \n",
       "3             2015  автоматическая                  3.0          249   111466   \n",
       "4             2019  автоматическая                  3.0          381    11891   \n",
       "\n",
       "  drive_type  wheel           condition owners vehicle_title  \\\n",
       "0     задний  Левый  Не требует ремонта      1      Оригинал   \n",
       "1     задний  Левый  Не требует ремонта      1      Оригинал   \n",
       "2     полный  Левый  Не требует ремонта      2      Оригинал   \n",
       "3     полный  Левый  Не требует ремонта      2      Оригинал   \n",
       "4     полный  Левый  Не требует ремонта      1      Оригинал   \n",
       "\n",
       "                                         description  \\\n",
       "0  В РОЛЬФ Ясенево представлено более 500 автомоб...   \n",
       "1  Автомобиль из демонстрационного парка по спец ...   \n",
       "2                  Машина собиралась под заказ! \\n\\n   \n",
       "3  АВТОМОБИЛЬ В БЕЗУПРЕЧНОМ ВНЕШНЕМ И ТЕХНИЧЕСКОМ...   \n",
       "4  Автомобиль не имеет собственников ( физ. лиц) ...   \n",
       "\n",
       "                                            features         ownership  price  \n",
       "0  ['[{\"name\":\"Безопасность\",\"values\":[\"Антипробу...               NaN      0  \n",
       "1  ['[{\"name\":\"Комфорт\",\"values\":[\"Круиз-контроль...               NaN      0  \n",
       "2  ['[{\"name\":\"Комфорт\",\"values\":[\"Круиз-контроль...  7 лет и 2 месяца      0  \n",
       "3  ['[{\"name\":\"Комфорт\",\"values\":[\"Круиз-контроль...               NaN      0  \n",
       "4  ['[{\"name\":\"Комфорт\",\"values\":[\"Круиз-контроль...               NaN      0  "
      ]
     },
     "execution_count": 50,
     "metadata": {},
     "output_type": "execute_result"
    }
   ],
   "source": [
    "new_cars.head()"
   ]
  },
  {
   "cell_type": "code",
   "execution_count": 55,
   "metadata": {},
   "outputs": [
    {
     "data": {
      "text/plain": [
       "Index(['test', 'style', 'body', 'color', 'fuel', 'model_date', 'doors',\n",
       "       'production_date', 'transmission', 'engine_displacement',\n",
       "       'engine_power', 'mileage', 'drive_type', 'wheel', 'condition', 'owners',\n",
       "       'vehicle_title', 'description', 'features', 'ownership', 'price'],\n",
       "      dtype='object')"
      ]
     },
     "execution_count": 55,
     "metadata": {},
     "output_type": "execute_result"
    }
   ],
   "source": [
    "new_cars.columns"
   ]
  },
  {
   "cell_type": "markdown",
   "metadata": {},
   "source": [
    "## Обработка features"
   ]
  },
  {
   "cell_type": "code",
   "execution_count": 232,
   "metadata": {},
   "outputs": [
    {
     "data": {
      "text/plain": [
       "'[{\"name\":\"Безопасность\",\"values\":[\"Антипробуксовочная система (ASR)\",\"Система стабилизации (ESP)\",\"Подушка безопасности водителя\",\"Крепление детского кресла (задний ряд) ISOFIX\",\"Подушки безопасности оконные (шторки)\",\"Подушка безопасности пассажира\",\"Подушки безопасности боковые задние\",\"Подушки безопасности боковые\",\"Датчик давления в шинах\",\"Антиблокировочная система (ABS)\",\"Блокировка замков задних дверей\",\"Подушка безопасности для защиты коленей водителя\"]},{\"name\":\"Комфорт\",\"values\":[\"Система «старт-стоп»\",\"Электростеклоподъёмники передние\",\"Мультифункциональное рулевое колесо\",\"Прикуриватель и пепельница\",\"Бортовой компьютер\",\"Усилитель руля\",\"Электропривод зеркал\",\"Электростеклоподъёмники задние\",\"Парктроник передний\",\"Регулировка руля по вылету\",\"Климат-контроль 2-зонный\",\"Электроскладывание зеркал\",\"Парктроник задний\"]},{\"name\":\"Мультимедиа\",\"values\":[\"AUX\",\"USB\",\"Аудиосистема\",\"Bluetooth\"]},{\"name\":\"Обзор\",\"values\":[\"Датчик света\",\"Автоматический корректор фар\",\"Омыватель фар\",\"Датчик дождя\",\"Электрообогрев боковых зеркал\",\"Светодиодные фары\"]},{\"name\":\"Салон\",\"values\":[\"Регулировка передних сидений по высоте\",\"Передний центральный подлокотник\",\"Складывающееся заднее сиденье\",\"Электрорегулировка передних сидений\",\"Тёмный салон\",\"Кожа (Материал салона)\",\"Обогрев рулевого колеса\",\"Подогрев передних сидений\",\"Отделка кожей рулевого колеса\"]},{\"name\":\"Защита от угона\",\"values\":[\"Центральный замок\",\"Иммобилайзер\"]}]'"
      ]
     },
     "execution_count": 232,
     "metadata": {},
     "output_type": "execute_result"
    }
   ],
   "source": [
    "from pprint import pprint\n",
    "import ast\n",
    "\n",
    "ast.literal_eval(cars.features[0])[0]"
   ]
  },
  {
   "cell_type": "code",
   "execution_count": 233,
   "metadata": {},
   "outputs": [
    {
     "data": {
      "text/plain": [
       "[{'name': 'Безопасность',\n",
       "  'values': ['Антипробуксовочная система (ASR)',\n",
       "   'Система стабилизации (ESP)',\n",
       "   'Подушка безопасности водителя',\n",
       "   'Крепление детского кресла (задний ряд) ISOFIX',\n",
       "   'Подушки безопасности оконные (шторки)',\n",
       "   'Подушка безопасности пассажира',\n",
       "   'Подушки безопасности боковые задние',\n",
       "   'Подушки безопасности боковые',\n",
       "   'Датчик давления в шинах',\n",
       "   'Антиблокировочная система (ABS)',\n",
       "   'Блокировка замков задних дверей',\n",
       "   'Подушка безопасности для защиты коленей водителя']},\n",
       " {'name': 'Комфорт',\n",
       "  'values': ['Система «старт-стоп»',\n",
       "   'Электростеклоподъёмники передние',\n",
       "   'Мультифункциональное рулевое колесо',\n",
       "   'Прикуриватель и пепельница',\n",
       "   'Бортовой компьютер',\n",
       "   'Усилитель руля',\n",
       "   'Электропривод зеркал',\n",
       "   'Электростеклоподъёмники задние',\n",
       "   'Парктроник передний',\n",
       "   'Регулировка руля по вылету',\n",
       "   'Климат-контроль 2-зонный',\n",
       "   'Электроскладывание зеркал',\n",
       "   'Парктроник задний']},\n",
       " {'name': 'Мультимедиа',\n",
       "  'values': ['AUX', 'USB', 'Аудиосистема', 'Bluetooth']},\n",
       " {'name': 'Обзор',\n",
       "  'values': ['Датчик света',\n",
       "   'Автоматический корректор фар',\n",
       "   'Омыватель фар',\n",
       "   'Датчик дождя',\n",
       "   'Электрообогрев боковых зеркал',\n",
       "   'Светодиодные фары']},\n",
       " {'name': 'Салон',\n",
       "  'values': ['Регулировка передних сидений по высоте',\n",
       "   'Передний центральный подлокотник',\n",
       "   'Складывающееся заднее сиденье',\n",
       "   'Электрорегулировка передних сидений',\n",
       "   'Тёмный салон',\n",
       "   'Кожа (Материал салона)',\n",
       "   'Обогрев рулевого колеса',\n",
       "   'Подогрев передних сидений',\n",
       "   'Отделка кожей рулевого колеса']},\n",
       " {'name': 'Защита от угона', 'values': ['Центральный замок', 'Иммобилайзер']}]"
      ]
     },
     "execution_count": 233,
     "metadata": {},
     "output_type": "execute_result"
    }
   ],
   "source": [
    "ast.literal_eval(cars.features[0][2:-2])"
   ]
  },
  {
   "cell_type": "code",
   "execution_count": 51,
   "metadata": {},
   "outputs": [
    {
     "data": {
      "text/plain": [
       "test                      0\n",
       "style                   112\n",
       "body                      0\n",
       "color                     0\n",
       "fuel                      0\n",
       "model_date                0\n",
       "doors                     0\n",
       "production_date           0\n",
       "transmission              0\n",
       "engine_displacement       1\n",
       "engine_power              0\n",
       "mileage                   0\n",
       "drive_type                0\n",
       "wheel                     0\n",
       "condition                 0\n",
       "owners                    0\n",
       "vehicle_title             0\n",
       "description               0\n",
       "features                  0\n",
       "ownership              2084\n",
       "price                     0\n",
       "dtype: int64"
      ]
     },
     "execution_count": 51,
     "metadata": {},
     "output_type": "execute_result"
    }
   ],
   "source": [
    "new_cars.isna().sum()"
   ]
  },
  {
   "cell_type": "code",
   "execution_count": 52,
   "metadata": {},
   "outputs": [
    {
     "name": "stdout",
     "output_type": "stream",
     "text": [
      "<class 'pandas.core.frame.DataFrame'>\n",
      "RangeIndex: 3837 entries, 0 to 3836\n",
      "Data columns (total 21 columns):\n",
      " #   Column               Non-Null Count  Dtype  \n",
      "---  ------               --------------  -----  \n",
      " 0   test                 3837 non-null   int64  \n",
      " 1   style                3725 non-null   object \n",
      " 2   body                 3837 non-null   object \n",
      " 3   color                3837 non-null   object \n",
      " 4   fuel                 3837 non-null   object \n",
      " 5   model_date           3837 non-null   int64  \n",
      " 6   doors                3837 non-null   int64  \n",
      " 7   production_date      3837 non-null   int64  \n",
      " 8   transmission         3837 non-null   object \n",
      " 9   engine_displacement  3836 non-null   float64\n",
      " 10  engine_power         3837 non-null   object \n",
      " 11  mileage              3837 non-null   int64  \n",
      " 12  drive_type           3837 non-null   object \n",
      " 13  wheel                3837 non-null   object \n",
      " 14  condition            3837 non-null   object \n",
      " 15  owners               3837 non-null   object \n",
      " 16  vehicle_title        3837 non-null   object \n",
      " 17  description          3837 non-null   object \n",
      " 18  features             3837 non-null   object \n",
      " 19  ownership            1753 non-null   object \n",
      " 20  price                3837 non-null   int64  \n",
      "dtypes: float64(1), int64(6), object(14)\n",
      "memory usage: 629.6+ KB\n"
     ]
    }
   ],
   "source": [
    "new_cars.info()"
   ]
  },
  {
   "cell_type": "code",
   "execution_count": null,
   "metadata": {},
   "outputs": [],
   "source": []
  }
 ],
 "metadata": {
  "kernelspec": {
   "display_name": "Python 3",
   "language": "python",
   "name": "python3"
  },
  "language_info": {
   "codemirror_mode": {
    "name": "ipython",
    "version": 3
   },
   "file_extension": ".py",
   "mimetype": "text/x-python",
   "name": "python",
   "nbconvert_exporter": "python",
   "pygments_lexer": "ipython3",
   "version": "3.7.7"
  }
 },
 "nbformat": 4,
 "nbformat_minor": 4
}
