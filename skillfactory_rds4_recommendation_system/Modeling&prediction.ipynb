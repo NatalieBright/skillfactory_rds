{
 "cells": [
  {
   "cell_type": "code",
   "execution_count": 2,
   "metadata": {
    "colab": {
     "base_uri": "https://localhost:8080/",
     "height": 158
    },
    "colab_type": "code",
    "id": "7gpEuVV3gDrt",
    "outputId": "c39dccc6-309c-4800-8c4b-54a066046489"
   },
   "outputs": [
    {
     "name": "stdout",
     "output_type": "stream",
     "text": [
      "Requirement already satisfied: lightfm in /usr/local/lib/python3.6/dist-packages (1.15)\n",
      "Requirement already satisfied: numpy in /usr/local/lib/python3.6/dist-packages (from lightfm) (1.18.5)\n",
      "Requirement already satisfied: requests in /usr/local/lib/python3.6/dist-packages (from lightfm) (2.23.0)\n",
      "Requirement already satisfied: scipy>=0.17.0 in /usr/local/lib/python3.6/dist-packages (from lightfm) (1.4.1)\n",
      "Requirement already satisfied: idna<3,>=2.5 in /usr/local/lib/python3.6/dist-packages (from requests->lightfm) (2.10)\n",
      "Requirement already satisfied: chardet<4,>=3.0.2 in /usr/local/lib/python3.6/dist-packages (from requests->lightfm) (3.0.4)\n",
      "Requirement already satisfied: certifi>=2017.4.17 in /usr/local/lib/python3.6/dist-packages (from requests->lightfm) (2020.6.20)\n",
      "Requirement already satisfied: urllib3!=1.25.0,!=1.25.1,<1.26,>=1.21.1 in /usr/local/lib/python3.6/dist-packages (from requests->lightfm) (1.24.3)\n"
     ]
    }
   ],
   "source": [
    "pip install lightfm"
   ]
  },
  {
   "cell_type": "code",
   "execution_count": 3,
   "metadata": {
    "colab": {},
    "colab_type": "code",
    "id": "NLWUMuQDf03L"
   },
   "outputs": [],
   "source": [
    "#Загрузим необходимые для работы библиотеки\n",
    "import numpy as np # linear algebra\n",
    "import pandas as pd # data processing, CSV file I/O (e.g. pd.read_csv)\n",
    "\n",
    "import numpy as np # linear algebra\n",
    "import pandas as pd # data processing, CSV file I/O (e.g. pd.read_csv)\n",
    "\n",
    "import warnings\n",
    "warnings.filterwarnings('ignore')\n",
    "\n",
    "#Для визуализации\n",
    "import seaborn as sns\n",
    "import matplotlib.pyplot as plt\n",
    "\n",
    "pd.set_option('display.max_columns', None)\n",
    "pd.set_option('display.max_rows', None)\n",
    "\n",
    "#Для моделирования\n",
    "import scipy.sparse as sparse\n",
    "from lightfm import LightFM\n",
    "from lightfm.data import Dataset\n",
    "from lightfm.cross_validation import random_train_test_split\n",
    "from lightfm.evaluation import auc_score, precision_at_k, recall_at_k\n",
    "import sklearn\n",
    "from sklearn.model_selection import train_test_split\n",
    "from sklearn.metrics.pairwise import cosine_similarity\n",
    "from sklearn.metrics import roc_auc_score\n"
   ]
  },
  {
   "cell_type": "code",
   "execution_count": 4,
   "metadata": {
    "colab": {},
    "colab_type": "code",
    "id": "mG-26lqTf0jw"
   },
   "outputs": [],
   "source": [
    "#Считаем файлы\n",
    "train = pd.read_csv('data/train_pr1.csv')\n",
    "test = pd.read_csv('data/test.csv')\n",
    "sample = pd.read_csv('data/sample_submission.csv')"
   ]
  },
  {
   "cell_type": "code",
   "execution_count": 7,
   "metadata": {
    "colab": {},
    "colab_type": "code",
    "id": "aG76bAk7r44E"
   },
   "outputs": [],
   "source": [
    "items = pd.read_csv('data/items1.csv')"
   ]
  },
  {
   "cell_type": "markdown",
   "metadata": {
    "colab_type": "text",
    "id": "SVWvWf2le-eF"
   },
   "source": [
    "# 3 Создание модели"
   ]
  },
  {
   "cell_type": "markdown",
   "metadata": {
    "colab_type": "text",
    "id": "3M3kmSZlfCH-"
   },
   "source": [
    "## 3.1 Строим матрицу взаимодействий, строки: userid; столбцы: itemid"
   ]
  },
  {
   "cell_type": "code",
   "execution_count": 12,
   "metadata": {
    "colab": {},
    "colab_type": "code",
    "id": "u23m86G7XFN4"
   },
   "outputs": [],
   "source": [
    "# построим разреженную матрицу взаимодействий\n",
    "ratings_coo = sparse.coo_matrix((train['rating'].astype(int),\n",
    "                                 (train['userid'],train['itemid'])))\n",
    "\n",
    "train_rating_coo, test_rating_coo = random_train_test_split(ratings_coo)"
   ]
  },
  {
   "cell_type": "markdown",
   "metadata": {},
   "source": [
    "## 3.2 Строим разреженную матрицу признаков по товарам"
   ]
  },
  {
   "cell_type": "markdown",
   "metadata": {
    "colab_type": "text",
    "id": "o17d3d_vlWlV"
   },
   "source": [
    "Для этого используем следующие данные:\n",
    "\n",
    "1 Категорию продукта \n",
    "\n",
    "2 Общее количество отзывов на каждый продукт\n",
    "\n",
    "3 Средняя оценка по 5-ти балльной шкале"
   ]
  },
  {
   "cell_type": "code",
   "execution_count": 13,
   "metadata": {
    "colab": {},
    "colab_type": "code",
    "id": "IBiEglqnlRsn"
   },
   "outputs": [],
   "source": [
    "# Приведем count_rev к шкале от 0 до 5, чтобы сделать соразмерным оценке Overall\n",
    "items['count_rev'] = 5 * items['count_rev']/items['count_rev'].max()"
   ]
  },
  {
   "cell_type": "code",
   "execution_count": 14,
   "metadata": {
    "colab": {
     "base_uri": "https://localhost:8080/",
     "height": 52
    },
    "colab_type": "code",
    "id": "Jg-hHyazlvVb",
    "outputId": "8556633e-e498-48ce-ec89-32b5834fdb62"
   },
   "outputs": [
    {
     "data": {
      "text/plain": [
       "<41320x1178 sparse matrix of type '<class 'numpy.float64'>'\n",
       "\twith 123903 stored elements in COOrdinate format>"
      ]
     },
     "execution_count": 14,
     "metadata": {
      "tags": []
     },
     "output_type": "execute_result"
    }
   ],
   "source": [
    "# Обработка признаков товаров\n",
    "def item_feats(df_items):\n",
    "    N_items=df_items.item_id.max() + 1\n",
    "    N_cat = df_items.cat_id.max() + 1\n",
    "    \n",
    "    # данные, которые будут храниться в разреженной матрице:\n",
    "    # 1-категори (передаем единицы, которые будут соответствовать столбцу с номером категории)\n",
    "    # 2 - count_rev - количеcтво отзывов на товар\n",
    "    # 3 - overall_mean -средняя оценка по 5-ти балльной шкале\n",
    "    \n",
    "    data = np.concatenate([np.array([1] * len(df_items)), \n",
    "                           df_items.count_rev.values,\n",
    "                           df_items.overall_mean.values])\n",
    "    \n",
    "    # номера строк - повторим трижды список item_id\n",
    "    rows_ids = np.tile(df_items.item_id, 3)\n",
    "    \n",
    "    # номера колонок\n",
    "    # 1-номер категории\n",
    "    # 2 - одна колонка, номер = макс. категорией + 1\n",
    "    # 3 - одна колонка, номер = макс. категорией + 2\n",
    "    col1 = df_items.cat_id.values\n",
    "    col2 = np.array([N_cat + 1] * len(df_items))\n",
    "    col3 = np.array([N_cat + 2] * len(df_items))\n",
    "    cols_ids = np.concatenate((col1, col2, col3))\n",
    "    \n",
    "    return sparse.coo_matrix((data, (rows_ids,cols_ids)))\n",
    "    \n",
    "item_features = item_feats(items)\n",
    "item_features"
   ]
  },
  {
   "cell_type": "markdown",
   "metadata": {
    "colab_type": "text",
    "id": "4BcGo0l6m6M6"
   },
   "source": [
    "## 3.3 Построим пробную модель из baseline"
   ]
  },
  {
   "cell_type": "code",
   "execution_count": 15,
   "metadata": {
    "colab": {},
    "colab_type": "code",
    "id": "zFcpbdQTmoao"
   },
   "outputs": [],
   "source": [
    "NUM_THREADS = 2 #число потоков\n",
    "NUM_COMPONENTS = 20 #число параметров вектора \n",
    "NUM_EPOCHS = 10 #число эпох обучения\n",
    "\n",
    "model = LightFM(learning_rate=0.1, loss='logistic',\n",
    "                no_components=NUM_COMPONENTS)\n",
    "model = model.fit(train_rating_coo, epochs=NUM_EPOCHS, \n",
    "                  num_threads=NUM_THREADS)"
   ]
  },
  {
   "cell_type": "code",
   "execution_count": 16,
   "metadata": {
    "colab": {},
    "colab_type": "code",
    "id": "ZWk7-aUSm-BP"
   },
   "outputs": [],
   "source": [
    "#  Сделаем предсказание на тестовой выборке\n",
    "preds = model.predict(test_rating_coo.row,\n",
    "                      test_rating_coo.col)"
   ]
  },
  {
   "cell_type": "code",
   "execution_count": 17,
   "metadata": {
    "colab": {
     "base_uri": "https://localhost:8080/",
     "height": 34
    },
    "colab_type": "code",
    "id": "xAAxz27xnAQb",
    "outputId": "72c611b9-0b6f-4ec4-ba60-72f4860d946d"
   },
   "outputs": [
    {
     "data": {
      "text/plain": [
       "0.7253273346812417"
      ]
     },
     "execution_count": 17,
     "metadata": {
      "tags": []
     },
     "output_type": "execute_result"
    }
   ],
   "source": [
    "# Посмотрим на метрику roc_auc_score\n",
    "sklearn.metrics.roc_auc_score(test_rating_coo.data,preds)"
   ]
  },
  {
   "cell_type": "code",
   "execution_count": 18,
   "metadata": {
    "colab": {
     "base_uri": "https://localhost:8080/",
     "height": 34
    },
    "colab_type": "code",
    "id": "pYp6m1g4bYP1",
    "outputId": "886d14e8-9744-4038-afb8-0130756d33bb"
   },
   "outputs": [
    {
     "name": "stdout",
     "output_type": "stream",
     "text": [
      "Precision: 0.01301596686244011, recall: 0.04021835242595316\n"
     ]
    }
   ],
   "source": [
    "# Посчитаем precision, recall.\n",
    "pr_at_k = precision_at_k(model=model, test_interactions=test_rating_coo, k=5)\n",
    "rc_at_k = recall_at_k(model=model, test_interactions=test_rating_coo, k=5)\n",
    "print(f'Precision: {pr_at_k.mean()}, recall: {rc_at_k.mean()}')"
   ]
  },
  {
   "cell_type": "code",
   "execution_count": 19,
   "metadata": {
    "colab": {},
    "colab_type": "code",
    "id": "szu-wPXznHGY"
   },
   "outputs": [],
   "source": [
    "# Сделаем предсказание на Kaggle\n",
    "# Для этого обучим модель на всех имеющихся данных\n",
    "model_kaggle = LightFM(learning_rate=0.1, loss='logistic',\n",
    "                no_components=NUM_COMPONENTS)\n",
    "model_kaggle = model_kaggle.fit(ratings_coo, epochs=NUM_EPOCHS, \n",
    "                  num_threads=NUM_THREADS)\n",
    "preds_kaggle = model_kaggle.predict(test.userid.values,\n",
    "                                 test.itemid.values)\n",
    "preds_kaggle = (preds_kaggle - preds_kaggle.min())/(preds_kaggle.max() - preds_kaggle.min())\n",
    "sample['rating'] = preds_kaggle\n",
    "sample.to_csv('submission_base.csv', index=False)"
   ]
  },
  {
   "cell_type": "markdown",
   "metadata": {
    "colab_type": "text",
    "id": "mqGz6ETxoAZu"
   },
   "source": [
    "Промежуточный итог¶\n",
    "Базовая модель работает, найдены метрики для нее, можно делать предсказания.\n",
    "RocAuc для тестовых данных: 0.725 (sklern)\n",
    "для Каггл: 0.76229\n",
    "Вычисленные метрики : RocAuc, Precision, Recall. Можно также получить эмбединги и биасы. следующий этап -  подбор оптимальных параметров модели"
   ]
  },
  {
   "cell_type": "markdown",
   "metadata": {
    "colab_type": "text",
    "id": "u_YU7d4-oGh1"
   },
   "source": [
    "## 3.4 Подбор параметров модели"
   ]
  },
  {
   "cell_type": "markdown",
   "metadata": {
    "colab_type": "text",
    "id": "DQaSBq-_oQVf"
   },
   "source": [
    "Добавим теперь к этой модели признаки товаров и регуляризацию. По результатам  экспериментов получили, что лучшими параметрами будут:"
   ]
  },
  {
   "cell_type": "code",
   "execution_count": 38,
   "metadata": {
    "colab": {},
    "colab_type": "code",
    "id": "DZjYD-A3n9pI"
   },
   "outputs": [],
   "source": [
    "NUM_THREADS = 4 #число потоков\n",
    "NUM_COMPONENTS = 40\n",
    "NUM_EPOCHS = 10\n",
    "LR = 0.1\n",
    "alphas = 0.00001\n",
    "LOSS_TYPE = 'logistic'"
   ]
  },
  {
   "cell_type": "code",
   "execution_count": 39,
   "metadata": {
    "colab": {
     "base_uri": "https://localhost:8080/",
     "height": 34
    },
    "colab_type": "code",
    "id": "6-h5XujRokTV",
    "outputId": "52ae6685-adb1-4629-df00-143ac40d3535"
   },
   "outputs": [
    {
     "data": {
      "text/plain": [
       "0.7134180114772288"
      ]
     },
     "execution_count": 39,
     "metadata": {
      "tags": []
     },
     "output_type": "execute_result"
    }
   ],
   "source": [
    "#Создаём модель с регуляриацией и использованием признаков товаров\n",
    "model_reg = LightFM(learning_rate=LR, loss=LOSS_TYPE, no_components=NUM_COMPONENTS)\n",
    "                   \n",
    "#Обучаем модель\n",
    "model_reg = model_reg.fit(train_rating_coo, epochs=NUM_EPOCHS, \n",
    "                  num_threads=NUM_THREADS,\n",
    "                  item_features=item_features)\n",
    "\n",
    "# сделаем предсказание для тестовой выборки\n",
    "preds = model_reg.predict(test_rating_coo.row,\n",
    "                     test_rating_coo.col,\n",
    "                     item_features=item_features)\n",
    "\n",
    "# RocAuc из sklern:\n",
    "sklearn.metrics.roc_auc_score(test_rating_coo.data, preds)"
   ]
  },
  {
   "cell_type": "markdown",
   "metadata": {
    "colab_type": "text",
    "id": "mYNhBV4lo0Km"
   },
   "source": [
    "Делаем предсказание на тестовой выборке для Каггл"
   ]
  },
  {
   "cell_type": "code",
   "execution_count": 40,
   "metadata": {
    "colab": {},
    "colab_type": "code",
    "id": "bxj1jbuVo4l-"
   },
   "outputs": [],
   "source": [
    "#Создаём модель с регуляриацией для Kaggle \n",
    "model_reg_kaggle = LightFM(learning_rate=LR, loss=LOSS_TYPE, no_components=NUM_COMPONENTS,\n",
    "                   item_alpha=alphas, user_alpha=alphas)\n",
    "\n",
    "#Обучаем модель\n",
    "model_reg_kaggle = model_reg_kaggle.fit(ratings_coo, epochs=NUM_EPOCHS, \n",
    "                  num_threads=NUM_THREADS,\n",
    "                  item_features=item_features)\n",
    "\n",
    "preds_kaggle = model_reg_kaggle.predict(test.userid.values,\n",
    "                     test.itemid.values,\n",
    "                  item_features=item_features)\n",
    "\n",
    "preds_kaggle = (preds_kaggle - preds_kaggle.min())/(preds_kaggle.max() - preds_kaggle.min())\n",
    "sample['rating'] = preds_kaggle\n",
    "sample.to_csv('submission_base1.csv', index=False)"
   ]
  },
  {
   "cell_type": "markdown",
   "metadata": {
    "colab_type": "text",
    "id": "U3XUjPvDpKUL"
   },
   "source": [
    "# 4 Рекомендации для пользователя\n",
    "Для существующх пользователей дадим рекомендации на основании его покупок, а новым пользователям предложим наиболее популярные товары"
   ]
  },
  {
   "cell_type": "code",
   "execution_count": 41,
   "metadata": {
    "colab": {},
    "colab_type": "code",
    "id": "rcaSCX27pMtZ"
   },
   "outputs": [],
   "source": [
    "# для прототипа создадим сокращенную версию тренировочного набора:\n",
    "train_reduced = train[['userid', 'itemid', 'overall', 'reviewTime']]\n",
    "\n",
    "N_last = 5 #столько последних покупок будем показывать и к ним давать рекомендации\n",
    "# Возьмем произвольно номер пользователя, для которого будем давать рекомендации\n",
    "user_id_for_recommend = 2052"
   ]
  },
  {
   "cell_type": "code",
   "execution_count": 42,
   "metadata": {
    "colab": {
     "base_uri": "https://localhost:8080/",
     "height": 34
    },
    "colab_type": "code",
    "id": "ZbSOZvtDpaT2",
    "outputId": "d0965be1-a925-4a3a-868c-eee44ccb1876"
   },
   "outputs": [
    {
     "data": {
      "text/plain": [
       "(0.4239724, 14.608872)"
      ]
     },
     "execution_count": 42,
     "metadata": {
      "tags": []
     },
     "output_type": "execute_result"
    }
   ],
   "source": [
    "# получим эмбеддинги и запишем их в файл\n",
    "item_biases, item_embeddings = model_reg_kaggle.get_item_representations(features=item_features)\n",
    "user_biases, user_embeddings = model_reg_kaggle.get_user_representations()\n",
    "user_embeddings.max(), item_embeddings.max()"
   ]
  },
  {
   "cell_type": "code",
   "execution_count": 27,
   "metadata": {
    "colab": {
     "base_uri": "https://localhost:8080/",
     "height": 194
    },
    "colab_type": "code",
    "id": "avyhnS6Ui2br",
    "outputId": "8a882f5f-2ebf-4648-d8bd-4468d06c9824"
   },
   "outputs": [
    {
     "name": "stdout",
     "output_type": "stream",
     "text": [
      "Collecting nmslib\n",
      "\u001b[?25l  Downloading https://files.pythonhosted.org/packages/d5/fd/7d7428d29f12be5d1cc6d586d425b795cc9c596ae669593fd4f388602010/nmslib-2.0.6-cp36-cp36m-manylinux2010_x86_64.whl (12.9MB)\n",
      "\u001b[K     |████████████████████████████████| 13.0MB 317kB/s \n",
      "\u001b[?25hRequirement already satisfied: psutil in /usr/local/lib/python3.6/dist-packages (from nmslib) (5.4.8)\n",
      "Collecting pybind11>=2.2.3\n",
      "\u001b[?25l  Downloading https://files.pythonhosted.org/packages/89/e3/d576f6f02bc75bacbc3d42494e8f1d063c95617d86648dba243c2cb3963e/pybind11-2.5.0-py2.py3-none-any.whl (296kB)\n",
      "\u001b[K     |████████████████████████████████| 296kB 47.4MB/s \n",
      "\u001b[?25hRequirement already satisfied: numpy>=1.10.0 in /usr/local/lib/python3.6/dist-packages (from nmslib) (1.18.5)\n",
      "Installing collected packages: pybind11, nmslib\n",
      "Successfully installed nmslib-2.0.6 pybind11-2.5.0\n"
     ]
    }
   ],
   "source": [
    "pip install nmslib"
   ]
  },
  {
   "cell_type": "code",
   "execution_count": 43,
   "metadata": {
    "colab": {},
    "colab_type": "code",
    "id": "UhOc2nD1imcR"
   },
   "outputs": [],
   "source": [
    "import nmslib\n",
    " \n",
    "#Создаём граф для поиска\n",
    "nms_idx = nmslib.init(method='hnsw', space='cosinesimil')\n",
    " \n",
    "#Добавляем товары в граф\n",
    "nms_idx.addDataPointBatch(item_embeddings)\n",
    "nms_idx.createIndex(print_progress=True)"
   ]
  },
  {
   "cell_type": "code",
   "execution_count": 44,
   "metadata": {
    "colab": {},
    "colab_type": "code",
    "id": "DJ58Qo07jFbI"
   },
   "outputs": [],
   "source": [
    "#Вспомогательная функция для поиска по графу\n",
    "def nearest_item_nms(item_id, index, n=5):\n",
    "    nn = index.knnQuery(item_embeddings[item_id], k=n)\n",
    "    return nn"
   ]
  },
  {
   "cell_type": "code",
   "execution_count": 45,
   "metadata": {
    "colab": {
     "base_uri": "https://localhost:8080/",
     "height": 1000
    },
    "colab_type": "code",
    "id": "-QsGRqqnjMt3",
    "outputId": "7b0dff73-76c5-4b4d-8cf4-def81921dd61"
   },
   "outputs": [
    {
     "name": "stdout",
     "output_type": "stream",
     "text": [
      "Last best items are:\n",
      "6876    Goya Guava Jelly, 17-Ounce Glass Jars (Pack of 3)\n",
      "Name: title, dtype: object\n",
      "36214    Calbee Potato Chips Seaweed/Salt, 2.8-Ounce Un...\n",
      "Name: title, dtype: object\n",
      "23664    Bemka.com American Sturgeon Hackleback Wild Ca...\n",
      "Name: title, dtype: object\n",
      "18978    Simply Organic Garlic Vinaigrette Dressing, 1-...\n",
      "Name: title, dtype: object\n",
      "36885    Excalibur Cinnamon, Ground, 4.25-Pound Shaker ...\n",
      "Name: title, dtype: object\n",
      "\n",
      "Recommended items:\n",
      "{7555, 36228, 5768, 36750, 36899, 19876, 17573, 37418, 24235, 35498, 20908, 26300, 23612, 30782, 9547, 16332, 6095, 19543, 28506, 21212, 6882, 19558, 25325, 23671, 7422}\n",
      "7555    McCormick Gourmet Whole Nutmeg, 1.5 oz\n",
      "Name: title, dtype: object\n",
      "36228    Yamamoto Green Tea (with roasted brown rice) 48g\n",
      "Name: title, dtype: object\n",
      "5768    Potato Flakes/Granules, 1 lb.\n",
      "Name: title, dtype: object\n",
      "36750    Lakewood Organic Fresh Pressed Pure Pineapple ...\n",
      "Name: title, dtype: object\n",
      "36899    Kidsmania Sour Flush Candy Plunger with Sour P...\n",
      "Name: title, dtype: object\n",
      "19876    Mayonnaise Thomy 100ml\n",
      "Name: title, dtype: object\n",
      "17573    The Savannah Bee Company 100% Pure Sourwood Ho...\n",
      "Name: title, dtype: object\n",
      "37418    Elki's Gourmet Scandinavian Delights Preserves...\n",
      "Name: title, dtype: object\n",
      "24235    C&H Pure Cane Granulated White Sugar, 10 lb\n",
      "Name: title, dtype: object\n",
      "35498    Eden Foods Furikake Shake, 2.1 oz\n",
      "Name: title, dtype: object\n",
      "20908    Chocolat Bonnat 'Puerto Cabello' 75% Dark Choc...\n",
      "Name: title, dtype: object\n",
      "26300    Tea Forte Exotics Tea Collection - 20 pieces i...\n",
      "Name: title, dtype: object\n",
      "23612    De Cecco Pasta Angel Hair Nest 8.8 oz (1 pack)\n",
      "Name: title, dtype: object\n",
      "30782    Pita Bread Factory 7 inch Whole Wheat Pita Bre...\n",
      "Name: title, dtype: object\n",
      "9547    McCormick Season-All, Seasoned Salt, Spicy, 7....\n",
      "Name: title, dtype: object\n",
      "16332    Wise Snacks Popcorn, White Cheddar, 5-Ounce Ba...\n",
      "Name: title, dtype: object\n",
      "6095    Mulberry Jam (Wild) 4.8 ounce\n",
      "Name: title, dtype: object\n",
      "19543    Delicia Assorted Filled Milk Chocolate Truffle...\n",
      "Name: title, dtype: object\n",
      "28506    Simply Organic Poppy Seed Whole Certified Orga...\n",
      "Name: title, dtype: object\n",
      "21212    Chuckles (Pack of 24)\n",
      "Name: title, dtype: object\n",
      "6882    Baron West Indian Hot Sauce - 14 fl.oz\n",
      "Name: title, dtype: object\n",
      "19558    Italian Porcini Mushrooms (Cepes) - First Choi...\n",
      "Name: title, dtype: object\n",
      "25325    Delba Famous German Pumpernickel Bread, 16.75 ...\n",
      "Name: title, dtype: object\n",
      "23671    Fruitabu Strawberry Twirls, 4.4 Ounce Boxes (P...\n",
      "Name: title, dtype: object\n",
      "7422    Nutter Butter Peanut Butter Sandwich Cookies -...\n",
      "Name: title, dtype: object\n"
     ]
    }
   ],
   "source": [
    "items_recommend_ids = set()\n",
    "if user_id_for_recommend in train_reduced['userid'].unique():\n",
    "    \n",
    "    #выводим весь список покупок для этого пользователя\n",
    "    train_reduced[train_reduced['userid'] == user_id_for_recommend]\n",
    "    #список трех последних покупок, оцененных на макс оценку\n",
    "    last_best_items = train_reduced[train_reduced['userid'] == user_id_for_recommend\n",
    "                               ].sort_values(by = ['overall', 'reviewTime'], \n",
    "                               ascending=False)['itemid'].values[:N_last]\n",
    "    print(f'Last best items are:')\n",
    "    for item_id in last_best_items:\n",
    "        print (items[items['item_id'] == item_id].title)\n",
    "\n",
    "    # составляем список рекомендаций к последним покупкам\n",
    "    for item in last_best_items:\n",
    "        items_recommend_ids.update(nearest_item_nms(item,nms_idx)[0])\n",
    "else:\n",
    "    # новым пользователям предложим случайные 10 товаров из числа тех, которые получили оценки 4 и 5 \n",
    "    # и количество отзывов на них в верхних 20%\n",
    "    \n",
    "    print(\"It's a new user!\")\n",
    "    most_popular_items = items[(items['NoRev'] >= items['NoRev'].quantile(0.95))]\n",
    "    items_recommend_ids.update(most_popular_items.sample(10)['itemid'].values)\n",
    " \n",
    "print()\n",
    "print('Recommended items:')\n",
    "print(items_recommend_ids)\n",
    "for item_id in items_recommend_ids:\n",
    "    print (items[items.index == item_id].title)"
   ]
  },
  {
   "cell_type": "code",
   "execution_count": 46,
   "metadata": {
    "colab": {},
    "colab_type": "code",
    "id": "hjyGKk-fjN2w"
   },
   "outputs": [],
   "source": [
    "# сохраним эмбеддинги для прототипа\n",
    "import pickle\n",
    "with open('items_embeddings.pkl', 'wb') as f_out:\n",
    "    pickle.dump(item_embeddings, f_out)"
   ]
  },
  {
   "cell_type": "markdown",
   "metadata": {},
   "source": [
    "# 5 Выводы"
   ]
  },
  {
   "cell_type": "markdown",
   "metadata": {
    "colab_type": "text",
    "id": "adqDdtYXjX9Z"
   },
   "source": [
    "1 Построена базовая модель\n",
    "\n",
    "2 Подобраны параметры модели с целью увеличить RocAuc, добавлена регуляризация и признаки товаров: скор ухудшился на моей тестовой выборке с 0.725 до 0.713, на Каггле стал хуже не значительно (с 0.76 до 0.75).\n",
    "\n",
    "3 Добавлены признаки товаров. Но результат странный: добавление признаков в модель приводит к ухудшению RocAuc (с 0.76 до 0.74 ухудшается при добавлении фич)\n",
    "\n",
    "4 Даны рекомендации пользователю на основе эмбеддингов понравившихся товаров\n",
    "\n",
    "5. Для новых пользователей мойжно устраивать небольшй опрос при регистрации, а также пробовать рекомендовать самые популярные товары.\n"
   ]
  },
  {
   "cell_type": "code",
   "execution_count": 31,
   "metadata": {
    "colab": {},
    "colab_type": "code",
    "id": "5xJRNe7cjSXc"
   },
   "outputs": [],
   "source": []
  }
 ],
 "metadata": {
  "colab": {
   "name": "Modeling&prediction.ipynb",
   "provenance": []
  },
  "kernelspec": {
   "display_name": "Python 3",
   "language": "python",
   "name": "python3"
  },
  "language_info": {
   "codemirror_mode": {
    "name": "ipython",
    "version": 3
   },
   "file_extension": ".py",
   "mimetype": "text/x-python",
   "name": "python",
   "nbconvert_exporter": "python",
   "pygments_lexer": "ipython3",
   "version": "3.7.7"
  }
 },
 "nbformat": 4,
 "nbformat_minor": 1
}
