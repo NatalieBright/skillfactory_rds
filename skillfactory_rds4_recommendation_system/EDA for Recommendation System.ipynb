{
 "cells": [
  {
   "cell_type": "markdown",
   "metadata": {},
   "source": [
    "# Создание рекомендательной системы"
   ]
  },
  {
   "cell_type": "markdown",
   "metadata": {},
   "source": [
    "## Цели работы:"
   ]
  },
  {
   "cell_type": "markdown",
   "metadata": {},
   "source": [
    "Необходимо реализовать алгоритм построения рекомендательной системы на основе истории оценок пользователей для товаров.\n",
    "\n",
    "Для оценки качества модели будет использоваться метрика RocAuc. Это одна из самых популярных метрик в задачах бинарной классификации поскольку мы хотим предсказывать, понравится ли товар пользователю или нет.\n",
    "\n",
    "В качестве алгоритма для построения рекомендаций после ряда экспериментов был выбран LightFM.\n",
    "\n",
    "Ссылка на учебное соревнование SkillFactory: https://www.kaggle.com/c/recommendationsv4/"
   ]
  },
  {
   "cell_type": "markdown",
   "metadata": {},
   "source": [
    "# 1.Импорт библиотек и подготовка данных"
   ]
  },
  {
   "cell_type": "code",
   "execution_count": 1,
   "metadata": {},
   "outputs": [],
   "source": [
    "#Импортируем необходимые библиотеки\n",
    "from datetime import datetime\n",
    "\n",
    "import pandas as pd\n",
    "\n",
    "pd.set_option('display.max_rows', 200)\n",
    "pd.set_option('display.max_columns', 50)\n",
    "\n",
    "import matplotlib.pyplot as plt\n",
    "%matplotlib inline\n",
    "\n",
    "import os\n",
    "for dirname, _, filenames in os.walk('/kaggle/input'):\n",
    "    for filename in filenames:\n",
    "        print(os.path.join(dirname, filename))\n",
    "\n",
    "import seaborn as sns\n",
    "\n",
    "from sklearn.preprocessing import OneHotEncoder"
   ]
  },
  {
   "cell_type": "code",
   "execution_count": 3,
   "metadata": {},
   "outputs": [],
   "source": [
    "train = pd.read_csv('data/train.csv', low_memory=False)\n",
    "test = pd.read_csv('data/test.csv', low_memory=False)\n",
    "submission = pd.read_csv('data/sample_submission.csv')"
   ]
  },
  {
   "cell_type": "markdown",
   "metadata": {},
   "source": [
    "Посмотрим на данные в тренировочном датасете:"
   ]
  },
  {
   "cell_type": "code",
   "execution_count": 4,
   "metadata": {},
   "outputs": [
    {
     "data": {
      "text/html": [
       "<div>\n",
       "<style scoped>\n",
       "    .dataframe tbody tr th:only-of-type {\n",
       "        vertical-align: middle;\n",
       "    }\n",
       "\n",
       "    .dataframe tbody tr th {\n",
       "        vertical-align: top;\n",
       "    }\n",
       "\n",
       "    .dataframe thead th {\n",
       "        text-align: right;\n",
       "    }\n",
       "</style>\n",
       "<table border=\"1\" class=\"dataframe\">\n",
       "  <thead>\n",
       "    <tr style=\"text-align: right;\">\n",
       "      <th></th>\n",
       "      <th>overall</th>\n",
       "      <th>verified</th>\n",
       "      <th>reviewTime</th>\n",
       "      <th>asin</th>\n",
       "      <th>reviewerName</th>\n",
       "      <th>reviewText</th>\n",
       "      <th>summary</th>\n",
       "      <th>unixReviewTime</th>\n",
       "      <th>vote</th>\n",
       "      <th>style</th>\n",
       "      <th>image</th>\n",
       "      <th>userid</th>\n",
       "      <th>itemid</th>\n",
       "      <th>rating</th>\n",
       "    </tr>\n",
       "  </thead>\n",
       "  <tbody>\n",
       "    <tr>\n",
       "      <th>0</th>\n",
       "      <td>5.0</td>\n",
       "      <td>True</td>\n",
       "      <td>10 4, 2016</td>\n",
       "      <td>B01CPNIEQG</td>\n",
       "      <td>Heather</td>\n",
       "      <td>These are my FAVORITE spices in my collection....</td>\n",
       "      <td>Must Add to your Spice kitchen!</td>\n",
       "      <td>1475539200</td>\n",
       "      <td>NaN</td>\n",
       "      <td>NaN</td>\n",
       "      <td>NaN</td>\n",
       "      <td>102179</td>\n",
       "      <td>37138</td>\n",
       "      <td>1.0</td>\n",
       "    </tr>\n",
       "    <tr>\n",
       "      <th>1</th>\n",
       "      <td>5.0</td>\n",
       "      <td>True</td>\n",
       "      <td>03 1, 2016</td>\n",
       "      <td>B006F63M8U</td>\n",
       "      <td>Linda Odom</td>\n",
       "      <td>Add A package to my Coffee and it makes a good...</td>\n",
       "      <td>Milk Chocolate Swiis MIss Hot Cocoa Mix</td>\n",
       "      <td>1456790400</td>\n",
       "      <td>NaN</td>\n",
       "      <td>{'Size:': ' 60-0.73 oz Envelopes'}</td>\n",
       "      <td>NaN</td>\n",
       "      <td>3625</td>\n",
       "      <td>17322</td>\n",
       "      <td>1.0</td>\n",
       "    </tr>\n",
       "    <tr>\n",
       "      <th>2</th>\n",
       "      <td>5.0</td>\n",
       "      <td>True</td>\n",
       "      <td>06 26, 2016</td>\n",
       "      <td>B00112O8NG</td>\n",
       "      <td>DesertBlossom</td>\n",
       "      <td>I love the Torani syrups, but not the prices o...</td>\n",
       "      <td>Love these sugar free syrups, but didn't love ...</td>\n",
       "      <td>1466899200</td>\n",
       "      <td>28</td>\n",
       "      <td>NaN</td>\n",
       "      <td>NaN</td>\n",
       "      <td>39495</td>\n",
       "      <td>5600</td>\n",
       "      <td>1.0</td>\n",
       "    </tr>\n",
       "    <tr>\n",
       "      <th>3</th>\n",
       "      <td>5.0</td>\n",
       "      <td>True</td>\n",
       "      <td>09 5, 2013</td>\n",
       "      <td>B00MRAQUM8</td>\n",
       "      <td>Connie L. Reaves</td>\n",
       "      <td>Very fragrant. The price can't be beat. I do l...</td>\n",
       "      <td>Nice !</td>\n",
       "      <td>1378339200</td>\n",
       "      <td>NaN</td>\n",
       "      <td>NaN</td>\n",
       "      <td>NaN</td>\n",
       "      <td>72854</td>\n",
       "      <td>30249</td>\n",
       "      <td>1.0</td>\n",
       "    </tr>\n",
       "    <tr>\n",
       "      <th>4</th>\n",
       "      <td>5.0</td>\n",
       "      <td>True</td>\n",
       "      <td>09 14, 2016</td>\n",
       "      <td>B000R7RN0G</td>\n",
       "      <td>Mike P.</td>\n",
       "      <td>These are my favorite jalapeno chips so far. T...</td>\n",
       "      <td>These are my favorite jalapeno chips so far</td>\n",
       "      <td>1473811200</td>\n",
       "      <td>NaN</td>\n",
       "      <td>{'Flavor:': ' Jalapeo'}</td>\n",
       "      <td>NaN</td>\n",
       "      <td>74859</td>\n",
       "      <td>4349</td>\n",
       "      <td>1.0</td>\n",
       "    </tr>\n",
       "  </tbody>\n",
       "</table>\n",
       "</div>"
      ],
      "text/plain": [
       "   overall  verified   reviewTime        asin      reviewerName  \\\n",
       "0      5.0      True   10 4, 2016  B01CPNIEQG           Heather   \n",
       "1      5.0      True   03 1, 2016  B006F63M8U        Linda Odom   \n",
       "2      5.0      True  06 26, 2016  B00112O8NG     DesertBlossom   \n",
       "3      5.0      True   09 5, 2013  B00MRAQUM8  Connie L. Reaves   \n",
       "4      5.0      True  09 14, 2016  B000R7RN0G           Mike P.   \n",
       "\n",
       "                                          reviewText  \\\n",
       "0  These are my FAVORITE spices in my collection....   \n",
       "1  Add A package to my Coffee and it makes a good...   \n",
       "2  I love the Torani syrups, but not the prices o...   \n",
       "3  Very fragrant. The price can't be beat. I do l...   \n",
       "4  These are my favorite jalapeno chips so far. T...   \n",
       "\n",
       "                                             summary  unixReviewTime vote  \\\n",
       "0                    Must Add to your Spice kitchen!      1475539200  NaN   \n",
       "1            Milk Chocolate Swiis MIss Hot Cocoa Mix      1456790400  NaN   \n",
       "2  Love these sugar free syrups, but didn't love ...      1466899200   28   \n",
       "3                                             Nice !      1378339200  NaN   \n",
       "4        These are my favorite jalapeno chips so far      1473811200  NaN   \n",
       "\n",
       "                                style image  userid  itemid  rating  \n",
       "0                                 NaN   NaN  102179   37138     1.0  \n",
       "1  {'Size:': ' 60-0.73 oz Envelopes'}   NaN    3625   17322     1.0  \n",
       "2                                 NaN   NaN   39495    5600     1.0  \n",
       "3                                 NaN   NaN   72854   30249     1.0  \n",
       "4             {'Flavor:': ' Jalapeo'}   NaN   74859    4349     1.0  "
      ]
     },
     "metadata": {},
     "output_type": "display_data"
    },
    {
     "name": "stdout",
     "output_type": "stream",
     "text": [
      "<class 'pandas.core.frame.DataFrame'>\n",
      "RangeIndex: 857895 entries, 0 to 857894\n",
      "Data columns (total 14 columns):\n",
      " #   Column          Non-Null Count   Dtype  \n",
      "---  ------          --------------   -----  \n",
      " 0   overall         857895 non-null  float64\n",
      " 1   verified        857895 non-null  bool   \n",
      " 2   reviewTime      857895 non-null  object \n",
      " 3   asin            857895 non-null  object \n",
      " 4   reviewerName    857719 non-null  object \n",
      " 5   reviewText      857616 non-null  object \n",
      " 6   summary         857725 non-null  object \n",
      " 7   unixReviewTime  857895 non-null  int64  \n",
      " 8   vote            118740 non-null  object \n",
      " 9   style           444406 non-null  object \n",
      " 10  image           7142 non-null    object \n",
      " 11  userid          857895 non-null  int64  \n",
      " 12  itemid          857895 non-null  int64  \n",
      " 13  rating          857895 non-null  float64\n",
      "dtypes: bool(1), float64(2), int64(3), object(8)\n",
      "memory usage: 85.9+ MB\n"
     ]
    }
   ],
   "source": [
    "display(train.head(5))\n",
    "train.info()"
   ]
  },
  {
   "cell_type": "markdown",
   "metadata": {},
   "source": [
    "overall - рейтинг, который поставил пользователь\n",
    "\n",
    "verified - был ли отзыв верифицирован\n",
    "\n",
    "reviewTime - когда был отзыв написан\n",
    "\n",
    "reviewerName - имя пользователя\n",
    "\n",
    "reviewText - текст отзыва\n",
    "\n",
    "summary - сжатый отзыв\n",
    "\n",
    "vote - количество голосований за отзыв\n",
    "\n",
    "style - метаданные\n",
    "\n",
    "image - изображение продукта\n",
    "\n",
    "userid - id пользователя\n",
    "\n",
    "itemid - id товара\n",
    "\n",
    "id - id для предсказания"
   ]
  },
  {
   "cell_type": "code",
   "execution_count": 5,
   "metadata": {},
   "outputs": [
    {
     "data": {
      "text/html": [
       "<div>\n",
       "<style scoped>\n",
       "    .dataframe tbody tr th:only-of-type {\n",
       "        vertical-align: middle;\n",
       "    }\n",
       "\n",
       "    .dataframe tbody tr th {\n",
       "        vertical-align: top;\n",
       "    }\n",
       "\n",
       "    .dataframe thead tr th {\n",
       "        text-align: left;\n",
       "    }\n",
       "</style>\n",
       "<table border=\"1\" class=\"dataframe\">\n",
       "  <thead>\n",
       "    <tr>\n",
       "      <th></th>\n",
       "      <th colspan=\"3\" halign=\"left\">Train  (857895, 14)</th>\n",
       "      <th colspan=\"3\" halign=\"left\">Test  (285965, 11)</th>\n",
       "    </tr>\n",
       "    <tr>\n",
       "      <th></th>\n",
       "      <th>dtypes</th>\n",
       "      <th>nunique</th>\n",
       "      <th>isna</th>\n",
       "      <th>dtypes</th>\n",
       "      <th>nunique</th>\n",
       "      <th>isna</th>\n",
       "    </tr>\n",
       "  </thead>\n",
       "  <tbody>\n",
       "    <tr>\n",
       "      <th>overall</th>\n",
       "      <td>float64</td>\n",
       "      <td>5.0</td>\n",
       "      <td>0.0</td>\n",
       "      <td>NaN</td>\n",
       "      <td>NaN</td>\n",
       "      <td>NaN</td>\n",
       "    </tr>\n",
       "    <tr>\n",
       "      <th>verified</th>\n",
       "      <td>bool</td>\n",
       "      <td>2.0</td>\n",
       "      <td>0.0</td>\n",
       "      <td>bool</td>\n",
       "      <td>2.0</td>\n",
       "      <td>0.0</td>\n",
       "    </tr>\n",
       "    <tr>\n",
       "      <th>reviewTime</th>\n",
       "      <td>object</td>\n",
       "      <td>4580.0</td>\n",
       "      <td>0.0</td>\n",
       "      <td>object</td>\n",
       "      <td>4349.0</td>\n",
       "      <td>0.0</td>\n",
       "    </tr>\n",
       "    <tr>\n",
       "      <th>asin</th>\n",
       "      <td>object</td>\n",
       "      <td>41302.0</td>\n",
       "      <td>0.0</td>\n",
       "      <td>object</td>\n",
       "      <td>37876.0</td>\n",
       "      <td>0.0</td>\n",
       "    </tr>\n",
       "    <tr>\n",
       "      <th>reviewerName</th>\n",
       "      <td>object</td>\n",
       "      <td>101207.0</td>\n",
       "      <td>176.0</td>\n",
       "      <td>object</td>\n",
       "      <td>86815.0</td>\n",
       "      <td>47.0</td>\n",
       "    </tr>\n",
       "    <tr>\n",
       "      <th>reviewText</th>\n",
       "      <td>object</td>\n",
       "      <td>686739.0</td>\n",
       "      <td>279.0</td>\n",
       "      <td>NaN</td>\n",
       "      <td>NaN</td>\n",
       "      <td>NaN</td>\n",
       "    </tr>\n",
       "    <tr>\n",
       "      <th>summary</th>\n",
       "      <td>object</td>\n",
       "      <td>411451.0</td>\n",
       "      <td>170.0</td>\n",
       "      <td>NaN</td>\n",
       "      <td>NaN</td>\n",
       "      <td>NaN</td>\n",
       "    </tr>\n",
       "    <tr>\n",
       "      <th>unixReviewTime</th>\n",
       "      <td>int64</td>\n",
       "      <td>4580.0</td>\n",
       "      <td>0.0</td>\n",
       "      <td>int64</td>\n",
       "      <td>4349.0</td>\n",
       "      <td>0.0</td>\n",
       "    </tr>\n",
       "    <tr>\n",
       "      <th>vote</th>\n",
       "      <td>object</td>\n",
       "      <td>311.0</td>\n",
       "      <td>739155.0</td>\n",
       "      <td>object</td>\n",
       "      <td>198.0</td>\n",
       "      <td>246503.0</td>\n",
       "    </tr>\n",
       "    <tr>\n",
       "      <th>style</th>\n",
       "      <td>object</td>\n",
       "      <td>25892.0</td>\n",
       "      <td>413489.0</td>\n",
       "      <td>object</td>\n",
       "      <td>18904.0</td>\n",
       "      <td>138285.0</td>\n",
       "    </tr>\n",
       "    <tr>\n",
       "      <th>image</th>\n",
       "      <td>object</td>\n",
       "      <td>6636.0</td>\n",
       "      <td>850753.0</td>\n",
       "      <td>object</td>\n",
       "      <td>2306.0</td>\n",
       "      <td>283597.0</td>\n",
       "    </tr>\n",
       "    <tr>\n",
       "      <th>userid</th>\n",
       "      <td>int64</td>\n",
       "      <td>127448.0</td>\n",
       "      <td>0.0</td>\n",
       "      <td>int64</td>\n",
       "      <td>109357.0</td>\n",
       "      <td>0.0</td>\n",
       "    </tr>\n",
       "    <tr>\n",
       "      <th>itemid</th>\n",
       "      <td>int64</td>\n",
       "      <td>41302.0</td>\n",
       "      <td>0.0</td>\n",
       "      <td>int64</td>\n",
       "      <td>37876.0</td>\n",
       "      <td>0.0</td>\n",
       "    </tr>\n",
       "    <tr>\n",
       "      <th>rating</th>\n",
       "      <td>float64</td>\n",
       "      <td>2.0</td>\n",
       "      <td>0.0</td>\n",
       "      <td>NaN</td>\n",
       "      <td>NaN</td>\n",
       "      <td>NaN</td>\n",
       "    </tr>\n",
       "    <tr>\n",
       "      <th>Id</th>\n",
       "      <td>NaN</td>\n",
       "      <td>NaN</td>\n",
       "      <td>NaN</td>\n",
       "      <td>int64</td>\n",
       "      <td>285965.0</td>\n",
       "      <td>0.0</td>\n",
       "    </tr>\n",
       "  </tbody>\n",
       "</table>\n",
       "</div>"
      ],
      "text/plain": [
       "               Train  (857895, 14)                      Test  (285965, 11)  \\\n",
       "                            dtypes   nunique      isna              dtypes   \n",
       "overall                    float64       5.0       0.0                 NaN   \n",
       "verified                      bool       2.0       0.0                bool   \n",
       "reviewTime                  object    4580.0       0.0              object   \n",
       "asin                        object   41302.0       0.0              object   \n",
       "reviewerName                object  101207.0     176.0              object   \n",
       "reviewText                  object  686739.0     279.0                 NaN   \n",
       "summary                     object  411451.0     170.0                 NaN   \n",
       "unixReviewTime               int64    4580.0       0.0               int64   \n",
       "vote                        object     311.0  739155.0              object   \n",
       "style                       object   25892.0  413489.0              object   \n",
       "image                       object    6636.0  850753.0              object   \n",
       "userid                       int64  127448.0       0.0               int64   \n",
       "itemid                       int64   41302.0       0.0               int64   \n",
       "rating                     float64       2.0       0.0                 NaN   \n",
       "Id                             NaN       NaN       NaN               int64   \n",
       "\n",
       "                                    \n",
       "                 nunique      isna  \n",
       "overall              NaN       NaN  \n",
       "verified             2.0       0.0  \n",
       "reviewTime        4349.0       0.0  \n",
       "asin             37876.0       0.0  \n",
       "reviewerName     86815.0      47.0  \n",
       "reviewText           NaN       NaN  \n",
       "summary              NaN       NaN  \n",
       "unixReviewTime    4349.0       0.0  \n",
       "vote               198.0  246503.0  \n",
       "style            18904.0  138285.0  \n",
       "image             2306.0  283597.0  \n",
       "userid          109357.0       0.0  \n",
       "itemid           37876.0       0.0  \n",
       "rating               NaN       NaN  \n",
       "Id              285965.0       0.0  "
      ]
     },
     "execution_count": 5,
     "metadata": {},
     "output_type": "execute_result"
    }
   ],
   "source": [
    "# посмотрим на пропуски и типы данных:\n",
    "def param_data(data): \n",
    "    param = pd.DataFrame({\n",
    "              'dtypes': data.dtypes.values,\n",
    "              'nunique': data.nunique().values,\n",
    "              'isna': data.isna().sum().values,\n",
    "              }, \n",
    "             index = data.loc[0].index)\n",
    "    return param\n",
    "\n",
    "pd.concat([param_data(train), param_data(test)], \n",
    "          axis=1, \n",
    "          keys = [f'Train  {train.shape}', f' Test  {test.shape}'],  \n",
    "          sort=False)"
   ]
  },
  {
   "cell_type": "markdown",
   "metadata": {},
   "source": [
    "Есть немного пропусков в поле reviewerName. Cкорее всего, это никак не должно влиять на остальные данные, поэтому просто удалим этот столбец и будем идентифицировать пользователья только по userid. Дополнительно убедимся в этом, посмотрев на распределениe первоначальной оценки overall и разброс времени оставления отзывов для клиентов с наличием reviewerName и его отсутствием."
   ]
  },
  {
   "cell_type": "code",
   "execution_count": 4,
   "metadata": {},
   "outputs": [
    {
     "name": "stdout",
     "output_type": "stream",
     "text": [
      "Размер тренировочной выборки: (826895, 14)\n"
     ]
    }
   ],
   "source": [
    "#удалим дубликаты в тренировочной выборке, после удаления вместо 857895 строк остается 826895\n",
    "train.drop_duplicates(keep='first',inplace=True)\n",
    "print('Размер тренировочной выборки:', train.shape)"
   ]
  },
  {
   "cell_type": "code",
   "execution_count": 7,
   "metadata": {},
   "outputs": [
    {
     "name": "stdout",
     "output_type": "stream",
     "text": [
      "Размер тестовой выборки: (285965, 11)\n"
     ]
    }
   ],
   "source": [
    "#удалим дубликаты в тестовой выборке, как мы видим, дубликатов в тестовой выборке нет\n",
    "test.drop_duplicates(keep='first',inplace=True)\n",
    "print('Размер тестовой выборки:', test.shape)"
   ]
  },
  {
   "cell_type": "markdown",
   "metadata": {},
   "source": [
    "Рассмотрим каждый признак более детально:"
   ]
  },
  {
   "cell_type": "code",
   "execution_count": 8,
   "metadata": {},
   "outputs": [],
   "source": [
    "def column_stats(column):\n",
    "    \n",
    "    if column.dtype == 'int64' or column.dtype == 'float64':\n",
    "        \n",
    "        display(column.describe())\n",
    "        \n",
    "        plt.figure(figsize=(8,5))\n",
    "        column.hist(bins=column.nunique()) \n",
    "        \n",
    "        display(f'Данный признак содержит {column.isnull().sum()} пропусков')\n",
    "    else:\n",
    "        display(column.describe())\n",
    "        display(column.value_counts())      \n",
    "        display(f'Данный признак содержит {column.isnull().sum()} пропусков')"
   ]
  },
  {
   "cell_type": "markdown",
   "metadata": {},
   "source": [
    "# overall "
   ]
  },
  {
   "cell_type": "code",
   "execution_count": 9,
   "metadata": {
    "scrolled": true
   },
   "outputs": [
    {
     "data": {
      "text/plain": [
       "count    826895.000000\n",
       "mean          4.440251\n",
       "std           1.065334\n",
       "min           1.000000\n",
       "25%           4.000000\n",
       "50%           5.000000\n",
       "75%           5.000000\n",
       "max           5.000000\n",
       "Name: overall, dtype: float64"
      ]
     },
     "metadata": {},
     "output_type": "display_data"
    },
    {
     "data": {
      "text/plain": [
       "'Данный признак содержит 0 пропусков'"
      ]
     },
     "metadata": {},
     "output_type": "display_data"
    },
    {
     "data": {
      "image/png": "[encoded data removed]",
      "text/plain": [
       "<Figure size 576x360 with 1 Axes>"
      ]
     },
     "metadata": {
      "needs_background": "light"
     },
     "output_type": "display_data"
    }
   ],
   "source": [
    "column_stats(train['overall'])"
   ]
  },
  {
   "cell_type": "code",
   "execution_count": 10,
   "metadata": {},
   "outputs": [
    {
     "data": {
      "text/plain": [
       "overall\n",
       "1.0    0.0\n",
       "2.0    0.0\n",
       "3.0    0.0\n",
       "4.0    1.0\n",
       "5.0    1.0\n",
       "Name: rating, dtype: float64"
      ]
     },
     "execution_count": 10,
     "metadata": {},
     "output_type": "execute_result"
    }
   ],
   "source": [
    "train.groupby(['overall']).rating.mean()"
   ]
  },
  {
   "cell_type": "markdown",
   "metadata": {},
   "source": [
    "По зависимости столбцов overall и rating можно сделать вывод, что пользователю рекомедуются товары с оценкой 4 и выше, о чем и говорится в нашем задании"
   ]
  },
  {
   "cell_type": "markdown",
   "metadata": {},
   "source": [
    "# verified"
   ]
  },
  {
   "cell_type": "code",
   "execution_count": 11,
   "metadata": {},
   "outputs": [
    {
     "data": {
      "text/plain": [
       "count     826895\n",
       "unique         2\n",
       "top         True\n",
       "freq      718164\n",
       "Name: verified, dtype: object"
      ]
     },
     "metadata": {},
     "output_type": "display_data"
    },
    {
     "data": {
      "text/plain": [
       "True     718164\n",
       "False    108731\n",
       "Name: verified, dtype: int64"
      ]
     },
     "metadata": {},
     "output_type": "display_data"
    },
    {
     "data": {
      "text/plain": [
       "'Данный признак содержит 0 пропусков'"
      ]
     },
     "metadata": {},
     "output_type": "display_data"
    }
   ],
   "source": [
    "column_stats(train['verified'])"
   ]
  },
  {
   "cell_type": "code",
   "execution_count": 12,
   "metadata": {},
   "outputs": [
    {
     "data": {
      "text/plain": [
       "verified\n",
       "False    0.782178\n",
       "True     0.858530\n",
       "Name: rating, dtype: float64"
      ]
     },
     "execution_count": 12,
     "metadata": {},
     "output_type": "execute_result"
    }
   ],
   "source": [
    "train.groupby(['verified']).rating.mean()"
   ]
  },
  {
   "cell_type": "markdown",
   "metadata": {},
   "source": [
    "От верификации отзыва рейтинг не зависит."
   ]
  },
  {
   "cell_type": "markdown",
   "metadata": {},
   "source": [
    "# reviewTime"
   ]
  },
  {
   "cell_type": "code",
   "execution_count": 13,
   "metadata": {
    "scrolled": true
   },
   "outputs": [
    {
     "data": {
      "text/plain": [
       "count         826895\n",
       "unique          4580\n",
       "top       03 1, 2016\n",
       "freq             909\n",
       "Name: reviewTime, dtype: object"
      ]
     },
     "metadata": {},
     "output_type": "display_data"
    },
    {
     "data": {
      "text/plain": [
       "03 1, 2016     909\n",
       "07 14, 2016    858\n",
       "06 3, 2015     769\n",
       "01 20, 2016    764\n",
       "02 20, 2016    753\n",
       "              ... \n",
       "04 29, 2007      1\n",
       "02 11, 2005      1\n",
       "11 25, 2006      1\n",
       "10 25, 2005      1\n",
       "10 30, 2005      1\n",
       "Name: reviewTime, Length: 4580, dtype: int64"
      ]
     },
     "metadata": {},
     "output_type": "display_data"
    },
    {
     "data": {
      "text/plain": [
       "'Данный признак содержит 0 пропусков'"
      ]
     },
     "metadata": {},
     "output_type": "display_data"
    }
   ],
   "source": [
    "column_stats(train['reviewTime'])"
   ]
  },
  {
   "cell_type": "code",
   "execution_count": 14,
   "metadata": {
    "scrolled": true
   },
   "outputs": [
    {
     "data": {
      "text/plain": [
       "reviewTime\n",
       "01 1, 2007    1.000000\n",
       "01 1, 2008    0.666667\n",
       "01 1, 2009    0.846154\n",
       "01 1, 2010    0.545455\n",
       "01 1, 2011    0.857143\n",
       "                ...   \n",
       "12 9, 2013    0.789668\n",
       "12 9, 2014    0.893939\n",
       "12 9, 2015    0.875847\n",
       "12 9, 2016    0.848797\n",
       "12 9, 2017    0.813953\n",
       "Name: rating, Length: 4580, dtype: float64"
      ]
     },
     "execution_count": 14,
     "metadata": {},
     "output_type": "execute_result"
    }
   ],
   "source": [
    "train.groupby(['reviewTime']).rating.mean()"
   ]
  },
  {
   "cell_type": "markdown",
   "metadata": {},
   "source": [
    "Переведем признак в datetime и отедльно с ним поработаем."
   ]
  },
  {
   "cell_type": "markdown",
   "metadata": {},
   "source": [
    "# asin"
   ]
  },
  {
   "cell_type": "code",
   "execution_count": 15,
   "metadata": {
    "scrolled": true
   },
   "outputs": [
    {
     "data": {
      "text/plain": [
       "count         826895\n",
       "unique         41302\n",
       "top       B00BUKL666\n",
       "freq            5430\n",
       "Name: asin, dtype: object"
      ]
     },
     "metadata": {},
     "output_type": "display_data"
    },
    {
     "data": {
      "text/plain": [
       "B00BUKL666    5430\n",
       "B00D3M2QP4    4733\n",
       "B008QMX2SG    4611\n",
       "B00R7PWK7W    2449\n",
       "B000F4DKAI    2166\n",
       "              ... \n",
       "B0017I1QAC       1\n",
       "B0012TCW1S       1\n",
       "B00122CN8C       1\n",
       "B00I6OFQL0       1\n",
       "B01ATVALDA       1\n",
       "Name: asin, Length: 41302, dtype: int64"
      ]
     },
     "metadata": {},
     "output_type": "display_data"
    },
    {
     "data": {
      "text/plain": [
       "'Данный признак содержит 0 пропусков'"
      ]
     },
     "metadata": {},
     "output_type": "display_data"
    }
   ],
   "source": [
    "column_stats(train['asin'])"
   ]
  },
  {
   "cell_type": "markdown",
   "metadata": {},
   "source": [
    "asin - кодировка товара, на его основании создаются itedid, он нам будет нужен для формирования таблицы item_features"
   ]
  },
  {
   "cell_type": "code",
   "execution_count": 16,
   "metadata": {
    "scrolled": true
   },
   "outputs": [
    {
     "data": {
      "text/plain": [
       "asin\n",
       "4639725043        1\n",
       "4639725183        0\n",
       "5463213682        2\n",
       "9742356831        3\n",
       "B00004S1C5        4\n",
       "              ...  \n",
       "B01HJ2OFYI    38319\n",
       "B01HJ4FWGG    38320\n",
       "B01HJ7QPKU    38321\n",
       "B01HJCUNOO    38322\n",
       "B01HJF6FRA    38323\n",
       "Name: itemid, Length: 41302, dtype: int64"
      ]
     },
     "execution_count": 16,
     "metadata": {},
     "output_type": "execute_result"
    }
   ],
   "source": [
    "train.groupby(['asin']).itemid.mean()"
   ]
  },
  {
   "cell_type": "markdown",
   "metadata": {},
   "source": [
    "# reviewerName"
   ]
  },
  {
   "cell_type": "code",
   "execution_count": 17,
   "metadata": {
    "scrolled": true
   },
   "outputs": [
    {
     "data": {
      "text/plain": [
       "count              826731\n",
       "unique             101207\n",
       "top       Amazon Customer\n",
       "freq                30612\n",
       "Name: reviewerName, dtype: object"
      ]
     },
     "metadata": {},
     "output_type": "display_data"
    },
    {
     "data": {
      "text/plain": [
       "Amazon Customer     30612\n",
       "Kindle Customer      6012\n",
       "Linda                 713\n",
       "John                  695\n",
       "David                 597\n",
       "                    ...  \n",
       "Ricky W.                1\n",
       "Trinirose               1\n",
       "Lisa C. B. Eaton        1\n",
       "PoodleMommy             1\n",
       "lvschultz2              1\n",
       "Name: reviewerName, Length: 101207, dtype: int64"
      ]
     },
     "metadata": {},
     "output_type": "display_data"
    },
    {
     "data": {
      "text/plain": [
       "'Данный признак содержит 164 пропусков'"
      ]
     },
     "metadata": {},
     "output_type": "display_data"
    }
   ],
   "source": [
    "column_stats(train['reviewerName'])"
   ]
  },
  {
   "cell_type": "markdown",
   "metadata": {},
   "source": [
    "Посольку многие имена вымышленные (Amazon Customer, Kindle Customer), и по логике вещей, имя не может влиять на предпочтения потсребителя. Посомтрим на распределение оценок среди пользователей указавших и не указавших имя:"
   ]
  },
  {
   "cell_type": "code",
   "execution_count": 18,
   "metadata": {
    "scrolled": true
   },
   "outputs": [
    {
     "data": {
      "image/png": "[encoded data removed]",
      "text/plain": [
       "<Figure size 1080x360 with 2 Axes>"
      ]
     },
     "metadata": {
      "needs_background": "light"
     },
     "output_type": "display_data"
    }
   ],
   "source": [
    "fig, axes = plt.subplots(1, 2, figsize = (15,5))\n",
    "axes[0].set_title('without name')\n",
    "axes[0].set_xlabel('overall')\n",
    "axes[1].set_title('with user name')\n",
    "axes[1].set_xlabel('overall')\n",
    "axes[0].hist(train[train.reviewerName.isna() == True].overall)\n",
    "axes[1].hist(train[train.reviewerName.isna() == False].overall)\n",
    "\n",
    "plt.show()"
   ]
  },
  {
   "cell_type": "markdown",
   "metadata": {},
   "source": [
    "Как мы видим, пропорции оценок очень похожи, поэтому будем считать, что укзание имени не влияет на рейтинг. Столбец можно удалить, в дальнейшем будем использовать userid для идентификации пользвателя."
   ]
  },
  {
   "cell_type": "markdown",
   "metadata": {},
   "source": [
    "# reviewText "
   ]
  },
  {
   "cell_type": "code",
   "execution_count": 19,
   "metadata": {
    "scrolled": true
   },
   "outputs": [
    {
     "data": {
      "text/plain": [
       "count     826621\n",
       "unique    686739\n",
       "top         good\n",
       "freq        3019\n",
       "Name: reviewText, dtype: object"
      ]
     },
     "metadata": {},
     "output_type": "display_data"
    },
    {
     "data": {
      "text/plain": [
       "good                                                                                                                                                                                                                                                                                                                                                                                                                                                                                                                                                                                                                                                                                                                                         3019\n",
       "great                                                                                                                                                                                                                                                                                                                                                                                                                                                                                                                                                                                                                                                                                                                                        2525\n",
       "Great                                                                                                                                                                                                                                                                                                                                                                                                                                                                                                                                                                                                                                                                                                                                        2002\n",
       "Good                                                                                                                                                                                                                                                                                                                                                                                                                                                                                                                                                                                                                                                                                                                                         1977\n",
       "ok                                                                                                                                                                                                                                                                                                                                                                                                                                                                                                                                                                                                                                                                                                                                           1278\n",
       "                                                                                                                                                                                                                                                                                                                                                                                                                                                                                                                                                                                                                                                                                                                                             ... \n",
       "arrived fast but when we started to open the bag we found that one of the seams on the side of the bag was opened enough for some of the product to fall out. other than that all was fine with this product                                                                                                                                                                                                                                                                                                                                                                                                                                                                                                                                    1\n",
       "Delicious, if you're looking for a sugar free root beer substitute, this is it.  It is very creamy and delicous aftertaste.  Doesn't have the funky taste of diet soda either. Love it!!                                                                                                                                                                                                                                                                                                                                                                                                                                                                                                                                                        1\n",
       "This is a great alternative to the other sweeteners                                                                                                                                                                                                                                                                                                                                                                                                                                                                                                                                                                                                                                                                                             1\n",
       "I love these.  If you are used to the name brand peanut butter cups, you might have to get used to the difference in Justins Organic peanut butter cups.  They are drier and more chalky, but believe it or not, they grow on you.  You have to eat smaller bites than with the name brand peanut butter cups, because these can get hard.  It just means you get to savor the goodness longer.\\n\\nDon't buy these expecting them to taste like the popular name brand peanut butter cups that are made with all kinds of unhealthy chemicals , additives, preservatives and other materials that keep the peanut butter creamy for five years.  These aren't the same, but you'll get used to the difference and learn to appreciate it.       1\n",
       "This product is not a \"bargain\".  The price is about twice what it cost in the store.  I had read from other people that these boxes were bigger than they are.  Not ever buying this again!                                                                                                                                                                                                                                                                                                                                                                                                                                                                                                                                                    1\n",
       "Name: reviewText, Length: 686739, dtype: int64"
      ]
     },
     "metadata": {},
     "output_type": "display_data"
    },
    {
     "data": {
      "text/plain": [
       "'Данный признак содержит 274 пропусков'"
      ]
     },
     "metadata": {},
     "output_type": "display_data"
    }
   ],
   "source": [
    "column_stats(train['reviewText'])"
   ]
  },
  {
   "cell_type": "code",
   "execution_count": 20,
   "metadata": {},
   "outputs": [
    {
     "data": {
      "text/plain": [
       "reviewText\n",
       "\\n\\n\\n\\n\\n\\nI                                                                                                                                                                                                                                                                                                                                                                                                                                                                                                                                                                                                                                                                                                                                                                                                                                                                                                                                                                                                          1.0\n",
       "\\n\\nVERY TASTY AND CONVENIENT.  ALTHOUGH IT IS TOO SALTY, it works,  as I am using it to flavor dishes of unsalted food.  No waste, and it works with my healthy diet.                                                                                                                                                                                                                                                                                                                                                                                                                                                                                                                                                                                                                                                                                                                                                                                                                                                 1.0\n",
       "\\nNot as I hoped from years ago as a child. The raisin biscuits/crackers I remember were soft and moist with the raisin filling from edge to edge.\\nGave these a try and find edible but much dryer and the currents are a bit sparse. Hard to pick up on the flavor.\\nWill not revisit this item. Apparently memory lane will have to do in this case.\\nShipped in padded envelope stuffed in mailbox = lots of breakage. Did not help.                                                                                                                                                                                                                                                                                                                                                                                                                                                                                                                                                                               0.0\n",
       "  I Absolutely LOVE These Go Naturally EXTREME GINGER ALL ORGANIC Yummy Treasures! :-)  They Are Extremely Satisfying & Are Genuine Ginger ~ VERY STRONG AMBROSIAL GINGER & Organic Pure Cane Sugar... With Very Few Ingredients! DELICIOUS! These Will Settle & Comfort Your Tummy  & Also Give You A Wonderfully Strong & Satisfying BURST Of GINGER In Your Mouth! :-)  Pure GINGER Has Many Healthful Benefits!  The Higher Price For This EXTREME GINGER Is WORTH Every Penny! :-)  This Is My *Favourite* Go Natural Candy!  All The Other Flavours Are Good ~ But They Have A Milder Taste!                                                                                                                                                                                                                                                                                                                                                                                                                     1.0\n",
       "  I Did *Not* Really Like The Flavour Of The Pacific Organic Almond Beverage Nearly as MUCH As The Pacific Original Organic OAT Beverage!  The Almond One Is So Watery Tasting & Has Very Little Flavour & It Contains Very Unhealthy Carrageenan ~ It's Still Listed On The Newest Cartons! :-(  I *Don't* Recommend The Almond Version!  I Always Order 2 Cases Every Month Of The Pacific Original Organic OAT Beverage! I Drink It Every Day ~ It Is Thick & Creamy & Very Flavourfully *Delicious* & Tastes Sweet Like A Milkshake, But It Is Actually Unsweetened!  I LOVE The Pacific Original Organic OAT Beverage! It Is By FAR The BEST Of ALL!  :-)  It's Also Great Tasting On Organic Cereal & In Other Organic Healthy Dishes ~ The Newest Version Of Pacific Original Organic OAT Beverage Says On The Cartons & On The Website That It Does *Not* Contain Awful Carrageenan! :-)  {The Ingredients Posted On Amazon Need To Be Updated & Carrageenan Taken Off The Original Organic OAT One!} :-)      0.0\n",
       "                                                                                                                                                                                                                                                                                                                                                                                                                                                                                                                                                                                                                                                                                                                                                                                                                                                                                                                                                                                                                      ... \n",
       "~Sooo YUMMY as always ~                                                                                                                                                                                                                                                                                                                                                                                                                                                                                                                                                                                                                                                                                                                                                                                                                                                                                                                                                                                                1.0\n",
       "~Sooo YUMMY~                                                                                                                                                                                                                                                                                                                                                                                                                                                                                                                                                                                                                                                                                                                                                                                                                                                                                                                                                                                                           1.0\n",
       "~Taste sooo WONDERFUL & the price is too~                                                                                                                                                                                                                                                                                                                                                                                                                                                                                                                                                                                                                                                                                                                                                                                                                                                                                                                                                                              1.0\n",
       "~Taste sooo wonderful~                                                                                                                                                                                                                                                                                                                                                                                                                                                                                                                                                                                                                                                                                                                                                                                                                                                                                                                                                                                                 1.0\n",
       "~Very good~                                                                                                                                                                                                                                                                                                                                                                                                                                                                                                                                                                                                                                                                                                                                                                                                                                                                                                                                                                                                            1.0\n",
       "Name: rating, Length: 686739, dtype: float64"
      ]
     },
     "execution_count": 20,
     "metadata": {},
     "output_type": "execute_result"
    }
   ],
   "source": [
    "train.groupby(['reviewText']).rating.mean()"
   ]
  },
  {
   "cell_type": "markdown",
   "metadata": {},
   "source": [
    "# summary"
   ]
  },
  {
   "cell_type": "code",
   "execution_count": 21,
   "metadata": {},
   "outputs": [
    {
     "data": {
      "text/plain": [
       "count         826729\n",
       "unique        411451\n",
       "top       Five Stars\n",
       "freq          167416\n",
       "Name: summary, dtype: object"
      ]
     },
     "metadata": {},
     "output_type": "display_data"
    },
    {
     "data": {
      "text/plain": [
       "Five Stars                                                  167416\n",
       "Four Stars                                                   26010\n",
       "Three Stars                                                  11682\n",
       "One Star                                                      5206\n",
       "Two Stars                                                     4824\n",
       "                                                             ...  \n",
       "but otherwise liked.                                             1\n",
       "I've bought a lot of Turkish apricots over the years ...         1\n",
       "Rancid flavor, very disappointed.                                1\n",
       "Delicious flavors, smooth, great price                           1\n",
       "Slightly stale but tasty                                         1\n",
       "Name: summary, Length: 411451, dtype: int64"
      ]
     },
     "metadata": {},
     "output_type": "display_data"
    },
    {
     "data": {
      "text/plain": [
       "'Данный признак содержит 166 пропусков'"
      ]
     },
     "metadata": {},
     "output_type": "display_data"
    }
   ],
   "source": [
    "column_stats(train['summary'])"
   ]
  },
  {
   "cell_type": "code",
   "execution_count": 22,
   "metadata": {},
   "outputs": [
    {
     "data": {
      "text/plain": [
       "<AxesSubplot:>"
      ]
     },
     "execution_count": 22,
     "metadata": {},
     "output_type": "execute_result"
    },
    {
     "data": {
      "image/png": "[encoded data removed]",
      "text/plain": [
       "<Figure size 432x288 with 2 Axes>"
      ]
     },
     "metadata": {
      "needs_background": "light"
     },
     "output_type": "display_data"
    }
   ],
   "source": [
    "# определим длину отзыва в символах и посмотрим, влияет ли на оценку\n",
    "train['lenRev'] = train['reviewText'].apply(lambda x: len(str(x)))\n",
    "train['lenSum'] = train['summary'].apply(lambda x: len(str(x)))\n",
    "train['vote'] = train.vote.apply(lambda x: str(x).replace(',',''))\n",
    "train['vote'] = train['vote'].fillna('0').astype('float64')\n",
    "sns.heatmap(train[['overall', 'lenRev', 'lenSum', 'vote']].corr(), cmap='coolwarm', annot=True)\n",
    "# связи практически нет с целевой переменной, эти столбцы не нужны\n",
    "#   также нет связи между оценкой и количеством голосований за отзыв - очень слабая"
   ]
  },
  {
   "cell_type": "markdown",
   "metadata": {},
   "source": [
    "# unixReviewTime"
   ]
  },
  {
   "cell_type": "code",
   "execution_count": 23,
   "metadata": {},
   "outputs": [
    {
     "data": {
      "text/plain": [
       "count    8.268950e+05\n",
       "mean     1.442305e+09\n",
       "std      5.961629e+07\n",
       "min      9.657792e+08\n",
       "25%      1.412467e+09\n",
       "50%      1.449706e+09\n",
       "75%      1.485389e+09\n",
       "max      1.538438e+09\n",
       "Name: unixReviewTime, dtype: float64"
      ]
     },
     "metadata": {},
     "output_type": "display_data"
    },
    {
     "data": {
      "text/plain": [
       "'Данный признак содержит 0 пропусков'"
      ]
     },
     "metadata": {},
     "output_type": "display_data"
    },
    {
     "data": {
      "text/plain": [
       "1456790400    909\n",
       "1468454400    858\n",
       "1433289600    769\n",
       "1453248000    764\n",
       "1455926400    753\n",
       "             ... \n",
       "1105142400      1\n",
       "1131062400      1\n",
       "1161993600      1\n",
       "1142467200      1\n",
       "1177113600      1\n",
       "Name: unixReviewTime, Length: 4580, dtype: int64"
      ]
     },
     "execution_count": 23,
     "metadata": {},
     "output_type": "execute_result"
    },
    {
     "data": {
      "image/png": "[encoded data removed]",
      "text/plain": [
       "<Figure size 576x360 with 1 Axes>"
      ]
     },
     "metadata": {
      "needs_background": "light"
     },
     "output_type": "display_data"
    }
   ],
   "source": [
    "column_stats(train['unixReviewTime'])\n",
    "train['unixReviewTime'].value_counts()"
   ]
  },
  {
   "cell_type": "markdown",
   "metadata": {},
   "source": [
    "# vote"
   ]
  },
  {
   "cell_type": "code",
   "execution_count": 24,
   "metadata": {},
   "outputs": [
    {
     "data": {
      "text/plain": [
       "count    113951.000000\n",
       "mean          6.695913\n",
       "std          20.424569\n",
       "min           2.000000\n",
       "25%           2.000000\n",
       "50%           3.000000\n",
       "75%           6.000000\n",
       "max        1626.000000\n",
       "Name: vote, dtype: float64"
      ]
     },
     "metadata": {},
     "output_type": "display_data"
    },
    {
     "data": {
      "text/plain": [
       "'Данный признак содержит 712944 пропусков'"
      ]
     },
     "metadata": {},
     "output_type": "display_data"
    },
    {
     "data": {
      "image/png": "[encoded data removed]",
      "text/plain": [
       "<Figure size 576x360 with 1 Axes>"
      ]
     },
     "metadata": {
      "needs_background": "light"
     },
     "output_type": "display_data"
    }
   ],
   "source": [
    "column_stats(train['vote'])"
   ]
  },
  {
   "cell_type": "markdown",
   "metadata": {},
   "source": [
    "Будем считать, что если значение в столбце vote не указано, значит за отзыв никто не голосовал, поэтому заменим пропуски на 0."
   ]
  },
  {
   "cell_type": "code",
   "execution_count": 25,
   "metadata": {},
   "outputs": [],
   "source": [
    "train['vote'] = train.vote.apply(lambda x: str(x).replace(',',''))\n",
    "train['vote'] = train['vote'].fillna('0').astype('float64')"
   ]
  },
  {
   "cell_type": "markdown",
   "metadata": {},
   "source": [
    "# style"
   ]
  },
  {
   "cell_type": "code",
   "execution_count": 26,
   "metadata": {},
   "outputs": [
    {
     "data": {
      "text/plain": [
       "count                      428197\n",
       "unique                      25892\n",
       "top       {'Size:': ' Pack of 1'}\n",
       "freq                         4549\n",
       "Name: style, dtype: object"
      ]
     },
     "metadata": {},
     "output_type": "display_data"
    },
    {
     "data": {
      "text/plain": [
       "{'Size:': ' Pack of 1'}                                                  4549\n",
       "{'Package Quantity:': ' 1'}                                              4461\n",
       "{'Package Type:': ' Standard Packaging'}                                 3860\n",
       "{'Size:': ' 1 Pack'}                                                     3688\n",
       "{'Size:': ' 24 Count'}                                                   3615\n",
       "                                                                         ... \n",
       "{'Size:': ' 2', 'Flavor:': ' Milk Chocolate'}                               1\n",
       "{'Size:': ' 1.7-Ounce Bars (Pack of 24)', 'Flavor:': ' Apricot Goji'}       1\n",
       "{'Flavor:': ' Berry Muffin'}                                                1\n",
       "{'Flavor:': ' Lemon Taxi'}                                                  1\n",
       "{'Style Name:': ' Parmesan and Garlic'}                                     1\n",
       "Name: style, Length: 25892, dtype: int64"
      ]
     },
     "metadata": {},
     "output_type": "display_data"
    },
    {
     "data": {
      "text/plain": [
       "'Данный признак содержит 398698 пропусков'"
      ]
     },
     "metadata": {},
     "output_type": "display_data"
    }
   ],
   "source": [
    "column_stats(train['style'])"
   ]
  },
  {
   "cell_type": "markdown",
   "metadata": {},
   "source": [
    "# image"
   ]
  },
  {
   "cell_type": "code",
   "execution_count": 27,
   "metadata": {},
   "outputs": [
    {
     "data": {
      "text/plain": [
       "count                                                  6979\n",
       "unique                                                 6636\n",
       "top       ['https://images-na.ssl-images-amazon.com/imag...\n",
       "freq                                                      6\n",
       "Name: image, dtype: object"
      ]
     },
     "metadata": {},
     "output_type": "display_data"
    },
    {
     "data": {
      "text/plain": [
       "['https://images-na.ssl-images-amazon.com/images/I/712zJIOTV5L._SY88.jpg']                                                                                                                                                                                                                                                                                                                                                                                      6\n",
       "['https://images-na.ssl-images-amazon.com/images/I/71+Z1TA3eyL._SY88.jpg']                                                                                                                                                                                                                                                                                                                                                                                      6\n",
       "['https://images-na.ssl-images-amazon.com/images/I/81kah7EsJtL._SY88.jpg', 'https://images-na.ssl-images-amazon.com/images/I/81YnU7oiOIL._SY88.jpg', 'https://images-na.ssl-images-amazon.com/images/I/81j+y7+3NxL._SY88.jpg', 'https://images-na.ssl-images-amazon.com/images/I/81RV96qYZvL._SY88.jpg']                                                                                                                                                        5\n",
       "['https://images-na.ssl-images-amazon.com/images/I/81ZkT-0FJpL._SY88.jpg']                                                                                                                                                                                                                                                                                                                                                                                      5\n",
       "['https://images-na.ssl-images-amazon.com/images/I/81h8Zc+1rzL._SY88.jpg']                                                                                                                                                                                                                                                                                                                                                                                      5\n",
       "                                                                                                                                                                                                                                                                                                                                                                                                                                                               ..\n",
       "['https://images-na.ssl-images-amazon.com/images/I/61f6O6ifRyL._SY88.jpg', 'https://images-na.ssl-images-amazon.com/images/I/61z0kFTa7bL._SY88.jpg', 'https://images-na.ssl-images-amazon.com/images/I/61OcMSroR9L._SY88.jpg', 'https://images-na.ssl-images-amazon.com/images/I/61vLLaA57KL._SY88.jpg', 'https://images-na.ssl-images-amazon.com/images/I/61ssMjq6a9L._SY88.jpg', 'https://images-na.ssl-images-amazon.com/images/I/717Icx7SiFL._SY88.jpg']    1\n",
       "['https://images-na.ssl-images-amazon.com/images/I/61YVYlrtyhL._SY88.jpg']                                                                                                                                                                                                                                                                                                                                                                                      1\n",
       "['https://images-na.ssl-images-amazon.com/images/I/81X-NUE+OCL._SY88.jpg', 'https://images-na.ssl-images-amazon.com/images/I/81qcDifDikL._SY88.jpg']                                                                                                                                                                                                                                                                                                            1\n",
       "['https://images-na.ssl-images-amazon.com/images/I/7177WLP-okL._SY88.jpg']                                                                                                                                                                                                                                                                                                                                                                                      1\n",
       "['https://images-na.ssl-images-amazon.com/images/I/71BPnyt7dkL._SY88.jpg']                                                                                                                                                                                                                                                                                                                                                                                      1\n",
       "Name: image, Length: 6636, dtype: int64"
      ]
     },
     "metadata": {},
     "output_type": "display_data"
    },
    {
     "data": {
      "text/plain": [
       "'Данный признак содержит 819916 пропусков'"
      ]
     },
     "metadata": {},
     "output_type": "display_data"
    }
   ],
   "source": [
    "column_stats(train['image'])"
   ]
  },
  {
   "cell_type": "markdown",
   "metadata": {},
   "source": [
    "Пропусков более 80%, это просто ссылка на картинку, поэтому этот признак можно смело удалять."
   ]
  },
  {
   "cell_type": "markdown",
   "metadata": {},
   "source": [
    "userid, itemid и rating пропусков не имеют"
   ]
  },
  {
   "cell_type": "markdown",
   "metadata": {},
   "source": [
    "# rating"
   ]
  },
  {
   "cell_type": "code",
   "execution_count": 28,
   "metadata": {},
   "outputs": [
    {
     "data": {
      "text/plain": [
       "count    826895.000000\n",
       "mean          0.848490\n",
       "std           0.358546\n",
       "min           0.000000\n",
       "25%           1.000000\n",
       "50%           1.000000\n",
       "75%           1.000000\n",
       "max           1.000000\n",
       "Name: rating, dtype: float64"
      ]
     },
     "metadata": {},
     "output_type": "display_data"
    },
    {
     "data": {
      "text/plain": [
       "'Данный признак содержит 0 пропусков'"
      ]
     },
     "metadata": {},
     "output_type": "display_data"
    },
    {
     "data": {
      "image/png": "[encoded data removed]",
      "text/plain": [
       "<Figure size 576x360 with 1 Axes>"
      ]
     },
     "metadata": {
      "needs_background": "light"
     },
     "output_type": "display_data"
    }
   ],
   "source": [
    "column_stats(train['rating'])"
   ]
  },
  {
   "cell_type": "code",
   "execution_count": 29,
   "metadata": {},
   "outputs": [
    {
     "data": {
      "text/plain": [
       "itemid  userid\n",
       "0       1         1.0\n",
       "        3         1.0\n",
       "        4         1.0\n",
       "        6         1.0\n",
       "        8         1.0\n",
       "                 ... \n",
       "41317   126153    0.0\n",
       "41318   70691     1.0\n",
       "        88460     1.0\n",
       "41319   35230     1.0\n",
       "        127461    1.0\n",
       "Name: rating, Length: 812698, dtype: float64"
      ]
     },
     "execution_count": 29,
     "metadata": {},
     "output_type": "execute_result"
    }
   ],
   "source": [
    "train.groupby(['itemid', 'userid']).rating.mean()"
   ]
  },
  {
   "cell_type": "markdown",
   "metadata": {},
   "source": [
    "# Посмотрим на данные в тестовом датасете:"
   ]
  },
  {
   "cell_type": "code",
   "execution_count": 30,
   "metadata": {},
   "outputs": [
    {
     "data": {
      "text/html": [
       "<div>\n",
       "<style scoped>\n",
       "    .dataframe tbody tr th:only-of-type {\n",
       "        vertical-align: middle;\n",
       "    }\n",
       "\n",
       "    .dataframe tbody tr th {\n",
       "        vertical-align: top;\n",
       "    }\n",
       "\n",
       "    .dataframe thead th {\n",
       "        text-align: right;\n",
       "    }\n",
       "</style>\n",
       "<table border=\"1\" class=\"dataframe\">\n",
       "  <thead>\n",
       "    <tr style=\"text-align: right;\">\n",
       "      <th></th>\n",
       "      <th>verified</th>\n",
       "      <th>reviewTime</th>\n",
       "      <th>asin</th>\n",
       "      <th>reviewerName</th>\n",
       "      <th>unixReviewTime</th>\n",
       "      <th>vote</th>\n",
       "      <th>style</th>\n",
       "      <th>image</th>\n",
       "      <th>userid</th>\n",
       "      <th>itemid</th>\n",
       "      <th>Id</th>\n",
       "    </tr>\n",
       "  </thead>\n",
       "  <tbody>\n",
       "    <tr>\n",
       "      <th>0</th>\n",
       "      <td>True</td>\n",
       "      <td>10 1, 2016</td>\n",
       "      <td>B001E5E3X0</td>\n",
       "      <td>Rudys Mom</td>\n",
       "      <td>1475280000</td>\n",
       "      <td>NaN</td>\n",
       "      <td>NaN</td>\n",
       "      <td>NaN</td>\n",
       "      <td>68877</td>\n",
       "      <td>7506</td>\n",
       "      <td>0</td>\n",
       "    </tr>\n",
       "    <tr>\n",
       "      <th>1</th>\n",
       "      <td>True</td>\n",
       "      <td>06 29, 2014</td>\n",
       "      <td>B005BYXX5E</td>\n",
       "      <td>pharg</td>\n",
       "      <td>1404000000</td>\n",
       "      <td>2</td>\n",
       "      <td>NaN</td>\n",
       "      <td>NaN</td>\n",
       "      <td>50442</td>\n",
       "      <td>15530</td>\n",
       "      <td>1</td>\n",
       "    </tr>\n",
       "    <tr>\n",
       "      <th>2</th>\n",
       "      <td>True</td>\n",
       "      <td>05 19, 2015</td>\n",
       "      <td>B0052OK6OO</td>\n",
       "      <td>dhalex</td>\n",
       "      <td>1431993600</td>\n",
       "      <td>NaN</td>\n",
       "      <td>NaN</td>\n",
       "      <td>NaN</td>\n",
       "      <td>64349</td>\n",
       "      <td>15049</td>\n",
       "      <td>2</td>\n",
       "    </tr>\n",
       "    <tr>\n",
       "      <th>3</th>\n",
       "      <td>True</td>\n",
       "      <td>10 5, 2014</td>\n",
       "      <td>B003SO8HGE</td>\n",
       "      <td>Vanessa</td>\n",
       "      <td>1412467200</td>\n",
       "      <td>NaN</td>\n",
       "      <td>{'Flavor:': ' Sweet Rose'}</td>\n",
       "      <td>NaN</td>\n",
       "      <td>26206</td>\n",
       "      <td>11957</td>\n",
       "      <td>3</td>\n",
       "    </tr>\n",
       "    <tr>\n",
       "      <th>4</th>\n",
       "      <td>True</td>\n",
       "      <td>11 11, 2013</td>\n",
       "      <td>B003XUJ564</td>\n",
       "      <td>R Mohrman</td>\n",
       "      <td>1384128000</td>\n",
       "      <td>3</td>\n",
       "      <td>{'Size:': ' 15 Ounce (Pack of 12)', 'Flavor:':...</td>\n",
       "      <td>NaN</td>\n",
       "      <td>59366</td>\n",
       "      <td>12173</td>\n",
       "      <td>4</td>\n",
       "    </tr>\n",
       "  </tbody>\n",
       "</table>\n",
       "</div>"
      ],
      "text/plain": [
       "   verified   reviewTime        asin reviewerName  unixReviewTime vote  \\\n",
       "0      True   10 1, 2016  B001E5E3X0    Rudys Mom      1475280000  NaN   \n",
       "1      True  06 29, 2014  B005BYXX5E        pharg      1404000000    2   \n",
       "2      True  05 19, 2015  B0052OK6OO       dhalex      1431993600  NaN   \n",
       "3      True   10 5, 2014  B003SO8HGE      Vanessa      1412467200  NaN   \n",
       "4      True  11 11, 2013  B003XUJ564    R Mohrman      1384128000    3   \n",
       "\n",
       "                                               style image  userid  itemid  Id  \n",
       "0                                                NaN   NaN   68877    7506   0  \n",
       "1                                                NaN   NaN   50442   15530   1  \n",
       "2                                                NaN   NaN   64349   15049   2  \n",
       "3                         {'Flavor:': ' Sweet Rose'}   NaN   26206   11957   3  \n",
       "4  {'Size:': ' 15 Ounce (Pack of 12)', 'Flavor:':...   NaN   59366   12173   4  "
      ]
     },
     "metadata": {},
     "output_type": "display_data"
    },
    {
     "name": "stdout",
     "output_type": "stream",
     "text": [
      "<class 'pandas.core.frame.DataFrame'>\n",
      "Int64Index: 285965 entries, 0 to 285964\n",
      "Data columns (total 11 columns):\n",
      " #   Column          Non-Null Count   Dtype \n",
      "---  ------          --------------   ----- \n",
      " 0   verified        285965 non-null  bool  \n",
      " 1   reviewTime      285965 non-null  object\n",
      " 2   asin            285965 non-null  object\n",
      " 3   reviewerName    285918 non-null  object\n",
      " 4   unixReviewTime  285965 non-null  int64 \n",
      " 5   vote            39462 non-null   object\n",
      " 6   style           147680 non-null  object\n",
      " 7   image           2368 non-null    object\n",
      " 8   userid          285965 non-null  int64 \n",
      " 9   itemid          285965 non-null  int64 \n",
      " 10  Id              285965 non-null  int64 \n",
      "dtypes: bool(1), int64(4), object(6)\n",
      "memory usage: 24.3+ MB\n"
     ]
    }
   ],
   "source": [
    "display(test.head(5))\n",
    "test.info()"
   ]
  },
  {
   "cell_type": "markdown",
   "metadata": {},
   "source": [
    "# verified"
   ]
  },
  {
   "cell_type": "code",
   "execution_count": 31,
   "metadata": {},
   "outputs": [
    {
     "data": {
      "text/plain": [
       "count     285965\n",
       "unique         2\n",
       "top         True\n",
       "freq      248604\n",
       "Name: verified, dtype: object"
      ]
     },
     "metadata": {},
     "output_type": "display_data"
    },
    {
     "data": {
      "text/plain": [
       "True     248604\n",
       "False     37361\n",
       "Name: verified, dtype: int64"
      ]
     },
     "metadata": {},
     "output_type": "display_data"
    },
    {
     "data": {
      "text/plain": [
       "'Данный признак содержит 0 пропусков'"
      ]
     },
     "metadata": {},
     "output_type": "display_data"
    }
   ],
   "source": [
    "column_stats(test['verified'])"
   ]
  },
  {
   "cell_type": "code",
   "execution_count": 32,
   "metadata": {},
   "outputs": [
    {
     "data": {
      "text/plain": [
       "count         285965\n",
       "unique          4349\n",
       "top       03 1, 2016\n",
       "freq             316\n",
       "Name: reviewTime, dtype: object"
      ]
     },
     "metadata": {},
     "output_type": "display_data"
    },
    {
     "data": {
      "text/plain": [
       "03 1, 2016     316\n",
       "01 20, 2016    301\n",
       "06 3, 2015     278\n",
       "07 14, 2016    271\n",
       "04 29, 2015    265\n",
       "              ... \n",
       "06 3, 2007       1\n",
       "01 29, 2007      1\n",
       "10 25, 2006      1\n",
       "10 16, 2006      1\n",
       "08 26, 2006      1\n",
       "Name: reviewTime, Length: 4349, dtype: int64"
      ]
     },
     "metadata": {},
     "output_type": "display_data"
    },
    {
     "data": {
      "text/plain": [
       "'Данный признак содержит 0 пропусков'"
      ]
     },
     "metadata": {},
     "output_type": "display_data"
    }
   ],
   "source": [
    "column_stats(test['reviewTime'])"
   ]
  },
  {
   "cell_type": "code",
   "execution_count": 33,
   "metadata": {},
   "outputs": [
    {
     "data": {
      "text/plain": [
       "count         285965\n",
       "unique         37876\n",
       "top       B00BUKL666\n",
       "freq            1896\n",
       "Name: asin, dtype: object"
      ]
     },
     "metadata": {},
     "output_type": "display_data"
    },
    {
     "data": {
      "text/plain": [
       "B00BUKL666    1896\n",
       "B008QMX2SG    1574\n",
       "B00D3M2QP4    1488\n",
       "B00R7PWK7W     840\n",
       "B0001LO3FG     796\n",
       "              ... \n",
       "B005TH72FK       1\n",
       "B0196ORRRO       1\n",
       "B01G5MRGDA       1\n",
       "B00BTI8446       1\n",
       "B00CJBR37G       1\n",
       "Name: asin, Length: 37876, dtype: int64"
      ]
     },
     "metadata": {},
     "output_type": "display_data"
    },
    {
     "data": {
      "text/plain": [
       "'Данный признак содержит 0 пропусков'"
      ]
     },
     "metadata": {},
     "output_type": "display_data"
    }
   ],
   "source": [
    "column_stats(test['asin'])"
   ]
  },
  {
   "cell_type": "code",
   "execution_count": 34,
   "metadata": {},
   "outputs": [
    {
     "data": {
      "text/plain": [
       "count              285918\n",
       "unique              86815\n",
       "top       Amazon Customer\n",
       "freq                10642\n",
       "Name: reviewerName, dtype: object"
      ]
     },
     "metadata": {},
     "output_type": "display_data"
    },
    {
     "data": {
      "text/plain": [
       "Amazon Customer    10642\n",
       "Kindle Customer     2060\n",
       "Linda                254\n",
       "John                 225\n",
       "Michael              195\n",
       "                   ...  \n",
       "Mary Hammond           1\n",
       "legf7                  1\n",
       "Niece                  1\n",
       "MLM Luy                1\n",
       "D. S. Ziegler          1\n",
       "Name: reviewerName, Length: 86815, dtype: int64"
      ]
     },
     "metadata": {},
     "output_type": "display_data"
    },
    {
     "data": {
      "text/plain": [
       "'Данный признак содержит 47 пропусков'"
      ]
     },
     "metadata": {},
     "output_type": "display_data"
    }
   ],
   "source": [
    "column_stats(test['reviewerName'])"
   ]
  },
  {
   "cell_type": "code",
   "execution_count": 35,
   "metadata": {},
   "outputs": [
    {
     "data": {
      "text/plain": [
       "count    2.859650e+05\n",
       "mean     1.441818e+09\n",
       "std      5.955711e+07\n",
       "min      1.023322e+09\n",
       "25%      1.411949e+09\n",
       "50%      1.449101e+09\n",
       "75%      1.484870e+09\n",
       "max      1.538438e+09\n",
       "Name: unixReviewTime, dtype: float64"
      ]
     },
     "metadata": {},
     "output_type": "display_data"
    },
    {
     "data": {
      "text/plain": [
       "'Данный признак содержит 0 пропусков'"
      ]
     },
     "metadata": {},
     "output_type": "display_data"
    },
    {
     "data": {
      "image/png": "[encoded data removed]",
      "text/plain": [
       "<Figure size 576x360 with 1 Axes>"
      ]
     },
     "metadata": {
      "needs_background": "light"
     },
     "output_type": "display_data"
    }
   ],
   "source": [
    "column_stats(test['unixReviewTime'])"
   ]
  },
  {
   "cell_type": "code",
   "execution_count": 36,
   "metadata": {},
   "outputs": [
    {
     "data": {
      "text/plain": [
       "count    2.859650e+05\n",
       "mean     1.441818e+09\n",
       "std      5.955711e+07\n",
       "min      1.023322e+09\n",
       "25%      1.411949e+09\n",
       "50%      1.449101e+09\n",
       "75%      1.484870e+09\n",
       "max      1.538438e+09\n",
       "Name: unixReviewTime, dtype: float64"
      ]
     },
     "metadata": {},
     "output_type": "display_data"
    },
    {
     "data": {
      "text/plain": [
       "'Данный признак содержит 0 пропусков'"
      ]
     },
     "metadata": {},
     "output_type": "display_data"
    },
    {
     "data": {
      "image/png": "[encoded data removed]",
      "text/plain": [
       "<Figure size 576x360 with 1 Axes>"
      ]
     },
     "metadata": {
      "needs_background": "light"
     },
     "output_type": "display_data"
    }
   ],
   "source": [
    "column_stats(test['unixReviewTime'])"
   ]
  },
  {
   "cell_type": "code",
   "execution_count": 37,
   "metadata": {},
   "outputs": [
    {
     "data": {
      "text/plain": [
       "count     39462\n",
       "unique      198\n",
       "top           2\n",
       "freq      14805\n",
       "Name: vote, dtype: object"
      ]
     },
     "metadata": {},
     "output_type": "display_data"
    },
    {
     "data": {
      "text/plain": [
       "2        14805\n",
       "3         7404\n",
       "4         4128\n",
       "5         2719\n",
       "6         2027\n",
       "7         1341\n",
       "8         1043\n",
       "9          818\n",
       "10         626\n",
       "11         525\n",
       "12         414\n",
       "13         350\n",
       "14         285\n",
       "15         250\n",
       "16         234\n",
       "17         201\n",
       "20         161\n",
       "18         155\n",
       "19         148\n",
       "21         119\n",
       "22         117\n",
       "24         101\n",
       "23          84\n",
       "25          72\n",
       "27          71\n",
       "26          68\n",
       "28          67\n",
       "30          62\n",
       "29          58\n",
       "34          47\n",
       "37          38\n",
       "31          38\n",
       "32          37\n",
       "33          34\n",
       "45          32\n",
       "35          32\n",
       "36          30\n",
       "40          29\n",
       "42          29\n",
       "46          25\n",
       "38          25\n",
       "43          24\n",
       "39          24\n",
       "44          20\n",
       "41          20\n",
       "50          17\n",
       "57          15\n",
       "49          15\n",
       "53          14\n",
       "47          14\n",
       "66          14\n",
       "63          13\n",
       "51          13\n",
       "52          13\n",
       "64          13\n",
       "59          12\n",
       "48          11\n",
       "76          11\n",
       "60          10\n",
       "61          10\n",
       "54          10\n",
       "75          10\n",
       "58           9\n",
       "56           9\n",
       "55           9\n",
       "85           9\n",
       "92           8\n",
       "70           7\n",
       "77           7\n",
       "73           7\n",
       "62           6\n",
       "91           6\n",
       "83           5\n",
       "67           5\n",
       "86           5\n",
       "142          4\n",
       "173          4\n",
       "88           4\n",
       "101          4\n",
       "100          4\n",
       "81           4\n",
       "68           4\n",
       "110          4\n",
       "108          4\n",
       "80           3\n",
       "140          3\n",
       "93           3\n",
       "107          3\n",
       "65           3\n",
       "168          3\n",
       "106          3\n",
       "72           3\n",
       "126          3\n",
       "96           3\n",
       "78           3\n",
       "105          3\n",
       "82           3\n",
       "84           3\n",
       "69           3\n",
       "71           3\n",
       "90           3\n",
       "104          3\n",
       "79           3\n",
       "195          3\n",
       "143          3\n",
       "94           3\n",
       "137          3\n",
       "156          3\n",
       "189          2\n",
       "261          2\n",
       "146          2\n",
       "181          2\n",
       "128          2\n",
       "87           2\n",
       "129          2\n",
       "74           2\n",
       "95           2\n",
       "199          2\n",
       "166          2\n",
       "169          2\n",
       "117          2\n",
       "99           2\n",
       "121          2\n",
       "248          2\n",
       "205          2\n",
       "179          2\n",
       "185          2\n",
       "138          2\n",
       "159          1\n",
       "304          1\n",
       "144          1\n",
       "152          1\n",
       "256          1\n",
       "325          1\n",
       "1,313        1\n",
       "178          1\n",
       "2,584        1\n",
       "251          1\n",
       "345          1\n",
       "197          1\n",
       "116          1\n",
       "612          1\n",
       "254          1\n",
       "118          1\n",
       "113          1\n",
       "127          1\n",
       "151          1\n",
       "119          1\n",
       "89           1\n",
       "891          1\n",
       "220          1\n",
       "123          1\n",
       "171          1\n",
       "213          1\n",
       "259          1\n",
       "191          1\n",
       "2,088        1\n",
       "555          1\n",
       "145          1\n",
       "716          1\n",
       "149          1\n",
       "290          1\n",
       "114          1\n",
       "300          1\n",
       "211          1\n",
       "174          1\n",
       "186          1\n",
       "115          1\n",
       "194          1\n",
       "302          1\n",
       "249          1\n",
       "752          1\n",
       "527          1\n",
       "2,061        1\n",
       "170          1\n",
       "257          1\n",
       "102          1\n",
       "184          1\n",
       "125          1\n",
       "122          1\n",
       "238          1\n",
       "531          1\n",
       "111          1\n",
       "192          1\n",
       "136          1\n",
       "480          1\n",
       "228          1\n",
       "408          1\n",
       "232          1\n",
       "154          1\n",
       "293          1\n",
       "644          1\n",
       "139          1\n",
       "382          1\n",
       "237          1\n",
       "188          1\n",
       "158          1\n",
       "206          1\n",
       "Name: vote, dtype: int64"
      ]
     },
     "metadata": {},
     "output_type": "display_data"
    },
    {
     "data": {
      "text/plain": [
       "'Данный признак содержит 246503 пропусков'"
      ]
     },
     "metadata": {},
     "output_type": "display_data"
    }
   ],
   "source": [
    "column_stats(test['vote'])"
   ]
  },
  {
   "cell_type": "code",
   "execution_count": 38,
   "metadata": {},
   "outputs": [
    {
     "data": {
      "text/plain": [
       "count                      147680\n",
       "unique                      18904\n",
       "top       {'Size:': ' Pack of 1'}\n",
       "freq                         1826\n",
       "Name: style, dtype: object"
      ]
     },
     "metadata": {},
     "output_type": "display_data"
    },
    {
     "data": {
      "text/plain": [
       "{'Size:': ' Pack of 1'}                                                       1826\n",
       "{'Package Quantity:': ' 1'}                                                   1576\n",
       "{'Package Type:': ' Standard Packaging'}                                      1326\n",
       "{'Size:': ' 1 Pack'}                                                          1312\n",
       "{'Size:': ' 24 Count'}                                                        1265\n",
       "                                                                              ... \n",
       "{'Size:': ' 14.1 Ounce (Pack of 12)', 'Flavor:': ' Chocolatey Strawberry'}       1\n",
       "{'Size:': ' 150 Pods', 'Flavor:': ' Miscela Oro'}                                1\n",
       "{'Style:': ' Without vase'}                                                      1\n",
       "{'Size:': ' 32-oz (12 Pack)', 'Flavor:': ' Chocolate'}                           1\n",
       "{'Size:': ' 30 oz', 'Style:': ' Lime'}                                           1\n",
       "Name: style, Length: 18904, dtype: int64"
      ]
     },
     "metadata": {},
     "output_type": "display_data"
    },
    {
     "data": {
      "text/plain": [
       "'Данный признак содержит 138285 пропусков'"
      ]
     },
     "metadata": {},
     "output_type": "display_data"
    }
   ],
   "source": [
    "column_stats(test['style'])"
   ]
  },
  {
   "cell_type": "code",
   "execution_count": 39,
   "metadata": {},
   "outputs": [
    {
     "data": {
      "text/plain": [
       "count                                                  2368\n",
       "unique                                                 2306\n",
       "top       ['https://images-na.ssl-images-amazon.com/imag...\n",
       "freq                                                      3\n",
       "Name: image, dtype: object"
      ]
     },
     "metadata": {},
     "output_type": "display_data"
    },
    {
     "data": {
      "text/plain": [
       "['https://images-na.ssl-images-amazon.com/images/I/71anmB-jMDL._SY88.jpg', 'https://images-na.ssl-images-amazon.com/images/I/71JlDG4cflL._SY88.jpg']                                                                                                                                                                                                                                  3\n",
       "['https://images-na.ssl-images-amazon.com/images/I/61LU9eMwKhL._SY88.jpg', 'https://images-na.ssl-images-amazon.com/images/I/61b2V9e-KOL._SY88.jpg', 'https://images-na.ssl-images-amazon.com/images/I/51L6pfOqXWL._SY88.jpg', 'https://images-na.ssl-images-amazon.com/images/I/51-LgT73vzL._SY88.jpg']                                                                              3\n",
       "['https://images-na.ssl-images-amazon.com/images/I/51vSf7KEj1L._SY88.jpg']                                                                                                                                                                                                                                                                                                            3\n",
       "['https://images-na.ssl-images-amazon.com/images/I/51XSMj8xcVL._SY88.jpg']                                                                                                                                                                                                                                                                                                            3\n",
       "['https://images-na.ssl-images-amazon.com/images/I/51V5q-Z2uOL._SY88.jpg']                                                                                                                                                                                                                                                                                                            3\n",
       "                                                                                                                                                                                                                                                                                                                                                                                     ..\n",
       "['https://images-na.ssl-images-amazon.com/images/I/61U+WvKYHtL._SY88.jpg', 'https://images-na.ssl-images-amazon.com/images/I/61HpfARQSXL._SY88.jpg', 'https://images-na.ssl-images-amazon.com/images/I/71xp1y6nMzL._SY88.jpg', 'https://images-na.ssl-images-amazon.com/images/I/7152wPAVNjL._SY88.jpg']                                                                              1\n",
       "['https://images-na.ssl-images-amazon.com/images/I/61tIMayt8mL._SY88.jpg']                                                                                                                                                                                                                                                                                                            1\n",
       "['https://images-na.ssl-images-amazon.com/images/I/71HD2oVwVWL._SY88.jpg']                                                                                                                                                                                                                                                                                                            1\n",
       "['https://images-na.ssl-images-amazon.com/images/I/81fH7ydtB5L._SY88.jpg']                                                                                                                                                                                                                                                                                                            1\n",
       "['https://images-na.ssl-images-amazon.com/images/I/7128rydrhjL._SY88.jpg', 'https://images-na.ssl-images-amazon.com/images/I/71PrnY4RWvL._SY88.jpg', 'https://images-na.ssl-images-amazon.com/images/I/71rQMc-k0yL._SY88.jpg', 'https://images-na.ssl-images-amazon.com/images/I/71E+urCuJrL._SY88.jpg', 'https://images-na.ssl-images-amazon.com/images/I/71BIlJNAq5L._SY88.jpg']    1\n",
       "Name: image, Length: 2306, dtype: int64"
      ]
     },
     "metadata": {},
     "output_type": "display_data"
    },
    {
     "data": {
      "text/plain": [
       "'Данный признак содержит 283597 пропусков'"
      ]
     },
     "metadata": {},
     "output_type": "display_data"
    }
   ],
   "source": [
    "column_stats(test['image'])"
   ]
  },
  {
   "cell_type": "markdown",
   "metadata": {},
   "source": [
    "Признак содержит большое количество пропусков, не несет большого влияния на целевую переменную, поэтому его можно удалить."
   ]
  },
  {
   "cell_type": "markdown",
   "metadata": {},
   "source": [
    "# Посмотрим на мета-словарь для продуктов:"
   ]
  },
  {
   "cell_type": "code",
   "execution_count": 5,
   "metadata": {},
   "outputs": [],
   "source": [
    "import json\n",
    "meta = []\n",
    "with open('meta_Grocery_and_Gourmet_Food.json', 'r') as in_file:\n",
    "    for line in in_file:\n",
    "        meta.append(json.loads(line))\n",
    "\n"
   ]
  },
  {
   "cell_type": "code",
   "execution_count": 6,
   "metadata": {},
   "outputs": [
    {
     "data": {
      "text/html": [
       "<div>\n",
       "<style scoped>\n",
       "    .dataframe tbody tr th:only-of-type {\n",
       "        vertical-align: middle;\n",
       "    }\n",
       "\n",
       "    .dataframe tbody tr th {\n",
       "        vertical-align: top;\n",
       "    }\n",
       "\n",
       "    .dataframe thead th {\n",
       "        text-align: right;\n",
       "    }\n",
       "</style>\n",
       "<table border=\"1\" class=\"dataframe\">\n",
       "  <thead>\n",
       "    <tr style=\"text-align: right;\">\n",
       "      <th></th>\n",
       "      <th>category</th>\n",
       "      <th>description</th>\n",
       "      <th>title</th>\n",
       "      <th>brand</th>\n",
       "      <th>rank</th>\n",
       "      <th>also_view</th>\n",
       "      <th>main_cat</th>\n",
       "      <th>price</th>\n",
       "      <th>asin</th>\n",
       "      <th>also_buy</th>\n",
       "      <th>image</th>\n",
       "      <th>date</th>\n",
       "      <th>feature</th>\n",
       "      <th>details</th>\n",
       "      <th>similar_item</th>\n",
       "      <th>tech1</th>\n",
       "      <th>fit</th>\n",
       "    </tr>\n",
       "  </thead>\n",
       "  <tbody>\n",
       "    <tr>\n",
       "      <th>0</th>\n",
       "      <td>[Grocery &amp; Gourmet Food, Dairy, Cheese &amp; Eggs,...</td>\n",
       "      <td>[BEEMSTER GOUDA CHEESE AGED 18/24 MONTHS, Stat...</td>\n",
       "      <td>Beemster Gouda - Aged 18/24 Months - App. 1.5 Lbs</td>\n",
       "      <td>Ariola Imports</td>\n",
       "      <td>165,181inGroceryGourmetFood(</td>\n",
       "      <td>[B0000D9MYM, B0000D9MYL, B00ADHIGBA, B00H9OX59...</td>\n",
       "      <td>Grocery</td>\n",
       "      <td>$41.91</td>\n",
       "      <td>0681727810</td>\n",
       "      <td>NaN</td>\n",
       "      <td>NaN</td>\n",
       "      <td>NaN</td>\n",
       "      <td>NaN</td>\n",
       "      <td>NaN</td>\n",
       "      <td>NaN</td>\n",
       "      <td>NaN</td>\n",
       "      <td>NaN</td>\n",
       "    </tr>\n",
       "    <tr>\n",
       "      <th>1</th>\n",
       "      <td>[Grocery &amp; Gourmet Food, Cooking &amp; Baking, Sug...</td>\n",
       "      <td>[Shipped from UK, please allow 10 to 21 busine...</td>\n",
       "      <td>Trim Healthy Mama Xylitol</td>\n",
       "      <td>NaN</td>\n",
       "      <td>315,867inGroceryGourmetFood(</td>\n",
       "      <td>NaN</td>\n",
       "      <td>Grocery</td>\n",
       "      <td>NaN</td>\n",
       "      <td>0853347867</td>\n",
       "      <td>[B01898YHXK, B01BCM6LAC, B00Q4OL47O, B00Q4OL5Q...</td>\n",
       "      <td>[https://images-na.ssl-images-amazon.com/image...</td>\n",
       "      <td>NaN</td>\n",
       "      <td>NaN</td>\n",
       "      <td>NaN</td>\n",
       "      <td>NaN</td>\n",
       "      <td>NaN</td>\n",
       "      <td>NaN</td>\n",
       "    </tr>\n",
       "    <tr>\n",
       "      <th>2</th>\n",
       "      <td>[Grocery &amp; Gourmet Food, Cooking &amp; Baking, Fro...</td>\n",
       "      <td>[Jazz up your cakes with a sparkling monogram ...</td>\n",
       "      <td>Letter C - Swarovski Crystal Monogram Wedding ...</td>\n",
       "      <td>Unik Occasions</td>\n",
       "      <td>&gt;#669,941 in Kitchen &amp; Dining (See Top 100 in ...</td>\n",
       "      <td>[B07DXN65TF]</td>\n",
       "      <td>Amazon Home</td>\n",
       "      <td>$29.95</td>\n",
       "      <td>1888861118</td>\n",
       "      <td>NaN</td>\n",
       "      <td>NaN</td>\n",
       "      <td>September 21, 2010</td>\n",
       "      <td>NaN</td>\n",
       "      <td>NaN</td>\n",
       "      <td>NaN</td>\n",
       "      <td>NaN</td>\n",
       "      <td>NaN</td>\n",
       "    </tr>\n",
       "    <tr>\n",
       "      <th>3</th>\n",
       "      <td>[Grocery &amp; Gourmet Food, Cooking &amp; Baking, Fro...</td>\n",
       "      <td>[Large Letter - Height 4.75\"]</td>\n",
       "      <td>Letter H - Swarovski Crystal Monogram Wedding ...</td>\n",
       "      <td>Other</td>\n",
       "      <td>&gt;#832,581 in Kitchen &amp; Dining (See Top 100 in ...</td>\n",
       "      <td>NaN</td>\n",
       "      <td>Amazon Home</td>\n",
       "      <td>$11.45</td>\n",
       "      <td>1888861517</td>\n",
       "      <td>NaN</td>\n",
       "      <td>NaN</td>\n",
       "      <td>September 11, 2011</td>\n",
       "      <td>[Large Letter - Height 4.75\"]</td>\n",
       "      <td>NaN</td>\n",
       "      <td>NaN</td>\n",
       "      <td>NaN</td>\n",
       "      <td>NaN</td>\n",
       "    </tr>\n",
       "    <tr>\n",
       "      <th>4</th>\n",
       "      <td>[Grocery &amp; Gourmet Food, Cooking &amp; Baking, Fro...</td>\n",
       "      <td>[4.75\"]</td>\n",
       "      <td>Letter S - Swarovski Crystal Monogram Wedding ...</td>\n",
       "      <td>Unik Occasions</td>\n",
       "      <td>&gt;#590,999 in Kitchen &amp; Dining (See Top 100 in ...</td>\n",
       "      <td>NaN</td>\n",
       "      <td>Amazon Home</td>\n",
       "      <td>$15.00</td>\n",
       "      <td>1888861614</td>\n",
       "      <td>NaN</td>\n",
       "      <td>NaN</td>\n",
       "      <td>September 11, 2011</td>\n",
       "      <td>[4.75\" height]</td>\n",
       "      <td>NaN</td>\n",
       "      <td>NaN</td>\n",
       "      <td>NaN</td>\n",
       "      <td>NaN</td>\n",
       "    </tr>\n",
       "  </tbody>\n",
       "</table>\n",
       "</div>"
      ],
      "text/plain": [
       "                                            category  \\\n",
       "0  [Grocery & Gourmet Food, Dairy, Cheese & Eggs,...   \n",
       "1  [Grocery & Gourmet Food, Cooking & Baking, Sug...   \n",
       "2  [Grocery & Gourmet Food, Cooking & Baking, Fro...   \n",
       "3  [Grocery & Gourmet Food, Cooking & Baking, Fro...   \n",
       "4  [Grocery & Gourmet Food, Cooking & Baking, Fro...   \n",
       "\n",
       "                                         description  \\\n",
       "0  [BEEMSTER GOUDA CHEESE AGED 18/24 MONTHS, Stat...   \n",
       "1  [Shipped from UK, please allow 10 to 21 busine...   \n",
       "2  [Jazz up your cakes with a sparkling monogram ...   \n",
       "3                      [Large Letter - Height 4.75\"]   \n",
       "4                                            [4.75\"]   \n",
       "\n",
       "                                               title           brand  \\\n",
       "0  Beemster Gouda - Aged 18/24 Months - App. 1.5 Lbs  Ariola Imports   \n",
       "1                          Trim Healthy Mama Xylitol             NaN   \n",
       "2  Letter C - Swarovski Crystal Monogram Wedding ...  Unik Occasions   \n",
       "3  Letter H - Swarovski Crystal Monogram Wedding ...           Other   \n",
       "4  Letter S - Swarovski Crystal Monogram Wedding ...  Unik Occasions   \n",
       "\n",
       "                                                rank  \\\n",
       "0                       165,181inGroceryGourmetFood(   \n",
       "1                       315,867inGroceryGourmetFood(   \n",
       "2  >#669,941 in Kitchen & Dining (See Top 100 in ...   \n",
       "3  >#832,581 in Kitchen & Dining (See Top 100 in ...   \n",
       "4  >#590,999 in Kitchen & Dining (See Top 100 in ...   \n",
       "\n",
       "                                           also_view     main_cat   price  \\\n",
       "0  [B0000D9MYM, B0000D9MYL, B00ADHIGBA, B00H9OX59...      Grocery  $41.91   \n",
       "1                                                NaN      Grocery     NaN   \n",
       "2                                       [B07DXN65TF]  Amazon Home  $29.95   \n",
       "3                                                NaN  Amazon Home  $11.45   \n",
       "4                                                NaN  Amazon Home  $15.00   \n",
       "\n",
       "         asin                                           also_buy  \\\n",
       "0  0681727810                                                NaN   \n",
       "1  0853347867  [B01898YHXK, B01BCM6LAC, B00Q4OL47O, B00Q4OL5Q...   \n",
       "2  1888861118                                                NaN   \n",
       "3  1888861517                                                NaN   \n",
       "4  1888861614                                                NaN   \n",
       "\n",
       "                                               image                date  \\\n",
       "0                                                NaN                 NaN   \n",
       "1  [https://images-na.ssl-images-amazon.com/image...                 NaN   \n",
       "2                                                NaN  September 21, 2010   \n",
       "3                                                NaN  September 11, 2011   \n",
       "4                                                NaN  September 11, 2011   \n",
       "\n",
       "                         feature details similar_item tech1  fit  \n",
       "0                            NaN     NaN          NaN   NaN  NaN  \n",
       "1                            NaN     NaN          NaN   NaN  NaN  \n",
       "2                            NaN     NaN          NaN   NaN  NaN  \n",
       "3  [Large Letter - Height 4.75\"]     NaN          NaN   NaN  NaN  \n",
       "4                 [4.75\" height]     NaN          NaN   NaN  NaN  "
      ]
     },
     "execution_count": 6,
     "metadata": {},
     "output_type": "execute_result"
    }
   ],
   "source": [
    "df = pd.DataFrame(meta)\n",
    "df.head()"
   ]
  },
  {
   "cell_type": "code",
   "execution_count": 42,
   "metadata": {},
   "outputs": [
    {
     "name": "stdout",
     "output_type": "stream",
     "text": [
      "<class 'pandas.core.frame.DataFrame'>\n",
      "RangeIndex: 287209 entries, 0 to 287208\n",
      "Data columns (total 17 columns):\n",
      " #   Column        Non-Null Count   Dtype \n",
      "---  ------        --------------   ----- \n",
      " 0   category      287209 non-null  object\n",
      " 1   description   251802 non-null  object\n",
      " 2   title         287205 non-null  object\n",
      " 3   brand         275787 non-null  object\n",
      " 4   rank          275494 non-null  object\n",
      " 5   also_view     121012 non-null  object\n",
      " 6   main_cat      285716 non-null  object\n",
      " 7   price         132136 non-null  object\n",
      " 8   asin          287209 non-null  object\n",
      " 9   also_buy      83332 non-null   object\n",
      " 10  image         150214 non-null  object\n",
      " 11  date          9663 non-null    object\n",
      " 12  feature       16374 non-null   object\n",
      " 13  details       273323 non-null  object\n",
      " 14  similar_item  256 non-null     object\n",
      " 15  tech1         744 non-null     object\n",
      " 16  fit           4 non-null       object\n",
      "dtypes: object(17)\n",
      "memory usage: 37.3+ MB\n"
     ]
    }
   ],
   "source": [
    "df.info()"
   ]
  },
  {
   "cell_type": "code",
   "execution_count": 8,
   "metadata": {},
   "outputs": [],
   "source": [
    "#Создадим фичи для продуктов\n",
    "# сосчитаем, сколько всего отзывов на товар было оставлено\n",
    "df['count_rev'] = train[['itemid', 'unixReviewTime']].groupby('itemid').count() \n",
    "df['asin'] = train[['itemid', 'asin']].groupby('itemid').first()"
   ]
  },
  {
   "cell_type": "code",
   "execution_count": 9,
   "metadata": {},
   "outputs": [],
   "source": [
    "df['item_id'] = df.index"
   ]
  },
  {
   "cell_type": "code",
   "execution_count": 10,
   "metadata": {},
   "outputs": [],
   "source": [
    "# добавим среднюю оценку для каждого товара\n",
    "df['overall_mean'] = train[['itemid', 'overall']].groupby('itemid').mean()"
   ]
  },
  {
   "cell_type": "code",
   "execution_count": 47,
   "metadata": {
    "scrolled": true
   },
   "outputs": [
    {
     "data": {
      "text/plain": [
       "<matplotlib.collections.PathCollection at 0x18d86b58b48>"
      ]
     },
     "execution_count": 47,
     "metadata": {},
     "output_type": "execute_result"
    },
    {
     "data": {
      "image/png": "[encoded data removed]",
      "text/plain": [
       "<Figure size 432x288 with 1 Axes>"
      ]
     },
     "metadata": {
      "needs_background": "light"
     },
     "output_type": "display_data"
    }
   ],
   "source": [
    "# Посмотрим на зависимость средней оценки от количетсва отзывов\n",
    "plt.scatter(df.count_rev, df.overall_mean)"
   ]
  },
  {
   "cell_type": "markdown",
   "metadata": {},
   "source": [
    "По нашему графику видно, что для часто покупаемых товаров характерны высокие оценки"
   ]
  },
  {
   "cell_type": "code",
   "execution_count": 11,
   "metadata": {},
   "outputs": [],
   "source": [
    "# оставим категорию самую последнюю\n",
    "df['category'] = df['category'].apply(lambda x: x[-1])"
   ]
  },
  {
   "cell_type": "code",
   "execution_count": 12,
   "metadata": {},
   "outputs": [
    {
     "name": "stdout",
     "output_type": "stream",
     "text": [
      "всего категорий: 1175\n"
     ]
    }
   ],
   "source": [
    "#присваиваем каждой категории свой id\n",
    "set_category = set(df.category.unique())\n",
    "print(f'всего категорий: {len(set_category)}')\n",
    "mapper = dict(zip(set_category, range(len(set_category))))\n",
    "df['cat_id'] = df['category'].apply(lambda x: mapper[x])"
   ]
  },
  {
   "cell_type": "code",
   "execution_count": 13,
   "metadata": {},
   "outputs": [],
   "source": [
    "#Заменяем пропуски\n",
    "df['main_cat'].fillna('Other', inplace = True)\n",
    "df['brand'].fillna('Other', inplace = True)\n",
    "df['price'].fillna('NA', inplace = True)"
   ]
  },
  {
   "cell_type": "code",
   "execution_count": 14,
   "metadata": {},
   "outputs": [
    {
     "data": {
      "text/html": [
       "<div>\n",
       "<style scoped>\n",
       "    .dataframe tbody tr th:only-of-type {\n",
       "        vertical-align: middle;\n",
       "    }\n",
       "\n",
       "    .dataframe tbody tr th {\n",
       "        vertical-align: top;\n",
       "    }\n",
       "\n",
       "    .dataframe thead th {\n",
       "        text-align: right;\n",
       "    }\n",
       "</style>\n",
       "<table border=\"1\" class=\"dataframe\">\n",
       "  <thead>\n",
       "    <tr style=\"text-align: right;\">\n",
       "      <th></th>\n",
       "      <th>item_id</th>\n",
       "      <th>category</th>\n",
       "      <th>title</th>\n",
       "      <th>brand</th>\n",
       "      <th>main_cat</th>\n",
       "      <th>price</th>\n",
       "      <th>asin</th>\n",
       "      <th>count_rev</th>\n",
       "      <th>overall_mean</th>\n",
       "      <th>cat_id</th>\n",
       "    </tr>\n",
       "  </thead>\n",
       "  <tbody>\n",
       "    <tr>\n",
       "      <th>0</th>\n",
       "      <td>0</td>\n",
       "      <td>Gouda</td>\n",
       "      <td>Beemster Gouda - Aged 18/24 Months - App. 1.5 Lbs</td>\n",
       "      <td>Ariola Imports</td>\n",
       "      <td>Grocery</td>\n",
       "      <td>$41.91</td>\n",
       "      <td>4639725183</td>\n",
       "      <td>8.0</td>\n",
       "      <td>4.875000</td>\n",
       "      <td>736</td>\n",
       "    </tr>\n",
       "    <tr>\n",
       "      <th>1</th>\n",
       "      <td>1</td>\n",
       "      <td>Xylitol</td>\n",
       "      <td>Trim Healthy Mama Xylitol</td>\n",
       "      <td>Other</td>\n",
       "      <td>Grocery</td>\n",
       "      <td>NA</td>\n",
       "      <td>4639725043</td>\n",
       "      <td>21.0</td>\n",
       "      <td>4.190476</td>\n",
       "      <td>619</td>\n",
       "    </tr>\n",
       "    <tr>\n",
       "      <th>2</th>\n",
       "      <td>2</td>\n",
       "      <td>Cake Toppers</td>\n",
       "      <td>Letter C - Swarovski Crystal Monogram Wedding ...</td>\n",
       "      <td>Unik Occasions</td>\n",
       "      <td>Amazon Home</td>\n",
       "      <td>$29.95</td>\n",
       "      <td>5463213682</td>\n",
       "      <td>7.0</td>\n",
       "      <td>4.857143</td>\n",
       "      <td>962</td>\n",
       "    </tr>\n",
       "    <tr>\n",
       "      <th>3</th>\n",
       "      <td>3</td>\n",
       "      <td>Cake Toppers</td>\n",
       "      <td>Letter H - Swarovski Crystal Monogram Wedding ...</td>\n",
       "      <td>Other</td>\n",
       "      <td>Amazon Home</td>\n",
       "      <td>$11.45</td>\n",
       "      <td>9742356831</td>\n",
       "      <td>74.0</td>\n",
       "      <td>4.581081</td>\n",
       "      <td>962</td>\n",
       "    </tr>\n",
       "    <tr>\n",
       "      <th>4</th>\n",
       "      <td>4</td>\n",
       "      <td>Cake Toppers</td>\n",
       "      <td>Letter S - Swarovski Crystal Monogram Wedding ...</td>\n",
       "      <td>Unik Occasions</td>\n",
       "      <td>Amazon Home</td>\n",
       "      <td>$15.00</td>\n",
       "      <td>B00004S1C5</td>\n",
       "      <td>10.0</td>\n",
       "      <td>4.400000</td>\n",
       "      <td>962</td>\n",
       "    </tr>\n",
       "  </tbody>\n",
       "</table>\n",
       "</div>"
      ],
      "text/plain": [
       "   item_id      category                                              title  \\\n",
       "0        0         Gouda  Beemster Gouda - Aged 18/24 Months - App. 1.5 Lbs   \n",
       "1        1       Xylitol                          Trim Healthy Mama Xylitol   \n",
       "2        2  Cake Toppers  Letter C - Swarovski Crystal Monogram Wedding ...   \n",
       "3        3  Cake Toppers  Letter H - Swarovski Crystal Monogram Wedding ...   \n",
       "4        4  Cake Toppers  Letter S - Swarovski Crystal Monogram Wedding ...   \n",
       "\n",
       "            brand     main_cat   price        asin  count_rev  overall_mean  \\\n",
       "0  Ariola Imports      Grocery  $41.91  4639725183        8.0      4.875000   \n",
       "1           Other      Grocery      NA  4639725043       21.0      4.190476   \n",
       "2  Unik Occasions  Amazon Home  $29.95  5463213682        7.0      4.857143   \n",
       "3           Other  Amazon Home  $11.45  9742356831       74.0      4.581081   \n",
       "4  Unik Occasions  Amazon Home  $15.00  B00004S1C5       10.0      4.400000   \n",
       "\n",
       "   cat_id  \n",
       "0     736  \n",
       "1     619  \n",
       "2     962  \n",
       "3     962  \n",
       "4     962  "
      ]
     },
     "execution_count": 14,
     "metadata": {},
     "output_type": "execute_result"
    }
   ],
   "source": [
    "items = df[['item_id','category', 'title', 'brand', 'main_cat', 'price', 'asin', 'count_rev', 'overall_mean','cat_id']]\n",
    "items.head()\n"
   ]
  },
  {
   "cell_type": "code",
   "execution_count": 15,
   "metadata": {},
   "outputs": [],
   "source": [
    "items=items.drop_duplicates(keep='first') #удалим дубликаты из датасета с описанием товаров"
   ]
  },
  {
   "cell_type": "code",
   "execution_count": 16,
   "metadata": {},
   "outputs": [],
   "source": [
    "items = items.dropna(axis=0) # удалим строки с пропусками"
   ]
  },
  {
   "cell_type": "code",
   "execution_count": 17,
   "metadata": {},
   "outputs": [
    {
     "name": "stdout",
     "output_type": "stream",
     "text": [
      "<class 'pandas.core.frame.DataFrame'>\n",
      "Int64Index: 41301 entries, 0 to 41319\n",
      "Data columns (total 10 columns):\n",
      " #   Column        Non-Null Count  Dtype  \n",
      "---  ------        --------------  -----  \n",
      " 0   item_id       41301 non-null  int64  \n",
      " 1   category      41301 non-null  object \n",
      " 2   title         41301 non-null  object \n",
      " 3   brand         41301 non-null  object \n",
      " 4   main_cat      41301 non-null  object \n",
      " 5   price         41301 non-null  object \n",
      " 6   asin          41301 non-null  object \n",
      " 7   count_rev     41301 non-null  float64\n",
      " 8   overall_mean  41301 non-null  float64\n",
      " 9   cat_id        41301 non-null  int64  \n",
      "dtypes: float64(2), int64(2), object(6)\n",
      "memory usage: 3.5+ MB\n"
     ]
    }
   ],
   "source": [
    "items.info()"
   ]
  },
  {
   "cell_type": "code",
   "execution_count": 18,
   "metadata": {},
   "outputs": [],
   "source": [
    "# запишем получившийся датафрейм в файл\n",
    "items.to_csv('data/items1.csv')"
   ]
  },
  {
   "cell_type": "markdown",
   "metadata": {},
   "source": [
    "# 2. Обработка данных\n"
   ]
  },
  {
   "cell_type": "code",
   "execution_count": 56,
   "metadata": {},
   "outputs": [
    {
     "data": {
      "text/html": [
       "<div>\n",
       "<style scoped>\n",
       "    .dataframe tbody tr th:only-of-type {\n",
       "        vertical-align: middle;\n",
       "    }\n",
       "\n",
       "    .dataframe tbody tr th {\n",
       "        vertical-align: top;\n",
       "    }\n",
       "\n",
       "    .dataframe thead th {\n",
       "        text-align: right;\n",
       "    }\n",
       "</style>\n",
       "<table border=\"1\" class=\"dataframe\">\n",
       "  <thead>\n",
       "    <tr style=\"text-align: right;\">\n",
       "      <th></th>\n",
       "      <th>overall</th>\n",
       "      <th>verified</th>\n",
       "      <th>reviewTime</th>\n",
       "      <th>asin</th>\n",
       "      <th>reviewerName</th>\n",
       "      <th>unixReviewTime</th>\n",
       "      <th>vote</th>\n",
       "      <th>userid</th>\n",
       "      <th>itemid</th>\n",
       "      <th>rating</th>\n",
       "      <th>lenRev</th>\n",
       "      <th>lenSum</th>\n",
       "    </tr>\n",
       "  </thead>\n",
       "  <tbody>\n",
       "    <tr>\n",
       "      <th>0</th>\n",
       "      <td>5.0</td>\n",
       "      <td>True</td>\n",
       "      <td>2016-10-04</td>\n",
       "      <td>B01CPNIEQG</td>\n",
       "      <td>Heather</td>\n",
       "      <td>1475539200</td>\n",
       "      <td>NaN</td>\n",
       "      <td>102179</td>\n",
       "      <td>37138</td>\n",
       "      <td>1.0</td>\n",
       "      <td>231</td>\n",
       "      <td>31</td>\n",
       "    </tr>\n",
       "    <tr>\n",
       "      <th>1</th>\n",
       "      <td>5.0</td>\n",
       "      <td>True</td>\n",
       "      <td>2016-03-01</td>\n",
       "      <td>B006F63M8U</td>\n",
       "      <td>Linda Odom</td>\n",
       "      <td>1456790400</td>\n",
       "      <td>NaN</td>\n",
       "      <td>3625</td>\n",
       "      <td>17322</td>\n",
       "      <td>1.0</td>\n",
       "      <td>81</td>\n",
       "      <td>39</td>\n",
       "    </tr>\n",
       "    <tr>\n",
       "      <th>2</th>\n",
       "      <td>5.0</td>\n",
       "      <td>True</td>\n",
       "      <td>2016-06-26</td>\n",
       "      <td>B00112O8NG</td>\n",
       "      <td>DesertBlossom</td>\n",
       "      <td>1466899200</td>\n",
       "      <td>28.0</td>\n",
       "      <td>39495</td>\n",
       "      <td>5600</td>\n",
       "      <td>1.0</td>\n",
       "      <td>1541</td>\n",
       "      <td>56</td>\n",
       "    </tr>\n",
       "    <tr>\n",
       "      <th>3</th>\n",
       "      <td>5.0</td>\n",
       "      <td>True</td>\n",
       "      <td>2013-09-05</td>\n",
       "      <td>B00MRAQUM8</td>\n",
       "      <td>Connie L. Reaves</td>\n",
       "      <td>1378339200</td>\n",
       "      <td>NaN</td>\n",
       "      <td>72854</td>\n",
       "      <td>30249</td>\n",
       "      <td>1.0</td>\n",
       "      <td>252</td>\n",
       "      <td>6</td>\n",
       "    </tr>\n",
       "    <tr>\n",
       "      <th>4</th>\n",
       "      <td>5.0</td>\n",
       "      <td>True</td>\n",
       "      <td>2016-09-14</td>\n",
       "      <td>B000R7RN0G</td>\n",
       "      <td>Mike P.</td>\n",
       "      <td>1473811200</td>\n",
       "      <td>NaN</td>\n",
       "      <td>74859</td>\n",
       "      <td>4349</td>\n",
       "      <td>1.0</td>\n",
       "      <td>119</td>\n",
       "      <td>43</td>\n",
       "    </tr>\n",
       "    <tr>\n",
       "      <th>...</th>\n",
       "      <td>...</td>\n",
       "      <td>...</td>\n",
       "      <td>...</td>\n",
       "      <td>...</td>\n",
       "      <td>...</td>\n",
       "      <td>...</td>\n",
       "      <td>...</td>\n",
       "      <td>...</td>\n",
       "      <td>...</td>\n",
       "      <td>...</td>\n",
       "      <td>...</td>\n",
       "      <td>...</td>\n",
       "    </tr>\n",
       "    <tr>\n",
       "      <th>857889</th>\n",
       "      <td>5.0</td>\n",
       "      <td>True</td>\n",
       "      <td>2016-11-04</td>\n",
       "      <td>B008QMX2SG</td>\n",
       "      <td>B. M. C</td>\n",
       "      <td>1478217600</td>\n",
       "      <td>NaN</td>\n",
       "      <td>70292</td>\n",
       "      <td>24556</td>\n",
       "      <td>1.0</td>\n",
       "      <td>20</td>\n",
       "      <td>7</td>\n",
       "    </tr>\n",
       "    <tr>\n",
       "      <th>857890</th>\n",
       "      <td>5.0</td>\n",
       "      <td>True</td>\n",
       "      <td>2013-04-02</td>\n",
       "      <td>B000H7ELTW</td>\n",
       "      <td>chezlouise</td>\n",
       "      <td>1364860800</td>\n",
       "      <td>NaN</td>\n",
       "      <td>59433</td>\n",
       "      <td>2566</td>\n",
       "      <td>1.0</td>\n",
       "      <td>284</td>\n",
       "      <td>37</td>\n",
       "    </tr>\n",
       "    <tr>\n",
       "      <th>857892</th>\n",
       "      <td>4.0</td>\n",
       "      <td>False</td>\n",
       "      <td>2016-09-21</td>\n",
       "      <td>B000LKX6R8</td>\n",
       "      <td>bamboo grove</td>\n",
       "      <td>1474416000</td>\n",
       "      <td>NaN</td>\n",
       "      <td>88</td>\n",
       "      <td>3251</td>\n",
       "      <td>1.0</td>\n",
       "      <td>183</td>\n",
       "      <td>31</td>\n",
       "    </tr>\n",
       "    <tr>\n",
       "      <th>857893</th>\n",
       "      <td>4.0</td>\n",
       "      <td>True</td>\n",
       "      <td>2015-11-01</td>\n",
       "      <td>B00BUKL666</td>\n",
       "      <td>Speedway91</td>\n",
       "      <td>1446336000</td>\n",
       "      <td>NaN</td>\n",
       "      <td>41540</td>\n",
       "      <td>22208</td>\n",
       "      <td>1.0</td>\n",
       "      <td>182</td>\n",
       "      <td>15</td>\n",
       "    </tr>\n",
       "    <tr>\n",
       "      <th>857894</th>\n",
       "      <td>5.0</td>\n",
       "      <td>True</td>\n",
       "      <td>2017-08-03</td>\n",
       "      <td>B000JJHDVG</td>\n",
       "      <td>Elizabeth E. Castor</td>\n",
       "      <td>1501718400</td>\n",
       "      <td>NaN</td>\n",
       "      <td>466</td>\n",
       "      <td>2931</td>\n",
       "      <td>1.0</td>\n",
       "      <td>88</td>\n",
       "      <td>10</td>\n",
       "    </tr>\n",
       "  </tbody>\n",
       "</table>\n",
       "<p>812698 rows × 12 columns</p>\n",
       "</div>"
      ],
      "text/plain": [
       "        overall  verified reviewTime        asin         reviewerName  \\\n",
       "0           5.0      True 2016-10-04  B01CPNIEQG              Heather   \n",
       "1           5.0      True 2016-03-01  B006F63M8U           Linda Odom   \n",
       "2           5.0      True 2016-06-26  B00112O8NG        DesertBlossom   \n",
       "3           5.0      True 2013-09-05  B00MRAQUM8     Connie L. Reaves   \n",
       "4           5.0      True 2016-09-14  B000R7RN0G              Mike P.   \n",
       "...         ...       ...        ...         ...                  ...   \n",
       "857889      5.0      True 2016-11-04  B008QMX2SG              B. M. C   \n",
       "857890      5.0      True 2013-04-02  B000H7ELTW           chezlouise   \n",
       "857892      4.0     False 2016-09-21  B000LKX6R8         bamboo grove   \n",
       "857893      4.0      True 2015-11-01  B00BUKL666           Speedway91   \n",
       "857894      5.0      True 2017-08-03  B000JJHDVG  Elizabeth E. Castor   \n",
       "\n",
       "        unixReviewTime  vote  userid  itemid  rating  lenRev  lenSum  \n",
       "0           1475539200   NaN  102179   37138     1.0     231      31  \n",
       "1           1456790400   NaN    3625   17322     1.0      81      39  \n",
       "2           1466899200  28.0   39495    5600     1.0    1541      56  \n",
       "3           1378339200   NaN   72854   30249     1.0     252       6  \n",
       "4           1473811200   NaN   74859    4349     1.0     119      43  \n",
       "...                ...   ...     ...     ...     ...     ...     ...  \n",
       "857889      1478217600   NaN   70292   24556     1.0      20       7  \n",
       "857890      1364860800   NaN   59433    2566     1.0     284      37  \n",
       "857892      1474416000   NaN      88    3251     1.0     183      31  \n",
       "857893      1446336000   NaN   41540   22208     1.0     182      15  \n",
       "857894      1501718400   NaN     466    2931     1.0      88      10  \n",
       "\n",
       "[812698 rows x 12 columns]"
      ]
     },
     "execution_count": 56,
     "metadata": {},
     "output_type": "execute_result"
    }
   ],
   "source": [
    "# удалим колонку reviewerName из тренировочного датасета\n",
    "train.drop('reviewerName', axis = 1, inplace = True)\n",
    "\n",
    "# переведем дату в формат datetime. \n",
    "# Дублирующий столбец unixReviwTime удалать не будем\n",
    "train.reviewTime = pd.to_datetime(train.reviewTime)\n",
    "\n",
    "# удалим дублирующиеся отзывы, так как при построении разреженной матрицы значения рейтингов складываются. \n",
    "# Это не отражает реальную ситуацию\n",
    "train.drop_duplicates(subset=['userid', 'itemid'], keep='last', inplace=True)\n",
    "\n",
    "# удалим столбцы style, image, summary и reviewText\n",
    "train.drop(['style', 'image','summary', 'reviewText'], axis=1, inplace=True)\n",
    "\n",
    "train"
   ]
  },
  {
   "cell_type": "code",
   "execution_count": 57,
   "metadata": {},
   "outputs": [],
   "source": [
    "# запишем получившийся датафрейм в файл\n",
    "train.to_csv('train_pr1.csv')"
   ]
  },
  {
   "cell_type": "code",
   "execution_count": 58,
   "metadata": {},
   "outputs": [
    {
     "name": "stdout",
     "output_type": "stream",
     "text": [
      "<class 'pandas.core.frame.DataFrame'>\n",
      "Int64Index: 812698 entries, 0 to 857894\n",
      "Data columns (total 12 columns):\n",
      " #   Column          Non-Null Count   Dtype         \n",
      "---  ------          --------------   -----         \n",
      " 0   overall         812698 non-null  float64       \n",
      " 1   verified        812698 non-null  bool          \n",
      " 2   reviewTime      812698 non-null  datetime64[ns]\n",
      " 3   asin            812698 non-null  object        \n",
      " 4   reviewerName    812534 non-null  object        \n",
      " 5   unixReviewTime  812698 non-null  int64         \n",
      " 6   vote            111797 non-null  float64       \n",
      " 7   userid          812698 non-null  int64         \n",
      " 8   itemid          812698 non-null  int64         \n",
      " 9   rating          812698 non-null  float64       \n",
      " 10  lenRev          812698 non-null  int64         \n",
      " 11  lenSum          812698 non-null  int64         \n",
      "dtypes: bool(1), datetime64[ns](1), float64(3), int64(5), object(2)\n",
      "memory usage: 75.2+ MB\n"
     ]
    }
   ],
   "source": [
    "train.info()"
   ]
  },
  {
   "cell_type": "code",
   "execution_count": 59,
   "metadata": {},
   "outputs": [
    {
     "data": {
      "image/png": "[encoded data removed]",
      "text/plain": [
       "<Figure size 1224x576 with 2 Axes>"
      ]
     },
     "metadata": {
      "needs_background": "light"
     },
     "output_type": "display_data"
    }
   ],
   "source": [
    "#Посмотрим на корреляции в трейне\n",
    "corr=train.corr()\n",
    "\n",
    "sns.set_context(\"notebook\", font_scale=1.0, rc={\"lines.linewidth\": 2.5})\n",
    "plt.figure(figsize=(17,8))\n",
    "a = sns.heatmap(corr, annot=True, fmt='.2f')\n",
    "rotx = a.set_xticklabels(a.get_xticklabels(), rotation=90)\n",
    "roty = a.set_yticklabels(a.get_yticklabels(), rotation=0)"
   ]
  },
  {
   "cell_type": "markdown",
   "metadata": {},
   "source": [
    "Анализ показал, корреляции между независимыми признаками достаточно слабы, поэтому для дальнейшего обучения ограничимся только несколькими из них для демонстрации работы алгоритма с матрицей item-features."
   ]
  },
  {
   "cell_type": "markdown",
   "metadata": {},
   "source": [
    "Перейдем к построению модели."
   ]
  },
  {
   "cell_type": "code",
   "execution_count": null,
   "metadata": {},
   "outputs": [],
   "source": []
  }
 ],
 "metadata": {
  "kernelspec": {
   "display_name": "Python 3",
   "language": "python",
   "name": "python3"
  },
  "language_info": {
   "codemirror_mode": {
    "name": "ipython",
    "version": 3
   },
   "file_extension": ".py",
   "mimetype": "text/x-python",
   "name": "python",
   "nbconvert_exporter": "python",
   "pygments_lexer": "ipython3",
   "version": "3.7.7"
  }
 },
 "nbformat": 4,
 "nbformat_minor": 4
}
